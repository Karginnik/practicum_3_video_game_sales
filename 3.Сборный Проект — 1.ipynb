{
 "cells": [
  {
   "cell_type": "markdown",
   "metadata": {},
   "source": [
    "# Исследование данных о продажах видеоигр в интернет-магазине"
   ]
  },
  {
   "cell_type": "markdown",
   "metadata": {},
   "source": [
    "## Введение"
   ]
  },
  {
   "cell_type": "markdown",
   "metadata": {},
   "source": [
    "Работа проводиться в интернет-магазине «Стримчик», который продаёт по всему миру компьютерные игры. Из открытых источников доступны исторические данные о продажах игр, оценки пользователей и экспертов, жанры и платформы (например, Xbox или PlayStation). Нужно выявить определяющие успешность игры закономерности. Это позволит сделать ставку на потенциально популярный продукт и спланировать рекламные кампании.\n",
    "Перед нами данные до 2016 года. Представим, что сейчас декабрь 2016 г., и мы планируем кампанию на 2017-й.\n",
    "\n",
    "План работы:\n",
    "1. Подготовка данных к анализу.\n",
    "2. Исследовательский анализ данных.\n",
    "3. Составление портрета пользователя для каждого региона.\n",
    "4. Статистический анализ данных.\n",
    "5. Вывод и рекомендации \n",
    "\n",
    "Описание данных\n",
    "- Name — название игры\n",
    "- Platform — платформа\n",
    "- Year_of_Release — год выпуска\n",
    "- Genre — жанр игры\n",
    "- NA_sales — продажи в Северной Америке (миллионы проданных копий)\n",
    "- EU_sales — продажи в Европе (миллионы проданных копий)\n",
    "- JP_sales — продажи в Японии (миллионы проданных копий)\n",
    "- Other_sales — продажи в других странах (миллионы проданных копий)\n",
    "- Critic_Score — оценка критиков (максимум 100)\n",
    "- User_Score — оценка пользователей (максимум 10)\n",
    "- Rating — рейтинг от организации ESRB (англ. Entertainment Software Rating Board). Эта ассоциация определяет рейтинг компьютерных игр и присваивает им подходящую возрастную категорию.\n",
    "\n",
    "Данные за 2016 год могут быть неполными.\n"
   ]
  },
  {
   "cell_type": "markdown",
   "metadata": {},
   "source": [
    "## Предобработка данных."
   ]
  },
  {
   "cell_type": "markdown",
   "metadata": {},
   "source": [
    "Импортируем необходимые библиотеки"
   ]
  },
  {
   "cell_type": "code",
   "execution_count": 1,
   "metadata": {},
   "outputs": [],
   "source": [
    "import matplotlib.pyplot as plt\n",
    "import pandas as pd\n",
    "from scipy import stats as st"
   ]
  },
  {
   "cell_type": "markdown",
   "metadata": {},
   "source": [
    "Загрузим датафрейм и выведем его первые 5 строк"
   ]
  },
  {
   "cell_type": "code",
   "execution_count": 2,
   "metadata": {},
   "outputs": [
    {
     "data": {
      "text/html": [
       "<div>\n",
       "<style scoped>\n",
       "    .dataframe tbody tr th:only-of-type {\n",
       "        vertical-align: middle;\n",
       "    }\n",
       "\n",
       "    .dataframe tbody tr th {\n",
       "        vertical-align: top;\n",
       "    }\n",
       "\n",
       "    .dataframe thead th {\n",
       "        text-align: right;\n",
       "    }\n",
       "</style>\n",
       "<table border=\"1\" class=\"dataframe\">\n",
       "  <thead>\n",
       "    <tr style=\"text-align: right;\">\n",
       "      <th></th>\n",
       "      <th>Name</th>\n",
       "      <th>Platform</th>\n",
       "      <th>Year_of_Release</th>\n",
       "      <th>Genre</th>\n",
       "      <th>NA_sales</th>\n",
       "      <th>EU_sales</th>\n",
       "      <th>JP_sales</th>\n",
       "      <th>Other_sales</th>\n",
       "      <th>Critic_Score</th>\n",
       "      <th>User_Score</th>\n",
       "      <th>Rating</th>\n",
       "    </tr>\n",
       "  </thead>\n",
       "  <tbody>\n",
       "    <tr>\n",
       "      <th>0</th>\n",
       "      <td>Wii Sports</td>\n",
       "      <td>Wii</td>\n",
       "      <td>2006.0</td>\n",
       "      <td>Sports</td>\n",
       "      <td>41.36</td>\n",
       "      <td>28.96</td>\n",
       "      <td>3.77</td>\n",
       "      <td>8.45</td>\n",
       "      <td>76.0</td>\n",
       "      <td>8</td>\n",
       "      <td>E</td>\n",
       "    </tr>\n",
       "    <tr>\n",
       "      <th>1</th>\n",
       "      <td>Super Mario Bros.</td>\n",
       "      <td>NES</td>\n",
       "      <td>1985.0</td>\n",
       "      <td>Platform</td>\n",
       "      <td>29.08</td>\n",
       "      <td>3.58</td>\n",
       "      <td>6.81</td>\n",
       "      <td>0.77</td>\n",
       "      <td>NaN</td>\n",
       "      <td>NaN</td>\n",
       "      <td>NaN</td>\n",
       "    </tr>\n",
       "    <tr>\n",
       "      <th>2</th>\n",
       "      <td>Mario Kart Wii</td>\n",
       "      <td>Wii</td>\n",
       "      <td>2008.0</td>\n",
       "      <td>Racing</td>\n",
       "      <td>15.68</td>\n",
       "      <td>12.76</td>\n",
       "      <td>3.79</td>\n",
       "      <td>3.29</td>\n",
       "      <td>82.0</td>\n",
       "      <td>8.3</td>\n",
       "      <td>E</td>\n",
       "    </tr>\n",
       "    <tr>\n",
       "      <th>3</th>\n",
       "      <td>Wii Sports Resort</td>\n",
       "      <td>Wii</td>\n",
       "      <td>2009.0</td>\n",
       "      <td>Sports</td>\n",
       "      <td>15.61</td>\n",
       "      <td>10.93</td>\n",
       "      <td>3.28</td>\n",
       "      <td>2.95</td>\n",
       "      <td>80.0</td>\n",
       "      <td>8</td>\n",
       "      <td>E</td>\n",
       "    </tr>\n",
       "    <tr>\n",
       "      <th>4</th>\n",
       "      <td>Pokemon Red/Pokemon Blue</td>\n",
       "      <td>GB</td>\n",
       "      <td>1996.0</td>\n",
       "      <td>Role-Playing</td>\n",
       "      <td>11.27</td>\n",
       "      <td>8.89</td>\n",
       "      <td>10.22</td>\n",
       "      <td>1.00</td>\n",
       "      <td>NaN</td>\n",
       "      <td>NaN</td>\n",
       "      <td>NaN</td>\n",
       "    </tr>\n",
       "  </tbody>\n",
       "</table>\n",
       "</div>"
      ],
      "text/plain": [
       "                       Name Platform  Year_of_Release         Genre  NA_sales  \\\n",
       "0                Wii Sports      Wii           2006.0        Sports     41.36   \n",
       "1         Super Mario Bros.      NES           1985.0      Platform     29.08   \n",
       "2            Mario Kart Wii      Wii           2008.0        Racing     15.68   \n",
       "3         Wii Sports Resort      Wii           2009.0        Sports     15.61   \n",
       "4  Pokemon Red/Pokemon Blue       GB           1996.0  Role-Playing     11.27   \n",
       "\n",
       "   EU_sales  JP_sales  Other_sales  Critic_Score User_Score Rating  \n",
       "0     28.96      3.77         8.45          76.0          8      E  \n",
       "1      3.58      6.81         0.77           NaN        NaN    NaN  \n",
       "2     12.76      3.79         3.29          82.0        8.3      E  \n",
       "3     10.93      3.28         2.95          80.0          8      E  \n",
       "4      8.89     10.22         1.00           NaN        NaN    NaN  "
      ]
     },
     "execution_count": 2,
     "metadata": {},
     "output_type": "execute_result"
    }
   ],
   "source": [
    "try:   \n",
    "    data = pd.read_csv('/datasets/games.csv')\n",
    "except:\n",
    "    data = pd.read_csv('https://code.s3.yandex.net/datasets/games.csv')\n",
    "\n",
    "data.head()"
   ]
  },
  {
   "cell_type": "markdown",
   "metadata": {},
   "source": [
    "Узнаем общую информацию про полученный датафрейм"
   ]
  },
  {
   "cell_type": "code",
   "execution_count": 3,
   "metadata": {
    "scrolled": true
   },
   "outputs": [
    {
     "name": "stdout",
     "output_type": "stream",
     "text": [
      "<class 'pandas.core.frame.DataFrame'>\n",
      "RangeIndex: 16715 entries, 0 to 16714\n",
      "Data columns (total 11 columns):\n",
      " #   Column           Non-Null Count  Dtype  \n",
      "---  ------           --------------  -----  \n",
      " 0   Name             16713 non-null  object \n",
      " 1   Platform         16715 non-null  object \n",
      " 2   Year_of_Release  16446 non-null  float64\n",
      " 3   Genre            16713 non-null  object \n",
      " 4   NA_sales         16715 non-null  float64\n",
      " 5   EU_sales         16715 non-null  float64\n",
      " 6   JP_sales         16715 non-null  float64\n",
      " 7   Other_sales      16715 non-null  float64\n",
      " 8   Critic_Score     8137 non-null   float64\n",
      " 9   User_Score       10014 non-null  object \n",
      " 10  Rating           9949 non-null   object \n",
      "dtypes: float64(6), object(5)\n",
      "memory usage: 1.4+ MB\n"
     ]
    }
   ],
   "source": [
    "data.info()"
   ]
  },
  {
   "cell_type": "markdown",
   "metadata": {},
   "source": [
    "Все названия столбцов начинаются с заглавной буквы, что не соответствует правилам оформления змеиного регистра. Приведем их к нужной форме. "
   ]
  },
  {
   "cell_type": "code",
   "execution_count": 4,
   "metadata": {},
   "outputs": [],
   "source": [
    "data = data.rename(str.lower, axis='columns')"
   ]
  },
  {
   "cell_type": "markdown",
   "metadata": {},
   "source": [
    "Обработаем пропуски в датафрейме.\n",
    "\n",
    "Для начала выведем их общее количество. \n"
   ]
  },
  {
   "cell_type": "code",
   "execution_count": 5,
   "metadata": {
    "scrolled": true
   },
   "outputs": [
    {
     "data": {
      "text/plain": [
       "name                  2\n",
       "platform              0\n",
       "year_of_release     269\n",
       "genre                 2\n",
       "na_sales              0\n",
       "eu_sales              0\n",
       "jp_sales              0\n",
       "other_sales           0\n",
       "critic_score       8578\n",
       "user_score         6701\n",
       "rating             6766\n",
       "dtype: int64"
      ]
     },
     "execution_count": 5,
     "metadata": {},
     "output_type": "execute_result"
    }
   ],
   "source": [
    "data.isna().sum()"
   ]
  },
  {
   "cell_type": "markdown",
   "metadata": {},
   "source": [
    "Обработаем пропуски в столбце name.\n",
    "\n",
    "Пропусков в столбце name всего 2, можно их удалить, так как это не приведет к значительным изменениям в дальнейшем изучении нашего датафрейма.  \n"
   ]
  },
  {
   "cell_type": "code",
   "execution_count": 6,
   "metadata": {},
   "outputs": [],
   "source": [
    "data = data.dropna(subset=['name'])"
   ]
  },
  {
   "cell_type": "markdown",
   "metadata": {},
   "source": [
    "Обработаем пропуски в столбце year_of_release.\n",
    "\n",
    "Некоторые игры выходили на нескольких платформах одновременно. Если у игры с неизвестной датой релиза есть дата релиза на другой платформе, то примем дату первого известного релиза этой игры."
   ]
  },
  {
   "cell_type": "code",
   "execution_count": 7,
   "metadata": {},
   "outputs": [],
   "source": [
    "for n in data.loc[data['year_of_release'].isna(), 'name']:\n",
    "    data.loc[(data['name'] == n) & (data['year_of_release'].isna()), 'year_of_release'] = \\\n",
    "    data.loc[(data['name'] == n) & (~data['year_of_release'].isna()), 'year_of_release'].min()"
   ]
  },
  {
   "cell_type": "markdown",
   "metadata": {},
   "source": [
    "Некоторое количество пропусков мы убрали.\n",
    "\n",
    "Обычно у игр с жанром “Спортивный симулятор” присутствует год в названии. Дата выпуска таких игр соответствует году в названии минус 1 год.\n",
    "Найдем оставшиеся игры с пропуском в колонке year_of_release и заполним по такой логике. "
   ]
  },
  {
   "cell_type": "code",
   "execution_count": 8,
   "metadata": {
    "scrolled": false
   },
   "outputs": [
    {
     "name": "stdout",
     "output_type": "stream",
     "text": [
      "wwe Smackdown vs. Raw 2006\n",
      "Triple Play 99\n",
      "NFL GameDay 2003\n",
      "All-Star Baseball 2005\n",
      "All-Star Baseball 2005\n",
      "Drake of the 99 Dragons\n",
      "Sega Rally 2006\n",
      "Football Manager 2007\n"
     ]
    }
   ],
   "source": [
    "for i in data.loc[data['year_of_release'].isna(), 'name']:\n",
    "    if ('200' in i) or ('9' in i):\n",
    "        print(i)"
   ]
  },
  {
   "cell_type": "code",
   "execution_count": 9,
   "metadata": {},
   "outputs": [],
   "source": [
    "data.loc[(data['name'] == 'wwe Smackdown vs. Raw 2006') | (data['name'] == 'Sega Rally 2006'), 'year_of_release'] = 2005\n",
    "data.loc[data['name'] == 'Triple Play 99', 'year_of_release'] = 1998\n",
    "data.loc[data['name'] == 'NFL GameDay 2003', 'year_of_release'] = 2002\n",
    "data.loc[data['name'] == 'All-Star Baseball 2005', 'year_of_release'] = 2004\n",
    "data.loc[data['name'] == 'Football Manager 2007', 'year_of_release'] = 2006"
   ]
  },
  {
   "cell_type": "markdown",
   "metadata": {},
   "source": [
    "Обработаем пропуски в столбце rating.\n",
    "\n",
    "Возьмем значения возрастной категории у другой такой же игры, только с другой платформы, т.к. возрастная категория не должна зависеть от платформы."
   ]
  },
  {
   "cell_type": "code",
   "execution_count": 10,
   "metadata": {},
   "outputs": [],
   "source": [
    "for m in data.loc[data['rating'].isna(), 'name']:\n",
    "    data.loc[(data['name'] == m) & (data['rating'].isna()), 'rating'] = \\\n",
    "    data.loc[(data['name'] == m) & (~data['rating'].isna()), 'rating'].min()"
   ]
  },
  {
   "cell_type": "markdown",
   "metadata": {},
   "source": [
    "Остальные пропуски в столбце rating заменим заглушкой “Unknown” "
   ]
  },
  {
   "cell_type": "code",
   "execution_count": 11,
   "metadata": {},
   "outputs": [],
   "source": [
    "data['rating'] = data['rating'].fillna('Unknown')"
   ]
  },
  {
   "cell_type": "markdown",
   "metadata": {},
   "source": [
    "Оставшиеся количество пропусков:"
   ]
  },
  {
   "cell_type": "code",
   "execution_count": 12,
   "metadata": {
    "scrolled": true
   },
   "outputs": [
    {
     "data": {
      "text/plain": [
       "name                  0\n",
       "platform              0\n",
       "year_of_release     139\n",
       "genre                 0\n",
       "na_sales              0\n",
       "eu_sales              0\n",
       "jp_sales              0\n",
       "other_sales           0\n",
       "critic_score       8576\n",
       "user_score         6699\n",
       "rating                0\n",
       "dtype: int64"
      ]
     },
     "execution_count": 12,
     "metadata": {},
     "output_type": "execute_result"
    }
   ],
   "source": [
    "data.isna().sum()"
   ]
  },
  {
   "cell_type": "markdown",
   "metadata": {},
   "source": [
    "Оставшиеся пропуски оставим как есть и вот почему: колонку year_of_release не получится корректно заполнить средним или медианой, так как игры могут выходить в любое время не зависимо от какого-либо фактора, а колонки critic_score, user_score и rating имеют слишком много пропусков и если запонять все эти пропуски самому, то это может сильно отразиться на дальнейшим исследовании.\n"
   ]
  },
  {
   "cell_type": "markdown",
   "metadata": {},
   "source": [
    "**Какие причины могут привести к пропускам:**\n",
    "\n",
    "* Колонка name – вероятно, ошибка выгрузки или наоборот ошибка при первоначальном заполнении. Хотя такая причина применима и к пропускам в других столбцах, поэтому далее ее упоминать не будем.\n",
    "* Колонка year_of_release – может быть игра совсем старая и точную дату выпуска сложно найти в открытых источниках.\n",
    "* Колонка critic_score, user_score – вероятно, что игра совсем новая и оценки не успели сформироваться. Может быть, игра выходила ограниченным тиражом, и она не набрала нужное количество голосов для корректного отображения оценки на сайте. Может быть игра совсем старая и оценки, которые выставляли на тот момент, не сохранились на текущий момент времени.\n",
    "* Колонка rating – присваиванием рейтинга занимается определенная организация, ее параметры рейтинга могут меняться со временем и в тот момент, когда они меняют критерии, старые критерии утрачивают свою силу, приходиться переписывать старые значения на новые, в такой момент может произойти неожиданное затирание. \n"
   ]
  },
  {
   "cell_type": "markdown",
   "metadata": {},
   "source": [
    "В колонке user_score присутствует параметр “tbd” – аббревиатура от английского To Be Determined (будет определено) (определение взято из открытого источника). Это означает что игра не набрала достаточное количество голосов для формирования оценки."
   ]
  },
  {
   "cell_type": "markdown",
   "metadata": {},
   "source": [
    "Преобразуем данные в нужные типы.\n",
    "\n",
    "Выведем еще раз общую информацию."
   ]
  },
  {
   "cell_type": "code",
   "execution_count": 13,
   "metadata": {},
   "outputs": [
    {
     "name": "stdout",
     "output_type": "stream",
     "text": [
      "<class 'pandas.core.frame.DataFrame'>\n",
      "Int64Index: 16713 entries, 0 to 16714\n",
      "Data columns (total 11 columns):\n",
      " #   Column           Non-Null Count  Dtype  \n",
      "---  ------           --------------  -----  \n",
      " 0   name             16713 non-null  object \n",
      " 1   platform         16713 non-null  object \n",
      " 2   year_of_release  16574 non-null  float64\n",
      " 3   genre            16713 non-null  object \n",
      " 4   na_sales         16713 non-null  float64\n",
      " 5   eu_sales         16713 non-null  float64\n",
      " 6   jp_sales         16713 non-null  float64\n",
      " 7   other_sales      16713 non-null  float64\n",
      " 8   critic_score     8137 non-null   float64\n",
      " 9   user_score       10014 non-null  object \n",
      " 10  rating           16713 non-null  object \n",
      "dtypes: float64(6), object(5)\n",
      "memory usage: 1.5+ MB\n"
     ]
    }
   ],
   "source": [
    "data.info()"
   ]
  },
  {
   "cell_type": "markdown",
   "metadata": {},
   "source": [
    "Из полученной информации видно, что хотелось бы преобразовать колонку year_of_release в int, из-за того, что год не может быть с дробной частью, но из-за оставшихся пропусков мы не можем это сделать. Преобразуем колонку user_score в тип float, так как хотелось бы представить оценки как число с плавающей точкой. Значения ‘tbd’ заменим на None."
   ]
  },
  {
   "cell_type": "code",
   "execution_count": 14,
   "metadata": {},
   "outputs": [],
   "source": [
    "data['user_score'] = pd.to_numeric(data['user_score'], errors='coerce')"
   ]
  },
  {
   "cell_type": "markdown",
   "metadata": {},
   "source": [
    "Проверим есть ли в датафрейме дубликаты.  "
   ]
  },
  {
   "cell_type": "code",
   "execution_count": 15,
   "metadata": {},
   "outputs": [
    {
     "data": {
      "text/plain": [
       "0"
      ]
     },
     "execution_count": 15,
     "metadata": {},
     "output_type": "execute_result"
    }
   ],
   "source": [
    "data.duplicated().sum()"
   ]
  },
  {
   "cell_type": "markdown",
   "metadata": {},
   "source": [
    "Дубликатов нет!   "
   ]
  },
  {
   "cell_type": "markdown",
   "metadata": {},
   "source": [
    "Создадим столбец total_sales, который объединяет столбцы na_sales, eu_sales, jp_sales.   "
   ]
  },
  {
   "cell_type": "code",
   "execution_count": 16,
   "metadata": {},
   "outputs": [],
   "source": [
    "data['total_sales'] = data['na_sales'] + data['eu_sales'] + data['jp_sales'] + data['other_sales']"
   ]
  },
  {
   "cell_type": "markdown",
   "metadata": {},
   "source": [
    "Посчитаем общие продажи по регионам."
   ]
  },
  {
   "cell_type": "code",
   "execution_count": 17,
   "metadata": {},
   "outputs": [
    {
     "data": {
      "text/plain": [
       "na_sales       4400.57\n",
       "eu_sales       2424.14\n",
       "jp_sales       1297.34\n",
       "other_sales     791.24\n",
       "dtype: float64"
      ]
     },
     "execution_count": 17,
     "metadata": {},
     "output_type": "execute_result"
    }
   ],
   "source": [
    "data_total_sales = data[['na_sales','eu_sales','jp_sales','other_sales']].sum()\n",
    "data_total_sales"
   ]
  },
  {
   "cell_type": "markdown",
   "metadata": {},
   "source": [
    "Отобразим полученные данные на столбчатой диаграмме."
   ]
  },
  {
   "cell_type": "code",
   "execution_count": 18,
   "metadata": {
    "scrolled": false
   },
   "outputs": [
    {
     "data": {
      "image/png": "[encoded data removed]",
      "text/plain": [
       "<Figure size 720x360 with 1 Axes>"
      ]
     },
     "metadata": {
      "needs_background": "light"
     },
     "output_type": "display_data"
    }
   ],
   "source": [
    "data_total_sales.plot.bar(figsize=(10,5));\n",
    "plt.title('Общее количество продаж по регионам')\n",
    "plt.show()"
   ]
  },
  {
   "cell_type": "markdown",
   "metadata": {},
   "source": [
    "Вывод: Наибольшие количество продаж наблюдается в NA регионе. Количество продаж в NA регионе больше суммы продаж в остальных регионах."
   ]
  },
  {
   "cell_type": "markdown",
   "metadata": {},
   "source": [
    "## Исследовательский анализ данных."
   ]
  },
  {
   "cell_type": "markdown",
   "metadata": {},
   "source": [
    "Посмотрим сколько игр выпускалось в разные годы."
   ]
  },
  {
   "cell_type": "code",
   "execution_count": 19,
   "metadata": {
    "scrolled": true
   },
   "outputs": [
    {
     "data": {
      "text/html": [
       "<div>\n",
       "<style scoped>\n",
       "    .dataframe tbody tr th:only-of-type {\n",
       "        vertical-align: middle;\n",
       "    }\n",
       "\n",
       "    .dataframe tbody tr th {\n",
       "        vertical-align: top;\n",
       "    }\n",
       "\n",
       "    .dataframe thead th {\n",
       "        text-align: right;\n",
       "    }\n",
       "</style>\n",
       "<table border=\"1\" class=\"dataframe\">\n",
       "  <thead>\n",
       "    <tr style=\"text-align: right;\">\n",
       "      <th></th>\n",
       "      <th>name</th>\n",
       "    </tr>\n",
       "    <tr>\n",
       "      <th>year_of_release</th>\n",
       "      <th></th>\n",
       "    </tr>\n",
       "  </thead>\n",
       "  <tbody>\n",
       "    <tr>\n",
       "      <th>1980.0</th>\n",
       "      <td>9</td>\n",
       "    </tr>\n",
       "    <tr>\n",
       "      <th>1981.0</th>\n",
       "      <td>46</td>\n",
       "    </tr>\n",
       "    <tr>\n",
       "      <th>1982.0</th>\n",
       "      <td>36</td>\n",
       "    </tr>\n",
       "    <tr>\n",
       "      <th>1983.0</th>\n",
       "      <td>17</td>\n",
       "    </tr>\n",
       "    <tr>\n",
       "      <th>1984.0</th>\n",
       "      <td>14</td>\n",
       "    </tr>\n",
       "    <tr>\n",
       "      <th>1985.0</th>\n",
       "      <td>14</td>\n",
       "    </tr>\n",
       "    <tr>\n",
       "      <th>1986.0</th>\n",
       "      <td>21</td>\n",
       "    </tr>\n",
       "    <tr>\n",
       "      <th>1987.0</th>\n",
       "      <td>16</td>\n",
       "    </tr>\n",
       "    <tr>\n",
       "      <th>1988.0</th>\n",
       "      <td>15</td>\n",
       "    </tr>\n",
       "    <tr>\n",
       "      <th>1989.0</th>\n",
       "      <td>17</td>\n",
       "    </tr>\n",
       "    <tr>\n",
       "      <th>1990.0</th>\n",
       "      <td>16</td>\n",
       "    </tr>\n",
       "    <tr>\n",
       "      <th>1991.0</th>\n",
       "      <td>42</td>\n",
       "    </tr>\n",
       "    <tr>\n",
       "      <th>1992.0</th>\n",
       "      <td>43</td>\n",
       "    </tr>\n",
       "    <tr>\n",
       "      <th>1993.0</th>\n",
       "      <td>60</td>\n",
       "    </tr>\n",
       "    <tr>\n",
       "      <th>1994.0</th>\n",
       "      <td>122</td>\n",
       "    </tr>\n",
       "    <tr>\n",
       "      <th>1995.0</th>\n",
       "      <td>219</td>\n",
       "    </tr>\n",
       "    <tr>\n",
       "      <th>1996.0</th>\n",
       "      <td>263</td>\n",
       "    </tr>\n",
       "    <tr>\n",
       "      <th>1997.0</th>\n",
       "      <td>290</td>\n",
       "    </tr>\n",
       "    <tr>\n",
       "      <th>1998.0</th>\n",
       "      <td>380</td>\n",
       "    </tr>\n",
       "    <tr>\n",
       "      <th>1999.0</th>\n",
       "      <td>339</td>\n",
       "    </tr>\n",
       "    <tr>\n",
       "      <th>2000.0</th>\n",
       "      <td>351</td>\n",
       "    </tr>\n",
       "    <tr>\n",
       "      <th>2001.0</th>\n",
       "      <td>486</td>\n",
       "    </tr>\n",
       "    <tr>\n",
       "      <th>2002.0</th>\n",
       "      <td>846</td>\n",
       "    </tr>\n",
       "    <tr>\n",
       "      <th>2003.0</th>\n",
       "      <td>783</td>\n",
       "    </tr>\n",
       "    <tr>\n",
       "      <th>2004.0</th>\n",
       "      <td>766</td>\n",
       "    </tr>\n",
       "    <tr>\n",
       "      <th>2005.0</th>\n",
       "      <td>950</td>\n",
       "    </tr>\n",
       "    <tr>\n",
       "      <th>2006.0</th>\n",
       "      <td>1019</td>\n",
       "    </tr>\n",
       "    <tr>\n",
       "      <th>2007.0</th>\n",
       "      <td>1202</td>\n",
       "    </tr>\n",
       "    <tr>\n",
       "      <th>2008.0</th>\n",
       "      <td>1441</td>\n",
       "    </tr>\n",
       "    <tr>\n",
       "      <th>2009.0</th>\n",
       "      <td>1430</td>\n",
       "    </tr>\n",
       "    <tr>\n",
       "      <th>2010.0</th>\n",
       "      <td>1269</td>\n",
       "    </tr>\n",
       "    <tr>\n",
       "      <th>2011.0</th>\n",
       "      <td>1153</td>\n",
       "    </tr>\n",
       "    <tr>\n",
       "      <th>2012.0</th>\n",
       "      <td>662</td>\n",
       "    </tr>\n",
       "    <tr>\n",
       "      <th>2013.0</th>\n",
       "      <td>548</td>\n",
       "    </tr>\n",
       "    <tr>\n",
       "      <th>2014.0</th>\n",
       "      <td>581</td>\n",
       "    </tr>\n",
       "    <tr>\n",
       "      <th>2015.0</th>\n",
       "      <td>606</td>\n",
       "    </tr>\n",
       "    <tr>\n",
       "      <th>2016.0</th>\n",
       "      <td>502</td>\n",
       "    </tr>\n",
       "  </tbody>\n",
       "</table>\n",
       "</div>"
      ],
      "text/plain": [
       "                 name\n",
       "year_of_release      \n",
       "1980.0              9\n",
       "1981.0             46\n",
       "1982.0             36\n",
       "1983.0             17\n",
       "1984.0             14\n",
       "1985.0             14\n",
       "1986.0             21\n",
       "1987.0             16\n",
       "1988.0             15\n",
       "1989.0             17\n",
       "1990.0             16\n",
       "1991.0             42\n",
       "1992.0             43\n",
       "1993.0             60\n",
       "1994.0            122\n",
       "1995.0            219\n",
       "1996.0            263\n",
       "1997.0            290\n",
       "1998.0            380\n",
       "1999.0            339\n",
       "2000.0            351\n",
       "2001.0            486\n",
       "2002.0            846\n",
       "2003.0            783\n",
       "2004.0            766\n",
       "2005.0            950\n",
       "2006.0           1019\n",
       "2007.0           1202\n",
       "2008.0           1441\n",
       "2009.0           1430\n",
       "2010.0           1269\n",
       "2011.0           1153\n",
       "2012.0            662\n",
       "2013.0            548\n",
       "2014.0            581\n",
       "2015.0            606\n",
       "2016.0            502"
      ]
     },
     "execution_count": 19,
     "metadata": {},
     "output_type": "execute_result"
    }
   ],
   "source": [
    "data_games_in_year = data.pivot_table(index='year_of_release', values='name', aggfunc='count')\n",
    "data_games_in_year"
   ]
  },
  {
   "cell_type": "code",
   "execution_count": 20,
   "metadata": {
    "scrolled": false
   },
   "outputs": [
    {
     "data": {
      "image/png": "[encoded data removed]",
      "text/plain": [
       "<Figure size 1080x360 with 1 Axes>"
      ]
     },
     "metadata": {
      "needs_background": "light"
     },
     "output_type": "display_data"
    }
   ],
   "source": [
    "data_games_in_year.plot.bar(figsize=(15,5));\n",
    "plt.title('Количество выпущенных игр за определенный год')\n",
    "plt.show()"
   ]
  },
  {
   "cell_type": "markdown",
   "metadata": {},
   "source": [
    "Посмотрим сколько игр выпускалось в разные годы."
   ]
  },
  {
   "cell_type": "code",
   "execution_count": 21,
   "metadata": {
    "scrolled": true
   },
   "outputs": [
    {
     "data": {
      "text/html": [
       "<div>\n",
       "<style scoped>\n",
       "    .dataframe tbody tr th:only-of-type {\n",
       "        vertical-align: middle;\n",
       "    }\n",
       "\n",
       "    .dataframe tbody tr th {\n",
       "        vertical-align: top;\n",
       "    }\n",
       "\n",
       "    .dataframe thead th {\n",
       "        text-align: right;\n",
       "    }\n",
       "</style>\n",
       "<table border=\"1\" class=\"dataframe\">\n",
       "  <thead>\n",
       "    <tr style=\"text-align: right;\">\n",
       "      <th></th>\n",
       "      <th>name</th>\n",
       "    </tr>\n",
       "    <tr>\n",
       "      <th>year_of_release</th>\n",
       "      <th></th>\n",
       "    </tr>\n",
       "  </thead>\n",
       "  <tbody>\n",
       "    <tr>\n",
       "      <th>1980.0</th>\n",
       "      <td>8</td>\n",
       "    </tr>\n",
       "    <tr>\n",
       "      <th>1981.0</th>\n",
       "      <td>43</td>\n",
       "    </tr>\n",
       "    <tr>\n",
       "      <th>1982.0</th>\n",
       "      <td>33</td>\n",
       "    </tr>\n",
       "    <tr>\n",
       "      <th>1983.0</th>\n",
       "      <td>16</td>\n",
       "    </tr>\n",
       "    <tr>\n",
       "      <th>1984.0</th>\n",
       "      <td>13</td>\n",
       "    </tr>\n",
       "    <tr>\n",
       "      <th>1985.0</th>\n",
       "      <td>13</td>\n",
       "    </tr>\n",
       "    <tr>\n",
       "      <th>1986.0</th>\n",
       "      <td>21</td>\n",
       "    </tr>\n",
       "    <tr>\n",
       "      <th>1987.0</th>\n",
       "      <td>15</td>\n",
       "    </tr>\n",
       "    <tr>\n",
       "      <th>1988.0</th>\n",
       "      <td>11</td>\n",
       "    </tr>\n",
       "    <tr>\n",
       "      <th>1989.0</th>\n",
       "      <td>14</td>\n",
       "    </tr>\n",
       "    <tr>\n",
       "      <th>1990.0</th>\n",
       "      <td>14</td>\n",
       "    </tr>\n",
       "    <tr>\n",
       "      <th>1991.0</th>\n",
       "      <td>40</td>\n",
       "    </tr>\n",
       "    <tr>\n",
       "      <th>1992.0</th>\n",
       "      <td>37</td>\n",
       "    </tr>\n",
       "    <tr>\n",
       "      <th>1993.0</th>\n",
       "      <td>58</td>\n",
       "    </tr>\n",
       "    <tr>\n",
       "      <th>1994.0</th>\n",
       "      <td>112</td>\n",
       "    </tr>\n",
       "    <tr>\n",
       "      <th>1995.0</th>\n",
       "      <td>200</td>\n",
       "    </tr>\n",
       "    <tr>\n",
       "      <th>1996.0</th>\n",
       "      <td>247</td>\n",
       "    </tr>\n",
       "    <tr>\n",
       "      <th>1997.0</th>\n",
       "      <td>268</td>\n",
       "    </tr>\n",
       "    <tr>\n",
       "      <th>1998.0</th>\n",
       "      <td>348</td>\n",
       "    </tr>\n",
       "    <tr>\n",
       "      <th>1999.0</th>\n",
       "      <td>293</td>\n",
       "    </tr>\n",
       "    <tr>\n",
       "      <th>2000.0</th>\n",
       "      <td>300</td>\n",
       "    </tr>\n",
       "    <tr>\n",
       "      <th>2001.0</th>\n",
       "      <td>410</td>\n",
       "    </tr>\n",
       "    <tr>\n",
       "      <th>2002.0</th>\n",
       "      <td>574</td>\n",
       "    </tr>\n",
       "    <tr>\n",
       "      <th>2003.0</th>\n",
       "      <td>491</td>\n",
       "    </tr>\n",
       "    <tr>\n",
       "      <th>2004.0</th>\n",
       "      <td>522</td>\n",
       "    </tr>\n",
       "    <tr>\n",
       "      <th>2005.0</th>\n",
       "      <td>620</td>\n",
       "    </tr>\n",
       "    <tr>\n",
       "      <th>2006.0</th>\n",
       "      <td>729</td>\n",
       "    </tr>\n",
       "    <tr>\n",
       "      <th>2007.0</th>\n",
       "      <td>838</td>\n",
       "    </tr>\n",
       "    <tr>\n",
       "      <th>2008.0</th>\n",
       "      <td>987</td>\n",
       "    </tr>\n",
       "    <tr>\n",
       "      <th>2009.0</th>\n",
       "      <td>957</td>\n",
       "    </tr>\n",
       "    <tr>\n",
       "      <th>2010.0</th>\n",
       "      <td>862</td>\n",
       "    </tr>\n",
       "    <tr>\n",
       "      <th>2011.0</th>\n",
       "      <td>750</td>\n",
       "    </tr>\n",
       "    <tr>\n",
       "      <th>2012.0</th>\n",
       "      <td>406</td>\n",
       "    </tr>\n",
       "    <tr>\n",
       "      <th>2013.0</th>\n",
       "      <td>293</td>\n",
       "    </tr>\n",
       "    <tr>\n",
       "      <th>2014.0</th>\n",
       "      <td>279</td>\n",
       "    </tr>\n",
       "    <tr>\n",
       "      <th>2015.0</th>\n",
       "      <td>331</td>\n",
       "    </tr>\n",
       "    <tr>\n",
       "      <th>2016.0</th>\n",
       "      <td>279</td>\n",
       "    </tr>\n",
       "  </tbody>\n",
       "</table>\n",
       "</div>"
      ],
      "text/plain": [
       "                 name\n",
       "year_of_release      \n",
       "1980.0              8\n",
       "1981.0             43\n",
       "1982.0             33\n",
       "1983.0             16\n",
       "1984.0             13\n",
       "1985.0             13\n",
       "1986.0             21\n",
       "1987.0             15\n",
       "1988.0             11\n",
       "1989.0             14\n",
       "1990.0             14\n",
       "1991.0             40\n",
       "1992.0             37\n",
       "1993.0             58\n",
       "1994.0            112\n",
       "1995.0            200\n",
       "1996.0            247\n",
       "1997.0            268\n",
       "1998.0            348\n",
       "1999.0            293\n",
       "2000.0            300\n",
       "2001.0            410\n",
       "2002.0            574\n",
       "2003.0            491\n",
       "2004.0            522\n",
       "2005.0            620\n",
       "2006.0            729\n",
       "2007.0            838\n",
       "2008.0            987\n",
       "2009.0            957\n",
       "2010.0            862\n",
       "2011.0            750\n",
       "2012.0            406\n",
       "2013.0            293\n",
       "2014.0            279\n",
       "2015.0            331\n",
       "2016.0            279"
      ]
     },
     "execution_count": 21,
     "metadata": {},
     "output_type": "execute_result"
    }
   ],
   "source": [
    "data_unique_games_in_year = data.drop_duplicates(subset=['name']).pivot_table(index='year_of_release', values='name', aggfunc='count')\n",
    "data_unique_games_in_year"
   ]
  },
  {
   "cell_type": "code",
   "execution_count": 22,
   "metadata": {},
   "outputs": [
    {
     "data": {
      "image/png": "[encoded data removed]",
      "text/plain": [
       "<Figure size 1080x360 with 1 Axes>"
      ]
     },
     "metadata": {
      "needs_background": "light"
     },
     "output_type": "display_data"
    }
   ],
   "source": [
    "data_unique_games_in_year.plot.bar(figsize=(15,5));\n",
    "plt.title('Количество уникальных выпущенных игр за определенный год')\n",
    "plt.show()"
   ]
  },
  {
   "cell_type": "markdown",
   "metadata": {},
   "source": [
    "Взглянув на столбчатую диаграмму, можно увидеть:\n",
    "\n",
    "- Рост производства видеоигр начался с 1993 года.\n",
    "- Пик производства видеоигр приходиться на 2008-2009 год.\n",
    "- С 1980 по 1991 игры выпускались в малом количестве. \n",
    "\n",
    "Хоть с 1980 по 1991 приходится малый объем выпущенных видеоигр, мы все ровно примем эти данные во внимание, по причине того что в данных промежуток времени могут быть данные о играх с платформ, которые могли перестать существовать в последующий промежуток времени. \n"
   ]
  },
  {
   "cell_type": "markdown",
   "metadata": {},
   "source": [
    "Посмотрим как менялись продажи по платформам."
   ]
  },
  {
   "cell_type": "code",
   "execution_count": 23,
   "metadata": {},
   "outputs": [
    {
     "data": {
      "text/html": [
       "<div>\n",
       "<style scoped>\n",
       "    .dataframe tbody tr th:only-of-type {\n",
       "        vertical-align: middle;\n",
       "    }\n",
       "\n",
       "    .dataframe tbody tr th {\n",
       "        vertical-align: top;\n",
       "    }\n",
       "\n",
       "    .dataframe thead th {\n",
       "        text-align: right;\n",
       "    }\n",
       "</style>\n",
       "<table border=\"1\" class=\"dataframe\">\n",
       "  <thead>\n",
       "    <tr style=\"text-align: right;\">\n",
       "      <th></th>\n",
       "      <th>total_sales</th>\n",
       "    </tr>\n",
       "    <tr>\n",
       "      <th>platform</th>\n",
       "      <th></th>\n",
       "    </tr>\n",
       "  </thead>\n",
       "  <tbody>\n",
       "    <tr>\n",
       "      <th>PS2</th>\n",
       "      <td>1255.77</td>\n",
       "    </tr>\n",
       "    <tr>\n",
       "      <th>X360</th>\n",
       "      <td>971.42</td>\n",
       "    </tr>\n",
       "    <tr>\n",
       "      <th>PS3</th>\n",
       "      <td>939.65</td>\n",
       "    </tr>\n",
       "    <tr>\n",
       "      <th>Wii</th>\n",
       "      <td>907.51</td>\n",
       "    </tr>\n",
       "    <tr>\n",
       "      <th>DS</th>\n",
       "      <td>806.12</td>\n",
       "    </tr>\n",
       "    <tr>\n",
       "      <th>PS</th>\n",
       "      <td>730.86</td>\n",
       "    </tr>\n",
       "    <tr>\n",
       "      <th>GBA</th>\n",
       "      <td>317.85</td>\n",
       "    </tr>\n",
       "    <tr>\n",
       "      <th>PS4</th>\n",
       "      <td>314.14</td>\n",
       "    </tr>\n",
       "    <tr>\n",
       "      <th>PSP</th>\n",
       "      <td>294.05</td>\n",
       "    </tr>\n",
       "    <tr>\n",
       "      <th>PC</th>\n",
       "      <td>259.52</td>\n",
       "    </tr>\n",
       "    <tr>\n",
       "      <th>3DS</th>\n",
       "      <td>259.00</td>\n",
       "    </tr>\n",
       "    <tr>\n",
       "      <th>XB</th>\n",
       "      <td>257.74</td>\n",
       "    </tr>\n",
       "    <tr>\n",
       "      <th>GB</th>\n",
       "      <td>255.46</td>\n",
       "    </tr>\n",
       "    <tr>\n",
       "      <th>NES</th>\n",
       "      <td>251.05</td>\n",
       "    </tr>\n",
       "    <tr>\n",
       "      <th>N64</th>\n",
       "      <td>218.68</td>\n",
       "    </tr>\n",
       "    <tr>\n",
       "      <th>SNES</th>\n",
       "      <td>200.04</td>\n",
       "    </tr>\n",
       "    <tr>\n",
       "      <th>GC</th>\n",
       "      <td>198.93</td>\n",
       "    </tr>\n",
       "    <tr>\n",
       "      <th>XOne</th>\n",
       "      <td>159.32</td>\n",
       "    </tr>\n",
       "    <tr>\n",
       "      <th>2600</th>\n",
       "      <td>96.98</td>\n",
       "    </tr>\n",
       "    <tr>\n",
       "      <th>WiiU</th>\n",
       "      <td>82.19</td>\n",
       "    </tr>\n",
       "    <tr>\n",
       "      <th>PSV</th>\n",
       "      <td>54.07</td>\n",
       "    </tr>\n",
       "    <tr>\n",
       "      <th>SAT</th>\n",
       "      <td>33.59</td>\n",
       "    </tr>\n",
       "    <tr>\n",
       "      <th>GEN</th>\n",
       "      <td>28.35</td>\n",
       "    </tr>\n",
       "    <tr>\n",
       "      <th>DC</th>\n",
       "      <td>15.95</td>\n",
       "    </tr>\n",
       "    <tr>\n",
       "      <th>SCD</th>\n",
       "      <td>1.86</td>\n",
       "    </tr>\n",
       "    <tr>\n",
       "      <th>NG</th>\n",
       "      <td>1.44</td>\n",
       "    </tr>\n",
       "    <tr>\n",
       "      <th>WS</th>\n",
       "      <td>1.42</td>\n",
       "    </tr>\n",
       "    <tr>\n",
       "      <th>TG16</th>\n",
       "      <td>0.16</td>\n",
       "    </tr>\n",
       "    <tr>\n",
       "      <th>3DO</th>\n",
       "      <td>0.10</td>\n",
       "    </tr>\n",
       "    <tr>\n",
       "      <th>GG</th>\n",
       "      <td>0.04</td>\n",
       "    </tr>\n",
       "    <tr>\n",
       "      <th>PCFX</th>\n",
       "      <td>0.03</td>\n",
       "    </tr>\n",
       "  </tbody>\n",
       "</table>\n",
       "</div>"
      ],
      "text/plain": [
       "          total_sales\n",
       "platform             \n",
       "PS2           1255.77\n",
       "X360           971.42\n",
       "PS3            939.65\n",
       "Wii            907.51\n",
       "DS             806.12\n",
       "PS             730.86\n",
       "GBA            317.85\n",
       "PS4            314.14\n",
       "PSP            294.05\n",
       "PC             259.52\n",
       "3DS            259.00\n",
       "XB             257.74\n",
       "GB             255.46\n",
       "NES            251.05\n",
       "N64            218.68\n",
       "SNES           200.04\n",
       "GC             198.93\n",
       "XOne           159.32\n",
       "2600            96.98\n",
       "WiiU            82.19\n",
       "PSV             54.07\n",
       "SAT             33.59\n",
       "GEN             28.35\n",
       "DC              15.95\n",
       "SCD              1.86\n",
       "NG               1.44\n",
       "WS               1.42\n",
       "TG16             0.16\n",
       "3DO              0.10\n",
       "GG               0.04\n",
       "PCFX             0.03"
      ]
     },
     "execution_count": 23,
     "metadata": {},
     "output_type": "execute_result"
    }
   ],
   "source": [
    "data_platform_sales = data.pivot_table(\n",
    "    index='platform',\n",
    "    values='total_sales',\n",
    "    aggfunc='sum').sort_values(by='total_sales', ascending=False)\n",
    "data_platform_sales"
   ]
  },
  {
   "cell_type": "markdown",
   "metadata": {},
   "source": [
    "Из получившийся таблицы возьмем топ 15 платформ по количеству продаж и построим диаграмму распределения продаж по годам. "
   ]
  },
  {
   "cell_type": "code",
   "execution_count": 24,
   "metadata": {},
   "outputs": [
    {
     "data": {
      "text/html": [
       "<div>\n",
       "<style scoped>\n",
       "    .dataframe tbody tr th:only-of-type {\n",
       "        vertical-align: middle;\n",
       "    }\n",
       "\n",
       "    .dataframe tbody tr th {\n",
       "        vertical-align: top;\n",
       "    }\n",
       "\n",
       "    .dataframe thead th {\n",
       "        text-align: right;\n",
       "    }\n",
       "</style>\n",
       "<table border=\"1\" class=\"dataframe\">\n",
       "  <thead>\n",
       "    <tr style=\"text-align: right;\">\n",
       "      <th></th>\n",
       "      <th>total_sales</th>\n",
       "    </tr>\n",
       "    <tr>\n",
       "      <th>platform</th>\n",
       "      <th></th>\n",
       "    </tr>\n",
       "  </thead>\n",
       "  <tbody>\n",
       "    <tr>\n",
       "      <th>PS2</th>\n",
       "      <td>1255.77</td>\n",
       "    </tr>\n",
       "    <tr>\n",
       "      <th>X360</th>\n",
       "      <td>971.42</td>\n",
       "    </tr>\n",
       "    <tr>\n",
       "      <th>PS3</th>\n",
       "      <td>939.65</td>\n",
       "    </tr>\n",
       "    <tr>\n",
       "      <th>Wii</th>\n",
       "      <td>907.51</td>\n",
       "    </tr>\n",
       "    <tr>\n",
       "      <th>DS</th>\n",
       "      <td>806.12</td>\n",
       "    </tr>\n",
       "    <tr>\n",
       "      <th>PS</th>\n",
       "      <td>730.86</td>\n",
       "    </tr>\n",
       "    <tr>\n",
       "      <th>GBA</th>\n",
       "      <td>317.85</td>\n",
       "    </tr>\n",
       "    <tr>\n",
       "      <th>PS4</th>\n",
       "      <td>314.14</td>\n",
       "    </tr>\n",
       "    <tr>\n",
       "      <th>PSP</th>\n",
       "      <td>294.05</td>\n",
       "    </tr>\n",
       "    <tr>\n",
       "      <th>PC</th>\n",
       "      <td>259.52</td>\n",
       "    </tr>\n",
       "    <tr>\n",
       "      <th>3DS</th>\n",
       "      <td>259.00</td>\n",
       "    </tr>\n",
       "    <tr>\n",
       "      <th>XB</th>\n",
       "      <td>257.74</td>\n",
       "    </tr>\n",
       "    <tr>\n",
       "      <th>GB</th>\n",
       "      <td>255.46</td>\n",
       "    </tr>\n",
       "    <tr>\n",
       "      <th>NES</th>\n",
       "      <td>251.05</td>\n",
       "    </tr>\n",
       "    <tr>\n",
       "      <th>N64</th>\n",
       "      <td>218.68</td>\n",
       "    </tr>\n",
       "  </tbody>\n",
       "</table>\n",
       "</div>"
      ],
      "text/plain": [
       "          total_sales\n",
       "platform             \n",
       "PS2           1255.77\n",
       "X360           971.42\n",
       "PS3            939.65\n",
       "Wii            907.51\n",
       "DS             806.12\n",
       "PS             730.86\n",
       "GBA            317.85\n",
       "PS4            314.14\n",
       "PSP            294.05\n",
       "PC             259.52\n",
       "3DS            259.00\n",
       "XB             257.74\n",
       "GB             255.46\n",
       "NES            251.05\n",
       "N64            218.68"
      ]
     },
     "execution_count": 24,
     "metadata": {},
     "output_type": "execute_result"
    }
   ],
   "source": [
    "data_platform_sales = data_platform_sales.query('total_sales > 214')\n",
    "data_platform_sales"
   ]
  },
  {
   "cell_type": "markdown",
   "metadata": {},
   "source": [
    "Создадим функцию для построения столбчатой диаграммы для определенной платформы."
   ]
  },
  {
   "cell_type": "code",
   "execution_count": 25,
   "metadata": {},
   "outputs": [],
   "source": [
    "def platform_bar(name):\n",
    "    data.query(\n",
    "        'platform == @name and total_sales != 0'\n",
    "    ).pivot_table(\n",
    "        index='year_of_release',\n",
    "        values='total_sales',\n",
    "        aggfunc='sum'\n",
    "    ).plot.bar(\n",
    "        figsize=(15,5)\n",
    "    )\n",
    "    plt.title(f'Количество продаж по годам для {name}')\n",
    "    return plt.show()"
   ]
  },
  {
   "cell_type": "markdown",
   "metadata": {},
   "source": [
    "Построим столбчатые диаграммы для нашего топ 15 платформ по количеству продаж. "
   ]
  },
  {
   "cell_type": "code",
   "execution_count": 26,
   "metadata": {
    "scrolled": false
   },
   "outputs": [
    {
     "data": {
      "image/png": "[encoded data removed]",
      "text/plain": [
       "<Figure size 1080x360 with 1 Axes>"
      ]
     },
     "metadata": {
      "needs_background": "light"
     },
     "output_type": "display_data"
    },
    {
     "data": {
      "image/png": "[encoded data removed]",
      "text/plain": [
       "<Figure size 1080x360 with 1 Axes>"
      ]
     },
     "metadata": {
      "needs_background": "light"
     },
     "output_type": "display_data"
    },
    {
     "data": {
      "image/png": "[encoded data removed]",
      "text/plain": [
       "<Figure size 1080x360 with 1 Axes>"
      ]
     },
     "metadata": {
      "needs_background": "light"
     },
     "output_type": "display_data"
    },
    {
     "data": {
      "image/png": "[encoded data removed]",
      "text/plain": [
       "<Figure size 1080x360 with 1 Axes>"
      ]
     },
     "metadata": {
      "needs_background": "light"
     },
     "output_type": "display_data"
    },
    {
     "data": {
      "image/png": "[encoded data removed]",
      "text/plain": [
       "<Figure size 1080x360 with 1 Axes>"
      ]
     },
     "metadata": {
      "needs_background": "light"
     },
     "output_type": "display_data"
    },
    {
     "data": {
      "image/png": "[encoded data removed]",
      "text/plain": [
       "<Figure size 1080x360 with 1 Axes>"
      ]
     },
     "metadata": {
      "needs_background": "light"
     },
     "output_type": "display_data"
    },
    {
     "data": {
      "image/png": "[encoded data removed]",
      "text/plain": [
       "<Figure size 1080x360 with 1 Axes>"
      ]
     },
     "metadata": {
      "needs_background": "light"
     },
     "output_type": "display_data"
    },
    {
     "data": {
      "image/png": "[encoded data removed]",
      "text/plain": [
       "<Figure size 1080x360 with 1 Axes>"
      ]
     },
     "metadata": {
      "needs_background": "light"
     },
     "output_type": "display_data"
    },
    {
     "data": {
      "image/png": "[encoded data removed]",
      "text/plain": [
       "<Figure size 1080x360 with 1 Axes>"
      ]
     },
     "metadata": {
      "needs_background": "light"
     },
     "output_type": "display_data"
    },
    {
     "data": {
      "image/png": "[encoded data removed]",
      "text/plain": [
       "<Figure size 1080x360 with 1 Axes>"
      ]
     },
     "metadata": {
      "needs_background": "light"
     },
     "output_type": "display_data"
    },
    {
     "data": {
      "image/png": "[encoded data removed]",
      "text/plain": [
       "<Figure size 1080x360 with 1 Axes>"
      ]
     },
     "metadata": {
      "needs_background": "light"
     },
     "output_type": "display_data"
    },
    {
     "data": {
      "image/png": "[encoded data removed]",
      "text/plain": [
       "<Figure size 1080x360 with 1 Axes>"
      ]
     },
     "metadata": {
      "needs_background": "light"
     },
     "output_type": "display_data"
    },
    {
     "data": {
      "image/png": "[encoded data removed]",
      "text/plain": [
       "<Figure size 1080x360 with 1 Axes>"
      ]
     },
     "metadata": {
      "needs_background": "light"
     },
     "output_type": "display_data"
    },
    {
     "data": {
      "image/png": "[encoded data removed]",
      "text/plain": [
       "<Figure size 1080x360 with 1 Axes>"
      ]
     },
     "metadata": {
      "needs_background": "light"
     },
     "output_type": "display_data"
    },
    {
     "data": {
      "image/png": "[encoded data removed]",
      "text/plain": [
       "<Figure size 1080x360 with 1 Axes>"
      ]
     },
     "metadata": {
      "needs_background": "light"
     },
     "output_type": "display_data"
    }
   ],
   "source": [
    "for i in range(0,15):\n",
    "    platform_bar(data_platform_sales.index.tolist()[i])"
   ]
  },
  {
   "cell_type": "markdown",
   "metadata": {},
   "source": [
    "Из диаграмм видно, что старые платформы исчезают постепенно в течении 3-5 лет. Новые же платформы появляются за 1-2 года."
   ]
  },
  {
   "cell_type": "markdown",
   "metadata": {},
   "source": [
    "Посчитаем средний срок существования платформ  "
   ]
  },
  {
   "cell_type": "code",
   "execution_count": 27,
   "metadata": {},
   "outputs": [
    {
     "name": "stdout",
     "output_type": "stream",
     "text": [
      "Средний жизненный срок существования консоли: 10.3\n"
     ]
    }
   ],
   "source": [
    "top_platform = data_platform_sales.index.tolist()\n",
    "mean_time = len(\n",
    "    data.query(\n",
    "        'platform == @top_platform and platform != \"PC\"'\n",
    "    ).pivot_table(\n",
    "        index=['platform','year_of_release'],\n",
    "        values='name',\n",
    "        aggfunc='count'\n",
    "    )\n",
    ") / 14\n",
    "print(f'Средний жизненный срок существования консоли: {mean_time:.1f}')"
   ]
  },
  {
   "cell_type": "markdown",
   "metadata": {},
   "source": [
    "Средний срок существования консолей равен 10 лет. В расчет не была взята платформа “PC”, так как он не является консолью.  "
   ]
  },
  {
   "cell_type": "markdown",
   "metadata": {},
   "source": [
    "Возьмем данные за соответствующий актуальный период - последние 5 лет.\n",
    "\n",
    "Это период был выбран из-за того, что основной фактор исследования – прогноз на 2017 год. Платформы, которые были популярны раньше 2012 года уже теряют свою популярность.\n"
   ]
  },
  {
   "cell_type": "code",
   "execution_count": 28,
   "metadata": {},
   "outputs": [],
   "source": [
    "data = data.query('year_of_release > 2011')"
   ]
  },
  {
   "cell_type": "markdown",
   "metadata": {},
   "source": [
    "Построим диаграммы для платформ по количеству продаж уже за актуальный период."
   ]
  },
  {
   "cell_type": "code",
   "execution_count": 29,
   "metadata": {},
   "outputs": [
    {
     "data": {
      "text/html": [
       "<div>\n",
       "<style scoped>\n",
       "    .dataframe tbody tr th:only-of-type {\n",
       "        vertical-align: middle;\n",
       "    }\n",
       "\n",
       "    .dataframe tbody tr th {\n",
       "        vertical-align: top;\n",
       "    }\n",
       "\n",
       "    .dataframe thead th {\n",
       "        text-align: right;\n",
       "    }\n",
       "</style>\n",
       "<table border=\"1\" class=\"dataframe\">\n",
       "  <thead>\n",
       "    <tr style=\"text-align: right;\">\n",
       "      <th></th>\n",
       "      <th>total_sales</th>\n",
       "    </tr>\n",
       "    <tr>\n",
       "      <th>platform</th>\n",
       "      <th></th>\n",
       "    </tr>\n",
       "  </thead>\n",
       "  <tbody>\n",
       "    <tr>\n",
       "      <th>PS4</th>\n",
       "      <td>314.14</td>\n",
       "    </tr>\n",
       "    <tr>\n",
       "      <th>PS3</th>\n",
       "      <td>289.71</td>\n",
       "    </tr>\n",
       "    <tr>\n",
       "      <th>X360</th>\n",
       "      <td>237.52</td>\n",
       "    </tr>\n",
       "    <tr>\n",
       "      <th>3DS</th>\n",
       "      <td>195.01</td>\n",
       "    </tr>\n",
       "    <tr>\n",
       "      <th>XOne</th>\n",
       "      <td>159.32</td>\n",
       "    </tr>\n",
       "    <tr>\n",
       "      <th>WiiU</th>\n",
       "      <td>82.19</td>\n",
       "    </tr>\n",
       "    <tr>\n",
       "      <th>PC</th>\n",
       "      <td>63.51</td>\n",
       "    </tr>\n",
       "    <tr>\n",
       "      <th>PSV</th>\n",
       "      <td>49.18</td>\n",
       "    </tr>\n",
       "    <tr>\n",
       "      <th>Wii</th>\n",
       "      <td>36.60</td>\n",
       "    </tr>\n",
       "    <tr>\n",
       "      <th>DS</th>\n",
       "      <td>13.21</td>\n",
       "    </tr>\n",
       "    <tr>\n",
       "      <th>PSP</th>\n",
       "      <td>11.69</td>\n",
       "    </tr>\n",
       "  </tbody>\n",
       "</table>\n",
       "</div>"
      ],
      "text/plain": [
       "          total_sales\n",
       "platform             \n",
       "PS4            314.14\n",
       "PS3            289.71\n",
       "X360           237.52\n",
       "3DS            195.01\n",
       "XOne           159.32\n",
       "WiiU            82.19\n",
       "PC              63.51\n",
       "PSV             49.18\n",
       "Wii             36.60\n",
       "DS              13.21\n",
       "PSP             11.69"
      ]
     },
     "execution_count": 29,
     "metadata": {},
     "output_type": "execute_result"
    }
   ],
   "source": [
    "data_platform_sales_actual = data.pivot_table(\n",
    "    index='platform',\n",
    "    values='total_sales',\n",
    "    aggfunc='sum').sort_values(by='total_sales', ascending=False)\n",
    "data_platform_sales_actual"
   ]
  },
  {
   "cell_type": "code",
   "execution_count": 30,
   "metadata": {
    "scrolled": false
   },
   "outputs": [
    {
     "data": {
      "image/png": "[encoded data removed]",
      "text/plain": [
       "<Figure size 1080x360 with 1 Axes>"
      ]
     },
     "metadata": {
      "needs_background": "light"
     },
     "output_type": "display_data"
    },
    {
     "data": {
      "image/png": "[encoded data removed]",
      "text/plain": [
       "<Figure size 1080x360 with 1 Axes>"
      ]
     },
     "metadata": {
      "needs_background": "light"
     },
     "output_type": "display_data"
    },
    {
     "data": {
      "image/png": "[encoded data removed]",
      "text/plain": [
       "<Figure size 1080x360 with 1 Axes>"
      ]
     },
     "metadata": {
      "needs_background": "light"
     },
     "output_type": "display_data"
    },
    {
     "data": {
      "image/png": "[encoded data removed]",
      "text/plain": [
       "<Figure size 1080x360 with 1 Axes>"
      ]
     },
     "metadata": {
      "needs_background": "light"
     },
     "output_type": "display_data"
    },
    {
     "data": {
      "image/png": "[encoded data removed]",
      "text/plain": [
       "<Figure size 1080x360 with 1 Axes>"
      ]
     },
     "metadata": {
      "needs_background": "light"
     },
     "output_type": "display_data"
    },
    {
     "data": {
      "image/png": "[encoded data removed]",
      "text/plain": [
       "<Figure size 1080x360 with 1 Axes>"
      ]
     },
     "metadata": {
      "needs_background": "light"
     },
     "output_type": "display_data"
    },
    {
     "data": {
      "image/png": "[encoded data removed]",
      "text/plain": [
       "<Figure size 1080x360 with 1 Axes>"
      ]
     },
     "metadata": {
      "needs_background": "light"
     },
     "output_type": "display_data"
    },
    {
     "data": {
      "image/png": "[encoded data removed]",
      "text/plain": [
       "<Figure size 1080x360 with 1 Axes>"
      ]
     },
     "metadata": {
      "needs_background": "light"
     },
     "output_type": "display_data"
    },
    {
     "data": {
      "image/png": "[encoded data removed]",
      "text/plain": [
       "<Figure size 1080x360 with 1 Axes>"
      ]
     },
     "metadata": {
      "needs_background": "light"
     },
     "output_type": "display_data"
    },
    {
     "data": {
      "image/png": "[encoded data removed]",
      "text/plain": [
       "<Figure size 1080x360 with 1 Axes>"
      ]
     },
     "metadata": {
      "needs_background": "light"
     },
     "output_type": "display_data"
    },
    {
     "data": {
      "image/png": "[encoded data removed]",
      "text/plain": [
       "<Figure size 1080x360 with 1 Axes>"
      ]
     },
     "metadata": {
      "needs_background": "light"
     },
     "output_type": "display_data"
    }
   ],
   "source": [
    "for i in range(0,len(data_platform_sales_actual)):\n",
    "    platform_bar(data_platform_sales_actual.index.tolist()[i])\n",
    "    plt.ylim"
   ]
  },
  {
   "cell_type": "markdown",
   "metadata": {},
   "source": [
    "По диаграмме видно, что спад наблюдается почти на всех платформах.Если учитывать, что данные за 2016 год неполные, то можно предположить что есть платформы на подъеме - это PS4 и XOne. Наиболее прибыльные платформы за 2016 год это PS4, XOne, 3DS. Также видно, что есть средне прибыльные платформы с не очень большим спадом по годами актуального периода – это PC и PSV. Выберем PS4, XOne, 3DS, PC, PSV как потенциально прибыльные платформы."
   ]
  },
  {
   "cell_type": "markdown",
   "metadata": {},
   "source": [
    "Построим boxplot’ы для выбранных платформ. "
   ]
  },
  {
   "cell_type": "code",
   "execution_count": 31,
   "metadata": {},
   "outputs": [
    {
     "data": {
      "image/png": "[encoded data removed]",
      "text/plain": [
       "<Figure size 1080x360 with 1 Axes>"
      ]
     },
     "metadata": {
      "needs_background": "light"
     },
     "output_type": "display_data"
    }
   ],
   "source": [
    "data.boxplot('total_sales', by='platform', figsize=(15,5));"
   ]
  },
  {
   "cell_type": "markdown",
   "metadata": {},
   "source": [
    "Почти на каждом графике первый квантиль boxplot’а сильно смещен к 0. Есть игры, продажи который составляют больше 6 млн. и сильно отрываются от своих конкурентов. Для дальнейшего исследования уберем игры-выбросы, продажи которых более 6 млн. "
   ]
  },
  {
   "cell_type": "code",
   "execution_count": 32,
   "metadata": {},
   "outputs": [],
   "source": [
    "data = data.query('total_sales < 6')"
   ]
  },
  {
   "cell_type": "code",
   "execution_count": 33,
   "metadata": {
    "scrolled": false
   },
   "outputs": [
    {
     "data": {
      "image/png": "[encoded data removed]",
      "text/plain": [
       "<Figure size 1080x360 with 1 Axes>"
      ]
     },
     "metadata": {
      "needs_background": "light"
     },
     "output_type": "display_data"
    }
   ],
   "source": [
    "ax = data.boxplot('total_sales', by='platform', figsize=(15,5));\n",
    "ax.set_ylim(0,2)\n",
    "ax;"
   ]
  },
  {
   "cell_type": "markdown",
   "metadata": {},
   "source": [
    "Такое смещение обусловленной тем, что в датафрейме много игры с небольшим количеством продаж. Отмечу, что для таких платформ как DS, PC, PSP, PSV почти все значения продаж лежат ниже 0.5 млн."
   ]
  },
  {
   "cell_type": "markdown",
   "metadata": {},
   "source": [
    "Посмотрим как влияют на продажи внутри PS4 отзывы пользователей и критиков."
   ]
  },
  {
   "cell_type": "code",
   "execution_count": 34,
   "metadata": {},
   "outputs": [],
   "source": [
    "data_ps4 = data.query('platform == \"PS4\"')"
   ]
  },
  {
   "cell_type": "code",
   "execution_count": 35,
   "metadata": {},
   "outputs": [
    {
     "data": {
      "image/png": "[encoded data removed]",
      "text/plain": [
       "<Figure size 432x288 with 1 Axes>"
      ]
     },
     "metadata": {
      "needs_background": "light"
     },
     "output_type": "display_data"
    }
   ],
   "source": [
    "data_ps4.plot(x='total_sales', y='critic_score', kind='scatter');\n",
    "plt.title('Зависимость продаж от отзывов критиков для PS4')\n",
    "plt.show;"
   ]
  },
  {
   "cell_type": "code",
   "execution_count": 36,
   "metadata": {
    "scrolled": true
   },
   "outputs": [
    {
     "name": "stdout",
     "output_type": "stream",
     "text": [
      "Коэффициент корреляции Пирсона: 0.4046925924429624\n"
     ]
    }
   ],
   "source": [
    "print('Коэффициент корреляции Пирсона:', data_ps4['total_sales'].corr(data_ps4['critic_score']))"
   ]
  },
  {
   "cell_type": "markdown",
   "metadata": {},
   "source": [
    "Корреляция положительная, но не очень сильная, зависимость есть.  "
   ]
  },
  {
   "cell_type": "code",
   "execution_count": 37,
   "metadata": {},
   "outputs": [
    {
     "data": {
      "image/png": "[encoded data removed]",
      "text/plain": [
       "<Figure size 432x288 with 1 Axes>"
      ]
     },
     "metadata": {
      "needs_background": "light"
     },
     "output_type": "display_data"
    }
   ],
   "source": [
    "data_ps4.plot(x='total_sales', y='user_score', kind='scatter');\n",
    "plt.title('Зависимость продаж от отзывов пользователей для PS4')\n",
    "plt.show;"
   ]
  },
  {
   "cell_type": "code",
   "execution_count": 38,
   "metadata": {},
   "outputs": [
    {
     "name": "stdout",
     "output_type": "stream",
     "text": [
      "Коэффициент корреляции Пирсона: 0.018301740249559405\n"
     ]
    }
   ],
   "source": [
    "print('Коэффициент корреляции Пирсона:', data_ps4['total_sales'].corr(data_ps4['user_score']))"
   ]
  },
  {
   "cell_type": "markdown",
   "metadata": {},
   "source": [
    "Корреляция положительная, но почти равно нулю, можно сказать что зависимости нет.    "
   ]
  },
  {
   "cell_type": "markdown",
   "metadata": {},
   "source": [
    "Вывод: Большинство пользователей PS4 при покупке не ориентируются на отзывы."
   ]
  },
  {
   "cell_type": "markdown",
   "metadata": {},
   "source": [
    "Посчитаем корреляцию для уже для всех платформ."
   ]
  },
  {
   "cell_type": "code",
   "execution_count": 39,
   "metadata": {
    "scrolled": true
   },
   "outputs": [
    {
     "name": "stdout",
     "output_type": "stream",
     "text": [
      "Коэффициент корреляции Пирсона: 0.3456352514618713\n"
     ]
    }
   ],
   "source": [
    "data_not_ps4 = data.query('platform != \"PS4\"')\n",
    "print('Коэффициент корреляции Пирсона:', data_not_ps4['total_sales'].corr(data_not_ps4['critic_score']))"
   ]
  },
  {
   "cell_type": "code",
   "execution_count": 40,
   "metadata": {},
   "outputs": [
    {
     "name": "stdout",
     "output_type": "stream",
     "text": [
      "Коэффициент корреляции Пирсона: 0.0319510554453672\n"
     ]
    }
   ],
   "source": [
    "print('Коэффициент корреляции Пирсона:', data_not_ps4['total_sales'].corr(data_not_ps4['user_score']))"
   ]
  },
  {
   "cell_type": "code",
   "execution_count": 41,
   "metadata": {
    "scrolled": true
   },
   "outputs": [
    {
     "data": {
      "image/png": "[encoded data removed]",
      "text/plain": [
       "<Figure size 432x288 with 1 Axes>"
      ]
     },
     "metadata": {
      "needs_background": "light"
     },
     "output_type": "display_data"
    }
   ],
   "source": [
    "data_not_ps4.plot(x='total_sales', y='critic_score', kind='scatter');\n",
    "plt.title('Зависимость продаж от отзывов критиков без PS4')\n",
    "plt.show;"
   ]
  },
  {
   "cell_type": "code",
   "execution_count": 42,
   "metadata": {},
   "outputs": [
    {
     "data": {
      "image/png": "[encoded data removed]",
      "text/plain": [
       "<Figure size 432x288 with 1 Axes>"
      ]
     },
     "metadata": {
      "needs_background": "light"
     },
     "output_type": "display_data"
    }
   ],
   "source": [
    "data_not_ps4.plot(x='total_sales', y='user_score', kind='scatter');\n",
    "plt.title('Зависимость продаж от отзывов пользователей без PS4')\n",
    "plt.show;"
   ]
  },
  {
   "cell_type": "markdown",
   "metadata": {},
   "source": [
    "Вывод: Корреляция PS4 близка к корреляции для всех платформ, выводы сделанные для PS4 можно считать справедливыми для всех платформ."
   ]
  },
  {
   "cell_type": "markdown",
   "metadata": {},
   "source": [
    "Посмотрим на общее распределение игр по жанрам"
   ]
  },
  {
   "cell_type": "code",
   "execution_count": 43,
   "metadata": {
    "scrolled": false
   },
   "outputs": [
    {
     "data": {
      "text/html": [
       "<div>\n",
       "<style scoped>\n",
       "    .dataframe tbody tr th:only-of-type {\n",
       "        vertical-align: middle;\n",
       "    }\n",
       "\n",
       "    .dataframe tbody tr th {\n",
       "        vertical-align: top;\n",
       "    }\n",
       "\n",
       "    .dataframe thead th {\n",
       "        text-align: right;\n",
       "    }\n",
       "</style>\n",
       "<table border=\"1\" class=\"dataframe\">\n",
       "  <thead>\n",
       "    <tr style=\"text-align: right;\">\n",
       "      <th></th>\n",
       "      <th>name</th>\n",
       "    </tr>\n",
       "    <tr>\n",
       "      <th>genre</th>\n",
       "      <th></th>\n",
       "    </tr>\n",
       "  </thead>\n",
       "  <tbody>\n",
       "    <tr>\n",
       "      <th>Action</th>\n",
       "      <td>1036</td>\n",
       "    </tr>\n",
       "    <tr>\n",
       "      <th>Role-Playing</th>\n",
       "      <td>365</td>\n",
       "    </tr>\n",
       "    <tr>\n",
       "      <th>Adventure</th>\n",
       "      <td>302</td>\n",
       "    </tr>\n",
       "    <tr>\n",
       "      <th>Sports</th>\n",
       "      <td>264</td>\n",
       "    </tr>\n",
       "    <tr>\n",
       "      <th>Shooter</th>\n",
       "      <td>228</td>\n",
       "    </tr>\n",
       "    <tr>\n",
       "      <th>Misc</th>\n",
       "      <td>191</td>\n",
       "    </tr>\n",
       "    <tr>\n",
       "      <th>Racing</th>\n",
       "      <td>114</td>\n",
       "    </tr>\n",
       "    <tr>\n",
       "      <th>Fighting</th>\n",
       "      <td>108</td>\n",
       "    </tr>\n",
       "    <tr>\n",
       "      <th>Platform</th>\n",
       "      <td>84</td>\n",
       "    </tr>\n",
       "    <tr>\n",
       "      <th>Simulation</th>\n",
       "      <td>79</td>\n",
       "    </tr>\n",
       "    <tr>\n",
       "      <th>Strategy</th>\n",
       "      <td>71</td>\n",
       "    </tr>\n",
       "    <tr>\n",
       "      <th>Puzzle</th>\n",
       "      <td>28</td>\n",
       "    </tr>\n",
       "  </tbody>\n",
       "</table>\n",
       "</div>"
      ],
      "text/plain": [
       "              name\n",
       "genre             \n",
       "Action        1036\n",
       "Role-Playing   365\n",
       "Adventure      302\n",
       "Sports         264\n",
       "Shooter        228\n",
       "Misc           191\n",
       "Racing         114\n",
       "Fighting       108\n",
       "Platform        84\n",
       "Simulation      79\n",
       "Strategy        71\n",
       "Puzzle          28"
      ]
     },
     "execution_count": 43,
     "metadata": {},
     "output_type": "execute_result"
    }
   ],
   "source": [
    "data.pivot_table(index='genre', values='name', aggfunc='count').sort_values(by='name', ascending=False)"
   ]
  },
  {
   "cell_type": "markdown",
   "metadata": {},
   "source": [
    "Больше всего игр выпускают в жанре Action, а меньше всего в жанре Puzzle. "
   ]
  },
  {
   "cell_type": "markdown",
   "metadata": {},
   "source": [
    "Посмотрим на медийное значение продаж по жанрам"
   ]
  },
  {
   "cell_type": "code",
   "execution_count": 44,
   "metadata": {},
   "outputs": [
    {
     "data": {
      "text/html": [
       "<div>\n",
       "<style scoped>\n",
       "    .dataframe tbody tr th:only-of-type {\n",
       "        vertical-align: middle;\n",
       "    }\n",
       "\n",
       "    .dataframe tbody tr th {\n",
       "        vertical-align: top;\n",
       "    }\n",
       "\n",
       "    .dataframe thead th {\n",
       "        text-align: right;\n",
       "    }\n",
       "</style>\n",
       "<table border=\"1\" class=\"dataframe\">\n",
       "  <thead>\n",
       "    <tr style=\"text-align: right;\">\n",
       "      <th></th>\n",
       "      <th>total_sales</th>\n",
       "    </tr>\n",
       "    <tr>\n",
       "      <th>genre</th>\n",
       "      <th></th>\n",
       "    </tr>\n",
       "  </thead>\n",
       "  <tbody>\n",
       "    <tr>\n",
       "      <th>Shooter</th>\n",
       "      <td>0.410</td>\n",
       "    </tr>\n",
       "    <tr>\n",
       "      <th>Sports</th>\n",
       "      <td>0.235</td>\n",
       "    </tr>\n",
       "    <tr>\n",
       "      <th>Platform</th>\n",
       "      <td>0.200</td>\n",
       "    </tr>\n",
       "    <tr>\n",
       "      <th>Racing</th>\n",
       "      <td>0.135</td>\n",
       "    </tr>\n",
       "    <tr>\n",
       "      <th>Fighting</th>\n",
       "      <td>0.130</td>\n",
       "    </tr>\n",
       "    <tr>\n",
       "      <th>Role-Playing</th>\n",
       "      <td>0.130</td>\n",
       "    </tr>\n",
       "    <tr>\n",
       "      <th>Action</th>\n",
       "      <td>0.120</td>\n",
       "    </tr>\n",
       "    <tr>\n",
       "      <th>Misc</th>\n",
       "      <td>0.120</td>\n",
       "    </tr>\n",
       "    <tr>\n",
       "      <th>Simulation</th>\n",
       "      <td>0.120</td>\n",
       "    </tr>\n",
       "    <tr>\n",
       "      <th>Strategy</th>\n",
       "      <td>0.080</td>\n",
       "    </tr>\n",
       "    <tr>\n",
       "      <th>Puzzle</th>\n",
       "      <td>0.045</td>\n",
       "    </tr>\n",
       "    <tr>\n",
       "      <th>Adventure</th>\n",
       "      <td>0.030</td>\n",
       "    </tr>\n",
       "  </tbody>\n",
       "</table>\n",
       "</div>"
      ],
      "text/plain": [
       "              total_sales\n",
       "genre                    \n",
       "Shooter             0.410\n",
       "Sports              0.235\n",
       "Platform            0.200\n",
       "Racing              0.135\n",
       "Fighting            0.130\n",
       "Role-Playing        0.130\n",
       "Action              0.120\n",
       "Misc                0.120\n",
       "Simulation          0.120\n",
       "Strategy            0.080\n",
       "Puzzle              0.045\n",
       "Adventure           0.030"
      ]
     },
     "execution_count": 44,
     "metadata": {},
     "output_type": "execute_result"
    }
   ],
   "source": [
    "data.pivot_table(index='genre', values='total_sales', aggfunc='median').sort_values(by='total_sales', ascending=False)"
   ]
  },
  {
   "cell_type": "code",
   "execution_count": 45,
   "metadata": {},
   "outputs": [
    {
     "data": {
      "image/png": "[encoded data removed]",
      "text/plain": [
       "<Figure size 1080x360 with 1 Axes>"
      ]
     },
     "metadata": {
      "needs_background": "light"
     },
     "output_type": "display_data"
    }
   ],
   "source": [
    "ax = data.boxplot('total_sales', by='genre', figsize=(15,5));\n",
    "ax.set_ylim(0,3)\n",
    "ax;"
   ]
  },
  {
   "cell_type": "markdown",
   "metadata": {},
   "source": [
    "Медиана делит нашу выборку пополам, это означает что чем больше медиана, тем больше и стабильный доход по жанру. Самыми доходными жанрами можно назвать Shooter, Sports и Platform, которые не даже не попали в топ-3 по количеству выпущенных игр по жанрам. Жанр Acton, который занимал первое место по количеству выпущенных игр находится на седьмом месте в списке по медийным значениям доходности. "
   ]
  },
  {
   "cell_type": "markdown",
   "metadata": {},
   "source": [
    "## Составим портрет пользователя каждого региона"
   ]
  },
  {
   "cell_type": "markdown",
   "metadata": {},
   "source": [
    "Определим самые популярные платформы (топ-5) для каждого региона. "
   ]
  },
  {
   "cell_type": "code",
   "execution_count": 46,
   "metadata": {
    "scrolled": true
   },
   "outputs": [
    {
     "data": {
      "text/html": [
       "<div>\n",
       "<style scoped>\n",
       "    .dataframe tbody tr th:only-of-type {\n",
       "        vertical-align: middle;\n",
       "    }\n",
       "\n",
       "    .dataframe tbody tr th {\n",
       "        vertical-align: top;\n",
       "    }\n",
       "\n",
       "    .dataframe thead th {\n",
       "        text-align: right;\n",
       "    }\n",
       "</style>\n",
       "<table border=\"1\" class=\"dataframe\">\n",
       "  <thead>\n",
       "    <tr style=\"text-align: right;\">\n",
       "      <th></th>\n",
       "      <th>na_sales</th>\n",
       "      <th>procent_na_sales</th>\n",
       "    </tr>\n",
       "    <tr>\n",
       "      <th>platform</th>\n",
       "      <th></th>\n",
       "      <th></th>\n",
       "    </tr>\n",
       "  </thead>\n",
       "  <tbody>\n",
       "    <tr>\n",
       "      <th>X360</th>\n",
       "      <td>103.58</td>\n",
       "      <td>21.639125</td>\n",
       "    </tr>\n",
       "    <tr>\n",
       "      <th>XOne</th>\n",
       "      <td>88.53</td>\n",
       "      <td>18.494997</td>\n",
       "    </tr>\n",
       "    <tr>\n",
       "      <th>PS4</th>\n",
       "      <td>87.84</td>\n",
       "      <td>18.350847</td>\n",
       "    </tr>\n",
       "    <tr>\n",
       "      <th>PS3</th>\n",
       "      <td>83.15</td>\n",
       "      <td>17.371049</td>\n",
       "    </tr>\n",
       "    <tr>\n",
       "      <th>WiiU</th>\n",
       "      <td>34.95</td>\n",
       "      <td>7.301481</td>\n",
       "    </tr>\n",
       "  </tbody>\n",
       "</table>\n",
       "</div>"
      ],
      "text/plain": [
       "          na_sales  procent_na_sales\n",
       "platform                            \n",
       "X360        103.58         21.639125\n",
       "XOne         88.53         18.494997\n",
       "PS4          87.84         18.350847\n",
       "PS3          83.15         17.371049\n",
       "WiiU         34.95          7.301481"
      ]
     },
     "execution_count": 46,
     "metadata": {},
     "output_type": "execute_result"
    }
   ],
   "source": [
    "top_na_platform = data.pivot_table(\n",
    "    index='platform',\n",
    "    values='na_sales'\n",
    "    , aggfunc='sum'\n",
    ").sort_values(\n",
    "    by='na_sales',\n",
    "    ascending=False\n",
    ").head()\n",
    "\n",
    "top_na_platform['procent_na_sales'] = top_na_platform['na_sales'] / data['na_sales'].sum() * 100\n",
    "\n",
    "top_na_platform"
   ]
  },
  {
   "cell_type": "markdown",
   "metadata": {},
   "source": [
    "В регионе NA первые 4 места распределены почти равномерно и имеют примерно по 20% от общих продаж.   "
   ]
  },
  {
   "cell_type": "code",
   "execution_count": 47,
   "metadata": {},
   "outputs": [
    {
     "data": {
      "text/html": [
       "<div>\n",
       "<style scoped>\n",
       "    .dataframe tbody tr th:only-of-type {\n",
       "        vertical-align: middle;\n",
       "    }\n",
       "\n",
       "    .dataframe tbody tr th {\n",
       "        vertical-align: top;\n",
       "    }\n",
       "\n",
       "    .dataframe thead th {\n",
       "        text-align: right;\n",
       "    }\n",
       "</style>\n",
       "<table border=\"1\" class=\"dataframe\">\n",
       "  <thead>\n",
       "    <tr style=\"text-align: right;\">\n",
       "      <th></th>\n",
       "      <th>eu_sales</th>\n",
       "      <th>procent_eu_sales</th>\n",
       "    </tr>\n",
       "    <tr>\n",
       "      <th>platform</th>\n",
       "      <th></th>\n",
       "      <th></th>\n",
       "    </tr>\n",
       "  </thead>\n",
       "  <tbody>\n",
       "    <tr>\n",
       "      <th>PS4</th>\n",
       "      <td>102.48</td>\n",
       "      <td>25.662343</td>\n",
       "    </tr>\n",
       "    <tr>\n",
       "      <th>PS3</th>\n",
       "      <td>77.05</td>\n",
       "      <td>19.294336</td>\n",
       "    </tr>\n",
       "    <tr>\n",
       "      <th>X360</th>\n",
       "      <td>58.02</td>\n",
       "      <td>14.528973</td>\n",
       "    </tr>\n",
       "    <tr>\n",
       "      <th>XOne</th>\n",
       "      <td>49.48</td>\n",
       "      <td>12.390444</td>\n",
       "    </tr>\n",
       "    <tr>\n",
       "      <th>PC</th>\n",
       "      <td>38.38</td>\n",
       "      <td>9.610858</td>\n",
       "    </tr>\n",
       "  </tbody>\n",
       "</table>\n",
       "</div>"
      ],
      "text/plain": [
       "          eu_sales  procent_eu_sales\n",
       "platform                            \n",
       "PS4         102.48         25.662343\n",
       "PS3          77.05         19.294336\n",
       "X360         58.02         14.528973\n",
       "XOne         49.48         12.390444\n",
       "PC           38.38          9.610858"
      ]
     },
     "execution_count": 47,
     "metadata": {},
     "output_type": "execute_result"
    }
   ],
   "source": [
    "top_eu_platform = data.pivot_table(\n",
    "    index='platform',\n",
    "    values='eu_sales',\n",
    "    aggfunc='sum'\n",
    ").sort_values(\n",
    "    by='eu_sales'\n",
    "    , ascending=False\n",
    ").head()\n",
    "\n",
    "top_eu_platform['procent_eu_sales'] = top_eu_platform['eu_sales'] / data['eu_sales'].sum() * 100\n",
    "\n",
    "top_eu_platform"
   ]
  },
  {
   "cell_type": "markdown",
   "metadata": {},
   "source": [
    "В регионе EU лидируют платформы марки PS (PS3, PS4), их общая доля от всех продаж составляет 45 процентов."
   ]
  },
  {
   "cell_type": "code",
   "execution_count": 48,
   "metadata": {
    "scrolled": true
   },
   "outputs": [
    {
     "data": {
      "text/html": [
       "<div>\n",
       "<style scoped>\n",
       "    .dataframe tbody tr th:only-of-type {\n",
       "        vertical-align: middle;\n",
       "    }\n",
       "\n",
       "    .dataframe tbody tr th {\n",
       "        vertical-align: top;\n",
       "    }\n",
       "\n",
       "    .dataframe thead th {\n",
       "        text-align: right;\n",
       "    }\n",
       "</style>\n",
       "<table border=\"1\" class=\"dataframe\">\n",
       "  <thead>\n",
       "    <tr style=\"text-align: right;\">\n",
       "      <th></th>\n",
       "      <th>jp_sales</th>\n",
       "      <th>procent_jp_sales</th>\n",
       "    </tr>\n",
       "    <tr>\n",
       "      <th>platform</th>\n",
       "      <th></th>\n",
       "      <th></th>\n",
       "    </tr>\n",
       "  </thead>\n",
       "  <tbody>\n",
       "    <tr>\n",
       "      <th>3DS</th>\n",
       "      <td>68.79</td>\n",
       "      <td>41.625318</td>\n",
       "    </tr>\n",
       "    <tr>\n",
       "      <th>PS3</th>\n",
       "      <td>32.92</td>\n",
       "      <td>19.920126</td>\n",
       "    </tr>\n",
       "    <tr>\n",
       "      <th>PSV</th>\n",
       "      <td>21.04</td>\n",
       "      <td>12.731453</td>\n",
       "    </tr>\n",
       "    <tr>\n",
       "      <th>PS4</th>\n",
       "      <td>14.43</td>\n",
       "      <td>8.731696</td>\n",
       "    </tr>\n",
       "    <tr>\n",
       "      <th>WiiU</th>\n",
       "      <td>11.73</td>\n",
       "      <td>7.097906</td>\n",
       "    </tr>\n",
       "  </tbody>\n",
       "</table>\n",
       "</div>"
      ],
      "text/plain": [
       "          jp_sales  procent_jp_sales\n",
       "platform                            \n",
       "3DS          68.79         41.625318\n",
       "PS3          32.92         19.920126\n",
       "PSV          21.04         12.731453\n",
       "PS4          14.43          8.731696\n",
       "WiiU         11.73          7.097906"
      ]
     },
     "execution_count": 48,
     "metadata": {},
     "output_type": "execute_result"
    }
   ],
   "source": [
    "top_jp_platform = data.pivot_table(\n",
    "    index='platform',\n",
    "    values='jp_sales',\n",
    "    aggfunc='sum'\n",
    ").sort_values(\n",
    "    by='jp_sales',\n",
    "    ascending=False\n",
    ").head()\n",
    "\n",
    "top_jp_platform['procent_jp_sales'] = top_jp_platform['jp_sales'] / data['jp_sales'].sum() * 100\n",
    "\n",
    "top_jp_platform"
   ]
  },
  {
   "cell_type": "code",
   "execution_count": 49,
   "metadata": {},
   "outputs": [
    {
     "data": {
      "image/png": "[encoded data removed]",
      "text/plain": [
       "<Figure size 1080x360 with 3 Axes>"
      ]
     },
     "metadata": {
      "needs_background": "light"
     },
     "output_type": "display_data"
    }
   ],
   "source": [
    "fig, axes = plt.subplots(nrows=1, ncols=3,figsize=(15,5))\n",
    "\n",
    "top_na_platform.plot.bar(y='procent_na_sales',ax=axes[0])\n",
    "top_eu_platform.plot.bar(y='procent_eu_sales',ax=axes[1])\n",
    "top_jp_platform.plot.bar(y='procent_jp_sales',ax=axes[2]);"
   ]
  },
  {
   "cell_type": "markdown",
   "metadata": {},
   "source": [
    "В регионе JP лидирует платформа 3DS. Ее продажи составляют 41 процентов от общих продаж и  сопоставимы с конкурентами на втором, третьем и четвертом месте вместе взятые."
   ]
  },
  {
   "cell_type": "markdown",
   "metadata": {},
   "source": [
    "Определим самые популярные жанры (топ-5) для каждого региона."
   ]
  },
  {
   "cell_type": "code",
   "execution_count": 50,
   "metadata": {},
   "outputs": [
    {
     "data": {
      "text/html": [
       "<div>\n",
       "<style scoped>\n",
       "    .dataframe tbody tr th:only-of-type {\n",
       "        vertical-align: middle;\n",
       "    }\n",
       "\n",
       "    .dataframe tbody tr th {\n",
       "        vertical-align: top;\n",
       "    }\n",
       "\n",
       "    .dataframe thead th {\n",
       "        text-align: right;\n",
       "    }\n",
       "</style>\n",
       "<table border=\"1\" class=\"dataframe\">\n",
       "  <thead>\n",
       "    <tr style=\"text-align: right;\">\n",
       "      <th></th>\n",
       "      <th>na_sales</th>\n",
       "      <th>procent_na_sales</th>\n",
       "    </tr>\n",
       "    <tr>\n",
       "      <th>genre</th>\n",
       "      <th></th>\n",
       "      <th></th>\n",
       "    </tr>\n",
       "  </thead>\n",
       "  <tbody>\n",
       "    <tr>\n",
       "      <th>Action</th>\n",
       "      <td>155.81</td>\n",
       "      <td>32.550609</td>\n",
       "    </tr>\n",
       "    <tr>\n",
       "      <th>Shooter</th>\n",
       "      <td>97.65</td>\n",
       "      <td>20.400276</td>\n",
       "    </tr>\n",
       "    <tr>\n",
       "      <th>Sports</th>\n",
       "      <td>78.17</td>\n",
       "      <td>16.330666</td>\n",
       "    </tr>\n",
       "    <tr>\n",
       "      <th>Role-Playing</th>\n",
       "      <td>46.07</td>\n",
       "      <td>9.624585</td>\n",
       "    </tr>\n",
       "    <tr>\n",
       "      <th>Misc</th>\n",
       "      <td>28.44</td>\n",
       "      <td>5.941463</td>\n",
       "    </tr>\n",
       "  </tbody>\n",
       "</table>\n",
       "</div>"
      ],
      "text/plain": [
       "              na_sales  procent_na_sales\n",
       "genre                                   \n",
       "Action          155.81         32.550609\n",
       "Shooter          97.65         20.400276\n",
       "Sports           78.17         16.330666\n",
       "Role-Playing     46.07          9.624585\n",
       "Misc             28.44          5.941463"
      ]
     },
     "execution_count": 50,
     "metadata": {},
     "output_type": "execute_result"
    }
   ],
   "source": [
    "top_na_genre = data.pivot_table(\n",
    "    index='genre',\n",
    "    values='na_sales'\n",
    "    , aggfunc='sum'\n",
    ").sort_values(\n",
    "    by='na_sales',\n",
    "    ascending=False\n",
    ").head()\n",
    "\n",
    "top_na_genre['procent_na_sales'] = top_na_genre['na_sales'] / data['na_sales'].sum() * 100\n",
    "\n",
    "top_na_genre"
   ]
  },
  {
   "cell_type": "markdown",
   "metadata": {},
   "source": [
    "В регионе NA лидирует жанры Action, Shooter и Sports. Их общая доля от всех продаж составляет почти 70 процентов от всех продаж. "
   ]
  },
  {
   "cell_type": "code",
   "execution_count": 51,
   "metadata": {
    "scrolled": true
   },
   "outputs": [
    {
     "data": {
      "text/html": [
       "<div>\n",
       "<style scoped>\n",
       "    .dataframe tbody tr th:only-of-type {\n",
       "        vertical-align: middle;\n",
       "    }\n",
       "\n",
       "    .dataframe tbody tr th {\n",
       "        vertical-align: top;\n",
       "    }\n",
       "\n",
       "    .dataframe thead th {\n",
       "        text-align: right;\n",
       "    }\n",
       "</style>\n",
       "<table border=\"1\" class=\"dataframe\">\n",
       "  <thead>\n",
       "    <tr style=\"text-align: right;\">\n",
       "      <th></th>\n",
       "      <th>eu_sales</th>\n",
       "      <th>procent_eu_sales</th>\n",
       "    </tr>\n",
       "    <tr>\n",
       "      <th>genre</th>\n",
       "      <th></th>\n",
       "      <th></th>\n",
       "    </tr>\n",
       "  </thead>\n",
       "  <tbody>\n",
       "    <tr>\n",
       "      <th>Action</th>\n",
       "      <td>133.63</td>\n",
       "      <td>33.462713</td>\n",
       "    </tr>\n",
       "    <tr>\n",
       "      <th>Shooter</th>\n",
       "      <td>80.09</td>\n",
       "      <td>20.055592</td>\n",
       "    </tr>\n",
       "    <tr>\n",
       "      <th>Sports</th>\n",
       "      <td>48.65</td>\n",
       "      <td>12.182601</td>\n",
       "    </tr>\n",
       "    <tr>\n",
       "      <th>Role-Playing</th>\n",
       "      <td>34.41</td>\n",
       "      <td>8.616718</td>\n",
       "    </tr>\n",
       "    <tr>\n",
       "      <th>Racing</th>\n",
       "      <td>25.14</td>\n",
       "      <td>6.295387</td>\n",
       "    </tr>\n",
       "  </tbody>\n",
       "</table>\n",
       "</div>"
      ],
      "text/plain": [
       "              eu_sales  procent_eu_sales\n",
       "genre                                   \n",
       "Action          133.63         33.462713\n",
       "Shooter          80.09         20.055592\n",
       "Sports           48.65         12.182601\n",
       "Role-Playing     34.41          8.616718\n",
       "Racing           25.14          6.295387"
      ]
     },
     "execution_count": 51,
     "metadata": {},
     "output_type": "execute_result"
    }
   ],
   "source": [
    "top_eu_genre = data.pivot_table(\n",
    "    index='genre',\n",
    "    values='eu_sales'\n",
    "    , aggfunc='sum'\n",
    ").sort_values(\n",
    "    by='eu_sales',\n",
    "    ascending=False\n",
    ").head()\n",
    "\n",
    "top_eu_genre['procent_eu_sales'] = top_eu_genre['eu_sales'] / data['eu_sales'].sum() * 100\n",
    "\n",
    "top_eu_genre"
   ]
  },
  {
   "cell_type": "markdown",
   "metadata": {},
   "source": [
    "В регионе EU наблюдается такая же ситуация как в регионе NA. "
   ]
  },
  {
   "cell_type": "code",
   "execution_count": 52,
   "metadata": {
    "scrolled": true
   },
   "outputs": [
    {
     "data": {
      "text/html": [
       "<div>\n",
       "<style scoped>\n",
       "    .dataframe tbody tr th:only-of-type {\n",
       "        vertical-align: middle;\n",
       "    }\n",
       "\n",
       "    .dataframe tbody tr th {\n",
       "        vertical-align: top;\n",
       "    }\n",
       "\n",
       "    .dataframe thead th {\n",
       "        text-align: right;\n",
       "    }\n",
       "</style>\n",
       "<table border=\"1\" class=\"dataframe\">\n",
       "  <thead>\n",
       "    <tr style=\"text-align: right;\">\n",
       "      <th></th>\n",
       "      <th>jp_sales</th>\n",
       "      <th>procent_jp_sales</th>\n",
       "    </tr>\n",
       "    <tr>\n",
       "      <th>genre</th>\n",
       "      <th></th>\n",
       "      <th></th>\n",
       "    </tr>\n",
       "  </thead>\n",
       "  <tbody>\n",
       "    <tr>\n",
       "      <th>Role-Playing</th>\n",
       "      <td>52.35</td>\n",
       "      <td>31.677357</td>\n",
       "    </tr>\n",
       "    <tr>\n",
       "      <th>Action</th>\n",
       "      <td>51.09</td>\n",
       "      <td>30.914922</td>\n",
       "    </tr>\n",
       "    <tr>\n",
       "      <th>Misc</th>\n",
       "      <td>13.08</td>\n",
       "      <td>7.914801</td>\n",
       "    </tr>\n",
       "    <tr>\n",
       "      <th>Adventure</th>\n",
       "      <td>8.24</td>\n",
       "      <td>4.986083</td>\n",
       "    </tr>\n",
       "    <tr>\n",
       "      <th>Sports</th>\n",
       "      <td>7.75</td>\n",
       "      <td>4.689580</td>\n",
       "    </tr>\n",
       "  </tbody>\n",
       "</table>\n",
       "</div>"
      ],
      "text/plain": [
       "              jp_sales  procent_jp_sales\n",
       "genre                                   \n",
       "Role-Playing     52.35         31.677357\n",
       "Action           51.09         30.914922\n",
       "Misc             13.08          7.914801\n",
       "Adventure         8.24          4.986083\n",
       "Sports            7.75          4.689580"
      ]
     },
     "execution_count": 52,
     "metadata": {},
     "output_type": "execute_result"
    }
   ],
   "source": [
    "top_jp_genre = data.pivot_table(\n",
    "    index='genre',\n",
    "    values='jp_sales'\n",
    "    , aggfunc='sum'\n",
    ").sort_values(\n",
    "    by='jp_sales',\n",
    "    ascending=False\n",
    ").head()\n",
    "\n",
    "top_jp_genre['procent_jp_sales'] = top_jp_genre['jp_sales'] / data['jp_sales'].sum() * 100\n",
    "\n",
    "top_jp_genre"
   ]
  },
  {
   "cell_type": "markdown",
   "metadata": {},
   "source": [
    "Пользователи в регионе JP так же, как и пользователи в NA и EU часто покупают игры в жанре Action, доля которого 30 процентов от все продаж. Но главное отличие пользователей региона JP от других, то, что они больше всего предпочитают игры в жанре Role-Playing, доля которого 31 процентов от все продаж. Игры в жанре Shooter и Sports, которые занимали лидирующие позиции в других регионах, в регионе JP имеют маленький процент продаж, меньше 5 процентов для каждого. "
   ]
  },
  {
   "cell_type": "markdown",
   "metadata": {},
   "source": [
    "Посмотрим, влияет ли рейтинг ESRB на продажи в отдельном регионе"
   ]
  },
  {
   "cell_type": "code",
   "execution_count": 53,
   "metadata": {},
   "outputs": [
    {
     "data": {
      "image/png": "[encoded data removed]",
      "text/plain": [
       "<Figure size 1080x360 with 1 Axes>"
      ]
     },
     "metadata": {
      "needs_background": "light"
     },
     "output_type": "display_data"
    }
   ],
   "source": [
    "data_rating = data.pivot_table(\n",
    "    index='rating',\n",
    "    values=['na_sales','eu_sales','jp_sales']\n",
    "    , aggfunc='sum'\n",
    ")\n",
    "\n",
    "data_rating['na_procent'] = data_rating['na_sales'] / data['na_sales'].sum() * 100\n",
    "data_rating['eu_procent'] = data_rating['eu_sales'] / data['eu_sales'].sum() * 100\n",
    "data_rating['jp_procent'] = data_rating['jp_sales'] / data['jp_sales'].sum() * 100\n",
    "\n",
    "data_rating.plot.bar(y=['na_procent','eu_procent','jp_procent'],figsize=(15,5));"
   ]
  },
  {
   "cell_type": "markdown",
   "metadata": {},
   "source": [
    "Выставленный рейтинг влияет на продажи в регионах. В регионе EU и NA наблюдается схожая ситуация, игры с рейтингом “М” имеют большой отрыв от игр с другим рейтингом. В JP регионе ситуация другая, лидером продаж являются игры без рейтинга. Возможно, это связано с тем, что ассоциация, которая предоставляет данный рейтинг – американская. "
   ]
  },
  {
   "cell_type": "markdown",
   "metadata": {},
   "source": [
    "## Статистический анализ данных"
   ]
  },
  {
   "cell_type": "markdown",
   "metadata": {},
   "source": [
    " Средние пользовательские рейтинги платформ Xbox One и PC одинаковые;\n",
    " \n",
    " Средние пользовательские рейтинги жанров Action (англ. «действие», экшен-игры) и Sports (англ. «спортивные соревнования») разные."
   ]
  },
  {
   "cell_type": "markdown",
   "metadata": {},
   "source": [
    "Проверим несколько гипотез: \n",
    "\n",
    "Первая - средние пользовательские рейтинги платформ Xbox One и PC одинаковые\n",
    "\n",
    "*H0: Средний пользовательский рейтинг Xbox One равен среднему пользовательскому рейтингу PC*\n",
    "\n",
    "*H1: Средний пользовательский рейтинг Xbox One не равен среднему пользовательскому рейтингу PC*"
   ]
  },
  {
   "cell_type": "code",
   "execution_count": 54,
   "metadata": {
    "scrolled": false
   },
   "outputs": [
    {
     "name": "stdout",
     "output_type": "stream",
     "text": [
      "P-значение: 0.6206366351489678\n",
      "Нет достаточных оснований, чтобы отклонить H0\n"
     ]
    }
   ],
   "source": [
    "sample_xone = data.query('platform == \"XOne\"')['user_score'].dropna()\n",
    "sample_pc = data.query('platform == \"PC\"')['user_score'].dropna()\n",
    "\n",
    "alpha = .05\n",
    "\n",
    "results = st.ttest_ind(sample_xone,sample_pc, equal_var = False)\n",
    "print('P-значение:', results.pvalue)\n",
    "\n",
    "if results.pvalue > alpha: \n",
    "    print('Нет достаточных оснований, чтобы отклонить H0')\n",
    "else:\n",
    "    print('Есть достаточные основания, чтобы отклонить Н0, принимаем Н1')"
   ]
  },
  {
   "cell_type": "markdown",
   "metadata": {},
   "source": [
    "У нас есть достаточные основания чтобы подтвердить, что средние пользовательские рейтинги платформ Xbox One и PC одинаковые "
   ]
  },
  {
   "cell_type": "markdown",
   "metadata": {},
   "source": [
    "Вторая - Средние пользовательские рейтинги жанров Action (англ. «действие», экшен-игры) и Sports (англ. «спортивные соревнования») разные.\n",
    "\n",
    "*H0: Средний пользовательский рейтинг жанра Action равен среднему пользовательскому рейтингу жанра Sports*\n",
    "\n",
    "*H1: Средний пользовательский рейтинг жанра Action не равен среднему пользовательскому рейтингу жанра Sports*"
   ]
  },
  {
   "cell_type": "code",
   "execution_count": 55,
   "metadata": {},
   "outputs": [
    {
     "name": "stdout",
     "output_type": "stream",
     "text": [
      "P-значение: 2.6650913133242695e-19\n",
      "Есть достаточные основания, чтобы отклонить Н0, принимаем Н1\n"
     ]
    }
   ],
   "source": [
    "sample_action = data.query('genre == \"Action\"')['user_score'].dropna()\n",
    "sample_sports = data.query('genre == \"Sports\"')['user_score'].dropna()\n",
    "\n",
    "alpha = .05\n",
    "\n",
    "results = st.ttest_ind(sample_action,sample_sports, equal_var = False)\n",
    "print('P-значение:', results.pvalue)\n",
    "\n",
    "if results.pvalue > alpha: \n",
    "    print('Нет достаточных оснований, чтобы отклонить H0')\n",
    "else:\n",
    "    print('Есть достаточные основания, чтобы отклонить Н0, принимаем Н1')"
   ]
  },
  {
   "cell_type": "markdown",
   "metadata": {},
   "source": [
    "У нас есть достаточные основания чтобы подтвердить, что средние пользовательские рейтинги жанров Action и Sports отличаются "
   ]
  },
  {
   "cell_type": "markdown",
   "metadata": {},
   "source": [
    "Почему гипотезы Н0 и Н1 были сформулированы именно так: Н0 это всегда равенство, в своем исследовании я имею ввиду что среднее для определенной выборке равен среднему для другой выборке. H1 это неравенство, то есть одно среднее не равно другому среднему. Сравнение происходило по независимым выборкам одной генеральной совокупности, поэтому я предпочел для исследования ttest_ind. Ответь точно на вопрос равны ли дисперсии двух выборок не представилось возможным, поэтому в параметрах ttest’а я указал параметр equal_var = False "
   ]
  },
  {
   "cell_type": "markdown",
   "metadata": {},
   "source": [
    "## Общий вывод"
   ]
  },
  {
   "cell_type": "markdown",
   "metadata": {},
   "source": [
    "**В завершении можно сделать вывод о том, что:**\n",
    "\n",
    "- За актуальный период наиболее прибыльные платформы для игр: PS4, XOne, 3DS, PC, PSV.\n",
    "- Продажи видеоигр не зависят от отзывов пользователей.\n",
    "- Жанры с наибольшим стабильным доходом: Shooter, Sports и Platform.\n",
    "- Пользователи в регионах EU и NA сходи по своим предпочтениям в игровых жанрах и в играх с определенным рейтингом.\n",
    "- Пользователи в регионе JP отличаются по предпочтениям от пользователей EU и NA в игровых жанрах и в играх с определенным рейтингом.  \n",
    "- Средние пользовательские рейтинги платформ Xbox One и PC одинаковые\n",
    "- Cредние пользовательские рейтинги жанров Action и Sports отличаются\n",
    "\n",
    "Исследование проводилось для актуального периода, с 2012 по 2016. Такой период был выбран из-за того, чтобы на полученные выводы не влияли неактуальные данные от устаревших платформ или от жанров, которые со временем утратили свою популярность. Поэтому можно предположить, что полученные выводы в результате исследования будут актуальны и в 2017 году.  \n",
    "\n",
    "**Рекомендации к закупке на 2017 год:**\n",
    "\n",
    "Для NA и EU региона стоит обратить внимание на игры: \n",
    "- На платформе: PS4, XOne \n",
    "- В жанре: Action, Shooter и Sports\n",
    "- С рейтингом “М”\n",
    "\n",
    "Для JP региона стоит обратить внимание на игры: \n",
    "- На платформе: 3DS, PSV, PS4 \n",
    "- В жанре: Action, Role-Playing и Misc\n",
    "- Без рейтига\n"
   ]
  },
  {
   "cell_type": "code",
   "execution_count": null,
   "metadata": {},
   "outputs": [],
   "source": []
  }
 ],
 "metadata": {
  "ExecuteTimeLog": [
   {
    "duration": 812,
    "start_time": "2022-12-12T17:51:19.936Z"
   },
   {
    "duration": 231,
    "start_time": "2022-12-12T17:52:23.883Z"
   },
   {
    "duration": 67,
    "start_time": "2022-12-12T17:52:38.606Z"
   },
   {
    "duration": 71,
    "start_time": "2022-12-12T17:52:51.719Z"
   },
   {
    "duration": 63,
    "start_time": "2022-12-12T17:53:22.170Z"
   },
   {
    "duration": 17,
    "start_time": "2022-12-12T17:53:54.001Z"
   },
   {
    "duration": 9,
    "start_time": "2022-12-12T17:57:48.722Z"
   },
   {
    "duration": 73,
    "start_time": "2022-12-12T17:58:09.104Z"
   },
   {
    "duration": 9,
    "start_time": "2022-12-12T17:58:13.561Z"
   },
   {
    "duration": 9,
    "start_time": "2022-12-12T17:59:46.359Z"
   },
   {
    "duration": 25,
    "start_time": "2022-12-12T18:00:10.223Z"
   },
   {
    "duration": 6,
    "start_time": "2022-12-12T18:00:38.489Z"
   },
   {
    "duration": 5,
    "start_time": "2022-12-12T18:01:02.367Z"
   },
   {
    "duration": 5,
    "start_time": "2022-12-12T18:01:13.134Z"
   },
   {
    "duration": 40,
    "start_time": "2022-12-12T18:01:50.814Z"
   },
   {
    "duration": 15,
    "start_time": "2022-12-12T18:03:23.559Z"
   },
   {
    "duration": 6,
    "start_time": "2022-12-12T18:13:00.250Z"
   },
   {
    "duration": 8,
    "start_time": "2022-12-12T18:13:12.786Z"
   },
   {
    "duration": 8,
    "start_time": "2022-12-12T18:13:16.777Z"
   },
   {
    "duration": 5,
    "start_time": "2022-12-12T18:14:02.816Z"
   },
   {
    "duration": 15,
    "start_time": "2022-12-12T18:20:38.126Z"
   },
   {
    "duration": 22,
    "start_time": "2022-12-12T18:21:12.942Z"
   },
   {
    "duration": 11,
    "start_time": "2022-12-12T18:21:51.004Z"
   },
   {
    "duration": 6,
    "start_time": "2022-12-12T18:22:14.540Z"
   },
   {
    "duration": 15,
    "start_time": "2022-12-12T18:22:47.589Z"
   },
   {
    "duration": 9,
    "start_time": "2022-12-12T18:24:44.427Z"
   },
   {
    "duration": 13,
    "start_time": "2022-12-12T18:24:54.227Z"
   },
   {
    "duration": 13,
    "start_time": "2022-12-12T18:25:55.000Z"
   },
   {
    "duration": 9,
    "start_time": "2022-12-12T18:26:54.340Z"
   },
   {
    "duration": 11,
    "start_time": "2022-12-12T18:27:02.562Z"
   },
   {
    "duration": 10,
    "start_time": "2022-12-12T18:27:39.234Z"
   },
   {
    "duration": 11,
    "start_time": "2022-12-12T18:27:48.625Z"
   },
   {
    "duration": 10,
    "start_time": "2022-12-12T18:28:08.745Z"
   },
   {
    "duration": 10,
    "start_time": "2022-12-12T18:28:16.235Z"
   },
   {
    "duration": 18,
    "start_time": "2022-12-12T18:29:32.096Z"
   },
   {
    "duration": 9,
    "start_time": "2022-12-12T18:29:43.512Z"
   },
   {
    "duration": 10,
    "start_time": "2022-12-12T18:29:53.752Z"
   },
   {
    "duration": 9,
    "start_time": "2022-12-12T18:30:12.840Z"
   },
   {
    "duration": 7,
    "start_time": "2022-12-12T18:30:20.015Z"
   },
   {
    "duration": 10,
    "start_time": "2022-12-12T18:42:06.458Z"
   },
   {
    "duration": 8,
    "start_time": "2022-12-12T18:46:03.839Z"
   },
   {
    "duration": 29,
    "start_time": "2022-12-12T18:46:23.288Z"
   },
   {
    "duration": 21,
    "start_time": "2022-12-12T18:46:31.441Z"
   },
   {
    "duration": 46,
    "start_time": "2022-12-12T18:46:39.793Z"
   },
   {
    "duration": 27,
    "start_time": "2022-12-12T18:47:05.412Z"
   },
   {
    "duration": 23,
    "start_time": "2022-12-12T18:47:16.719Z"
   },
   {
    "duration": 32,
    "start_time": "2022-12-12T18:47:25.415Z"
   },
   {
    "duration": 14,
    "start_time": "2022-12-12T18:49:23.182Z"
   },
   {
    "duration": 14,
    "start_time": "2022-12-12T18:49:40.151Z"
   },
   {
    "duration": 30,
    "start_time": "2022-12-12T18:53:07.844Z"
   },
   {
    "duration": 23,
    "start_time": "2022-12-12T18:53:17.174Z"
   },
   {
    "duration": 1084,
    "start_time": "2022-12-12T18:54:27.429Z"
   },
   {
    "duration": 25,
    "start_time": "2022-12-12T18:56:07.820Z"
   },
   {
    "duration": 24,
    "start_time": "2022-12-12T18:56:24.579Z"
   },
   {
    "duration": 51,
    "start_time": "2022-12-12T18:56:46.644Z"
   },
   {
    "duration": 15,
    "start_time": "2022-12-12T18:57:14.596Z"
   },
   {
    "duration": 1129,
    "start_time": "2022-12-12T19:01:00.177Z"
   },
   {
    "duration": 1137,
    "start_time": "2022-12-12T19:01:08.082Z"
   },
   {
    "duration": 8,
    "start_time": "2022-12-12T19:01:13.617Z"
   },
   {
    "duration": 6,
    "start_time": "2022-12-12T19:01:25.266Z"
   },
   {
    "duration": 21,
    "start_time": "2022-12-12T19:02:23.898Z"
   },
   {
    "duration": 10,
    "start_time": "2022-12-12T19:03:21.577Z"
   },
   {
    "duration": 16,
    "start_time": "2022-12-12T19:03:27.610Z"
   },
   {
    "duration": 16,
    "start_time": "2022-12-12T19:05:01.433Z"
   },
   {
    "duration": 10,
    "start_time": "2022-12-12T19:05:16.895Z"
   },
   {
    "duration": 14,
    "start_time": "2022-12-12T19:05:22.056Z"
   },
   {
    "duration": 9,
    "start_time": "2022-12-12T19:05:26.657Z"
   },
   {
    "duration": 11,
    "start_time": "2022-12-12T19:07:34.127Z"
   },
   {
    "duration": 41,
    "start_time": "2022-12-12T19:12:28.878Z"
   },
   {
    "duration": 58,
    "start_time": "2022-12-12T19:12:35.821Z"
   },
   {
    "duration": 34,
    "start_time": "2022-12-12T19:12:44.677Z"
   },
   {
    "duration": 28,
    "start_time": "2022-12-12T19:13:03.469Z"
   },
   {
    "duration": 645,
    "start_time": "2022-12-12T19:13:17.677Z"
   },
   {
    "duration": 88,
    "start_time": "2022-12-12T19:13:18.324Z"
   },
   {
    "duration": 18,
    "start_time": "2022-12-12T19:13:18.414Z"
   },
   {
    "duration": 20,
    "start_time": "2022-12-12T19:13:18.434Z"
   },
   {
    "duration": 18,
    "start_time": "2022-12-12T19:13:18.459Z"
   },
   {
    "duration": 112,
    "start_time": "2022-12-12T19:13:18.479Z"
   },
   {
    "duration": 0,
    "start_time": "2022-12-12T19:13:18.594Z"
   },
   {
    "duration": 9,
    "start_time": "2022-12-12T19:13:28.277Z"
   },
   {
    "duration": 19,
    "start_time": "2022-12-12T19:14:02.612Z"
   },
   {
    "duration": 14,
    "start_time": "2022-12-12T19:14:16.979Z"
   },
   {
    "duration": 15,
    "start_time": "2022-12-12T19:15:54.364Z"
   },
   {
    "duration": 6,
    "start_time": "2022-12-12T19:16:04.788Z"
   },
   {
    "duration": 15,
    "start_time": "2022-12-12T19:17:52.749Z"
   },
   {
    "duration": 14,
    "start_time": "2022-12-12T19:18:00.658Z"
   },
   {
    "duration": 19,
    "start_time": "2022-12-12T19:18:20.433Z"
   },
   {
    "duration": 28,
    "start_time": "2022-12-12T19:24:00.320Z"
   },
   {
    "duration": 7,
    "start_time": "2022-12-12T19:29:15.773Z"
   },
   {
    "duration": 6,
    "start_time": "2022-12-12T19:37:19.987Z"
   },
   {
    "duration": 8,
    "start_time": "2022-12-12T19:41:02.224Z"
   },
   {
    "duration": 1151,
    "start_time": "2022-12-12T19:43:38.918Z"
   },
   {
    "duration": 1071,
    "start_time": "2022-12-12T19:44:04.918Z"
   },
   {
    "duration": 7,
    "start_time": "2022-12-12T19:45:20.855Z"
   },
   {
    "duration": 100,
    "start_time": "2022-12-12T19:45:47.021Z"
   },
   {
    "duration": 16,
    "start_time": "2022-12-12T19:45:56.352Z"
   },
   {
    "duration": 32,
    "start_time": "2022-12-12T19:46:49.431Z"
   },
   {
    "duration": 67,
    "start_time": "2022-12-12T19:47:20.294Z"
   },
   {
    "duration": 77,
    "start_time": "2022-12-12T19:47:30.592Z"
   },
   {
    "duration": 18,
    "start_time": "2022-12-12T19:48:03.038Z"
   },
   {
    "duration": 11,
    "start_time": "2022-12-12T19:49:02.565Z"
   },
   {
    "duration": 13,
    "start_time": "2022-12-12T19:49:45.093Z"
   },
   {
    "duration": 4,
    "start_time": "2022-12-12T19:50:06.811Z"
   },
   {
    "duration": 349,
    "start_time": "2022-12-12T19:50:11.324Z"
   },
   {
    "duration": 1615,
    "start_time": "2022-12-12T19:50:21.524Z"
   },
   {
    "duration": 1143,
    "start_time": "2022-12-12T19:51:10.533Z"
   },
   {
    "duration": 743,
    "start_time": "2022-12-12T19:52:23.468Z"
   },
   {
    "duration": 962,
    "start_time": "2022-12-12T19:53:29.690Z"
   },
   {
    "duration": 11,
    "start_time": "2022-12-12T19:53:38.273Z"
   },
   {
    "duration": 602,
    "start_time": "2022-12-12T19:53:59.483Z"
   },
   {
    "duration": 1107,
    "start_time": "2022-12-12T19:54:08.275Z"
   },
   {
    "duration": 11,
    "start_time": "2022-12-12T19:54:09.385Z"
   },
   {
    "duration": 970,
    "start_time": "2022-12-12T19:56:02.713Z"
   },
   {
    "duration": 9,
    "start_time": "2022-12-12T19:56:03.685Z"
   },
   {
    "duration": 19,
    "start_time": "2022-12-12T19:57:51.904Z"
   },
   {
    "duration": 6,
    "start_time": "2022-12-12T19:58:11.788Z"
   },
   {
    "duration": 8,
    "start_time": "2022-12-12T19:58:25.985Z"
   },
   {
    "duration": 16,
    "start_time": "2022-12-12T19:58:40.818Z"
   },
   {
    "duration": 8,
    "start_time": "2022-12-12T19:58:49.568Z"
   },
   {
    "duration": 17,
    "start_time": "2022-12-12T19:58:50.025Z"
   },
   {
    "duration": 10,
    "start_time": "2022-12-12T20:00:48.966Z"
   },
   {
    "duration": 10,
    "start_time": "2022-12-12T20:06:26.750Z"
   },
   {
    "duration": 1014,
    "start_time": "2022-12-12T20:06:45.654Z"
   },
   {
    "duration": 10,
    "start_time": "2022-12-12T20:06:46.670Z"
   },
   {
    "duration": 15,
    "start_time": "2022-12-12T20:07:00.133Z"
   },
   {
    "duration": 8,
    "start_time": "2022-12-12T20:07:00.580Z"
   },
   {
    "duration": 15,
    "start_time": "2022-12-12T20:07:01.085Z"
   },
   {
    "duration": 8,
    "start_time": "2022-12-12T20:07:50.358Z"
   },
   {
    "duration": 10,
    "start_time": "2022-12-12T20:07:50.932Z"
   },
   {
    "duration": 16,
    "start_time": "2022-12-12T20:07:51.501Z"
   },
   {
    "duration": 11,
    "start_time": "2022-12-12T20:08:36.236Z"
   },
   {
    "duration": 7,
    "start_time": "2022-12-12T20:08:37.260Z"
   },
   {
    "duration": 25,
    "start_time": "2022-12-12T20:08:37.828Z"
   },
   {
    "duration": 895,
    "start_time": "2022-12-12T20:09:02.236Z"
   },
   {
    "duration": 14,
    "start_time": "2022-12-12T20:09:03.133Z"
   },
   {
    "duration": 6,
    "start_time": "2022-12-12T20:09:13.492Z"
   },
   {
    "duration": 22,
    "start_time": "2022-12-12T20:11:53.770Z"
   },
   {
    "duration": 10,
    "start_time": "2022-12-12T20:12:06.020Z"
   },
   {
    "duration": 23,
    "start_time": "2022-12-12T20:12:16.866Z"
   },
   {
    "duration": 10,
    "start_time": "2022-12-12T20:14:42.258Z"
   },
   {
    "duration": 23,
    "start_time": "2022-12-12T20:14:49.515Z"
   },
   {
    "duration": 8,
    "start_time": "2022-12-12T20:15:08.882Z"
   },
   {
    "duration": 10,
    "start_time": "2022-12-12T20:15:17.082Z"
   },
   {
    "duration": 16,
    "start_time": "2022-12-12T20:16:06.153Z"
   },
   {
    "duration": 1402,
    "start_time": "2022-12-12T20:16:21.416Z"
   },
   {
    "duration": 17,
    "start_time": "2022-12-12T20:16:28.460Z"
   },
   {
    "duration": 1430,
    "start_time": "2022-12-12T20:16:53.073Z"
   },
   {
    "duration": 16,
    "start_time": "2022-12-12T20:17:00.176Z"
   },
   {
    "duration": 14,
    "start_time": "2022-12-12T20:26:50.460Z"
   },
   {
    "duration": 12,
    "start_time": "2022-12-12T20:27:01.427Z"
   },
   {
    "duration": 10,
    "start_time": "2022-12-12T20:27:22.013Z"
   },
   {
    "duration": 15,
    "start_time": "2022-12-12T20:27:30.933Z"
   },
   {
    "duration": 14,
    "start_time": "2022-12-12T20:27:39.037Z"
   },
   {
    "duration": 14,
    "start_time": "2022-12-12T20:29:43.795Z"
   },
   {
    "duration": 11,
    "start_time": "2022-12-12T20:29:49.957Z"
   },
   {
    "duration": 11,
    "start_time": "2022-12-12T20:30:08.750Z"
   },
   {
    "duration": 14,
    "start_time": "2022-12-12T20:30:33.603Z"
   },
   {
    "duration": 11,
    "start_time": "2022-12-12T20:34:41.051Z"
   },
   {
    "duration": 72,
    "start_time": "2022-12-12T20:39:04.144Z"
   },
   {
    "duration": 14,
    "start_time": "2022-12-12T20:39:07.782Z"
   },
   {
    "duration": 12,
    "start_time": "2022-12-12T20:39:17.151Z"
   },
   {
    "duration": 17,
    "start_time": "2022-12-12T20:39:33.831Z"
   },
   {
    "duration": 8,
    "start_time": "2022-12-12T20:39:42.486Z"
   },
   {
    "duration": 8,
    "start_time": "2022-12-12T20:40:34.166Z"
   },
   {
    "duration": 8,
    "start_time": "2022-12-12T20:41:25.295Z"
   },
   {
    "duration": 12,
    "start_time": "2022-12-12T20:41:48.311Z"
   },
   {
    "duration": 22,
    "start_time": "2022-12-12T20:42:00.917Z"
   },
   {
    "duration": 22,
    "start_time": "2022-12-12T20:42:10.198Z"
   },
   {
    "duration": 7,
    "start_time": "2022-12-12T20:42:40.285Z"
   },
   {
    "duration": 9,
    "start_time": "2022-12-12T20:43:08.560Z"
   },
   {
    "duration": 7,
    "start_time": "2022-12-12T20:44:03.021Z"
   },
   {
    "duration": 8,
    "start_time": "2022-12-12T20:44:20.404Z"
   },
   {
    "duration": 69,
    "start_time": "2022-12-12T20:44:34.054Z"
   },
   {
    "duration": 11,
    "start_time": "2022-12-12T20:44:39.556Z"
   },
   {
    "duration": 11,
    "start_time": "2022-12-12T20:45:02.581Z"
   },
   {
    "duration": 12,
    "start_time": "2022-12-12T20:45:07.150Z"
   },
   {
    "duration": 14,
    "start_time": "2022-12-12T20:45:11.042Z"
   },
   {
    "duration": 6,
    "start_time": "2022-12-12T20:45:40.589Z"
   },
   {
    "duration": 11,
    "start_time": "2022-12-12T20:46:03.932Z"
   },
   {
    "duration": 10,
    "start_time": "2022-12-12T20:46:14.124Z"
   },
   {
    "duration": 5,
    "start_time": "2022-12-12T20:46:23.967Z"
   },
   {
    "duration": 5,
    "start_time": "2022-12-12T20:55:22.640Z"
   },
   {
    "duration": 11,
    "start_time": "2022-12-12T20:59:11.391Z"
   },
   {
    "duration": 13,
    "start_time": "2022-12-12T21:04:42.053Z"
   },
   {
    "duration": 19,
    "start_time": "2022-12-12T21:05:00.242Z"
   },
   {
    "duration": 16,
    "start_time": "2022-12-12T21:05:06.036Z"
   },
   {
    "duration": 18,
    "start_time": "2022-12-12T21:05:27.742Z"
   },
   {
    "duration": 28,
    "start_time": "2022-12-12T21:06:09.724Z"
   },
   {
    "duration": 5,
    "start_time": "2022-12-12T21:10:09.185Z"
   },
   {
    "duration": 13,
    "start_time": "2022-12-12T21:10:10.995Z"
   },
   {
    "duration": 5,
    "start_time": "2022-12-12T21:10:21.270Z"
   },
   {
    "duration": 657,
    "start_time": "2022-12-12T21:10:25.751Z"
   },
   {
    "duration": 77,
    "start_time": "2022-12-12T21:10:26.410Z"
   },
   {
    "duration": 17,
    "start_time": "2022-12-12T21:10:26.489Z"
   },
   {
    "duration": 11,
    "start_time": "2022-12-12T21:10:26.508Z"
   },
   {
    "duration": 30,
    "start_time": "2022-12-12T21:10:26.521Z"
   },
   {
    "duration": 20,
    "start_time": "2022-12-12T21:10:26.554Z"
   },
   {
    "duration": 919,
    "start_time": "2022-12-12T21:10:26.576Z"
   },
   {
    "duration": 9,
    "start_time": "2022-12-12T21:10:27.497Z"
   },
   {
    "duration": 5,
    "start_time": "2022-12-12T21:10:27.508Z"
   },
   {
    "duration": 36,
    "start_time": "2022-12-12T21:10:27.514Z"
   },
   {
    "duration": 651,
    "start_time": "2022-12-12T21:11:47.976Z"
   },
   {
    "duration": 77,
    "start_time": "2022-12-12T21:11:48.629Z"
   },
   {
    "duration": 16,
    "start_time": "2022-12-12T21:11:48.707Z"
   },
   {
    "duration": 4,
    "start_time": "2022-12-12T21:11:48.725Z"
   },
   {
    "duration": 20,
    "start_time": "2022-12-12T21:11:48.731Z"
   },
   {
    "duration": 10,
    "start_time": "2022-12-12T21:11:48.753Z"
   },
   {
    "duration": 1032,
    "start_time": "2022-12-12T21:11:48.765Z"
   },
   {
    "duration": 5,
    "start_time": "2022-12-12T21:11:49.798Z"
   },
   {
    "duration": 20,
    "start_time": "2022-12-12T21:11:49.804Z"
   },
   {
    "duration": 30,
    "start_time": "2022-12-12T21:11:49.826Z"
   },
   {
    "duration": 29,
    "start_time": "2022-12-12T21:21:09.628Z"
   },
   {
    "duration": 55,
    "start_time": "2022-12-13T18:14:50.307Z"
   },
   {
    "duration": 769,
    "start_time": "2022-12-13T18:14:56.449Z"
   },
   {
    "duration": 214,
    "start_time": "2022-12-13T18:14:57.221Z"
   },
   {
    "duration": 15,
    "start_time": "2022-12-13T18:14:57.437Z"
   },
   {
    "duration": 5,
    "start_time": "2022-12-13T18:14:57.454Z"
   },
   {
    "duration": 10,
    "start_time": "2022-12-13T18:14:57.461Z"
   },
   {
    "duration": 10,
    "start_time": "2022-12-13T18:14:57.473Z"
   },
   {
    "duration": 767,
    "start_time": "2022-12-13T18:14:57.484Z"
   },
   {
    "duration": 5,
    "start_time": "2022-12-13T18:14:58.253Z"
   },
   {
    "duration": 25,
    "start_time": "2022-12-13T18:14:58.260Z"
   },
   {
    "duration": 9,
    "start_time": "2022-12-13T18:15:25.688Z"
   },
   {
    "duration": 74,
    "start_time": "2022-12-13T18:15:25.698Z"
   },
   {
    "duration": 27745,
    "start_time": "2022-12-13T18:15:25.774Z"
   },
   {
    "duration": 69,
    "start_time": "2022-12-13T18:16:26.728Z"
   },
   {
    "duration": 24708,
    "start_time": "2022-12-13T18:16:32.964Z"
   },
   {
    "duration": 9,
    "start_time": "2022-12-13T18:17:01.412Z"
   },
   {
    "duration": 9,
    "start_time": "2022-12-13T18:18:07.267Z"
   },
   {
    "duration": 71,
    "start_time": "2022-12-13T18:18:36.748Z"
   },
   {
    "duration": 14,
    "start_time": "2022-12-13T18:18:46.295Z"
   },
   {
    "duration": 14,
    "start_time": "2022-12-13T18:19:13.745Z"
   },
   {
    "duration": 22,
    "start_time": "2022-12-13T18:20:27.898Z"
   },
   {
    "duration": 9,
    "start_time": "2022-12-13T18:20:52.562Z"
   },
   {
    "duration": 8,
    "start_time": "2022-12-13T18:20:56.579Z"
   },
   {
    "duration": 17,
    "start_time": "2022-12-13T18:21:02.474Z"
   },
   {
    "duration": 15,
    "start_time": "2022-12-13T18:21:29.506Z"
   },
   {
    "duration": 17,
    "start_time": "2022-12-13T18:21:41.970Z"
   },
   {
    "duration": 25,
    "start_time": "2022-12-13T18:22:38.107Z"
   },
   {
    "duration": 15,
    "start_time": "2022-12-13T18:22:47.025Z"
   },
   {
    "duration": 31,
    "start_time": "2022-12-13T18:23:03.425Z"
   },
   {
    "duration": 16,
    "start_time": "2022-12-13T18:23:26.160Z"
   },
   {
    "duration": 8,
    "start_time": "2022-12-13T18:23:37.105Z"
   },
   {
    "duration": 10,
    "start_time": "2022-12-13T18:23:40.672Z"
   },
   {
    "duration": 25,
    "start_time": "2022-12-13T18:23:43.264Z"
   },
   {
    "duration": 6,
    "start_time": "2022-12-13T18:24:14.449Z"
   },
   {
    "duration": 6,
    "start_time": "2022-12-13T18:24:19.168Z"
   },
   {
    "duration": 25091,
    "start_time": "2022-12-13T18:30:13.614Z"
   },
   {
    "duration": 9,
    "start_time": "2022-12-13T18:30:38.707Z"
   },
   {
    "duration": 4,
    "start_time": "2022-12-13T18:31:57.172Z"
   },
   {
    "duration": 10,
    "start_time": "2022-12-13T18:31:58.060Z"
   },
   {
    "duration": 618,
    "start_time": "2022-12-13T18:32:41.902Z"
   },
   {
    "duration": 66,
    "start_time": "2022-12-13T18:32:42.522Z"
   },
   {
    "duration": 16,
    "start_time": "2022-12-13T18:32:42.590Z"
   },
   {
    "duration": 30,
    "start_time": "2022-12-13T18:32:42.609Z"
   },
   {
    "duration": 27,
    "start_time": "2022-12-13T18:32:42.641Z"
   },
   {
    "duration": 25,
    "start_time": "2022-12-13T18:32:42.669Z"
   },
   {
    "duration": 850,
    "start_time": "2022-12-13T18:32:42.695Z"
   },
   {
    "duration": 5,
    "start_time": "2022-12-13T18:32:43.547Z"
   },
   {
    "duration": 42,
    "start_time": "2022-12-13T18:32:43.553Z"
   },
   {
    "duration": 26937,
    "start_time": "2022-12-13T18:32:43.598Z"
   },
   {
    "duration": 9,
    "start_time": "2022-12-13T18:33:10.537Z"
   },
   {
    "duration": 43,
    "start_time": "2022-12-13T18:33:10.548Z"
   },
   {
    "duration": 81,
    "start_time": "2022-12-13T18:58:41.975Z"
   },
   {
    "duration": 1164,
    "start_time": "2022-12-13T19:00:07.511Z"
   },
   {
    "duration": 9,
    "start_time": "2022-12-13T19:05:33.540Z"
   },
   {
    "duration": 7,
    "start_time": "2022-12-13T19:05:43.820Z"
   },
   {
    "duration": 7,
    "start_time": "2022-12-13T19:07:21.515Z"
   },
   {
    "duration": 10,
    "start_time": "2022-12-13T19:07:30.992Z"
   },
   {
    "duration": 4,
    "start_time": "2022-12-13T19:07:53.597Z"
   },
   {
    "duration": 1146,
    "start_time": "2022-12-13T19:07:54.955Z"
   },
   {
    "duration": 11,
    "start_time": "2022-12-13T19:08:20.370Z"
   },
   {
    "duration": 10,
    "start_time": "2022-12-13T19:08:43.618Z"
   },
   {
    "duration": 80,
    "start_time": "2022-12-13T19:08:48.633Z"
   },
   {
    "duration": 26,
    "start_time": "2022-12-13T19:08:54.130Z"
   },
   {
    "duration": 14,
    "start_time": "2022-12-13T19:09:10.665Z"
   },
   {
    "duration": 1187,
    "start_time": "2022-12-13T19:09:11.378Z"
   },
   {
    "duration": 28,
    "start_time": "2022-12-13T19:09:12.675Z"
   },
   {
    "duration": 9,
    "start_time": "2022-12-13T19:09:21.795Z"
   },
   {
    "duration": 1182,
    "start_time": "2022-12-13T19:09:22.521Z"
   },
   {
    "duration": 24,
    "start_time": "2022-12-13T19:09:23.704Z"
   },
   {
    "duration": 11,
    "start_time": "2022-12-13T19:09:33.441Z"
   },
   {
    "duration": 15,
    "start_time": "2022-12-13T19:12:24.992Z"
   },
   {
    "duration": 7,
    "start_time": "2022-12-13T19:19:34.412Z"
   },
   {
    "duration": 146,
    "start_time": "2022-12-13T19:19:35.801Z"
   },
   {
    "duration": 14,
    "start_time": "2022-12-13T19:19:48.700Z"
   },
   {
    "duration": 8,
    "start_time": "2022-12-13T19:20:05.428Z"
   },
   {
    "duration": 15,
    "start_time": "2022-12-13T20:01:04.362Z"
   },
   {
    "duration": 15,
    "start_time": "2022-12-13T20:01:19.706Z"
   },
   {
    "duration": 34,
    "start_time": "2022-12-13T20:01:25.258Z"
   },
   {
    "duration": 58,
    "start_time": "2022-12-13T20:01:35.674Z"
   },
   {
    "duration": 35,
    "start_time": "2022-12-13T20:02:04.947Z"
   },
   {
    "duration": 29,
    "start_time": "2022-12-13T20:04:15.113Z"
   },
   {
    "duration": 41,
    "start_time": "2022-12-13T20:06:19.057Z"
   },
   {
    "duration": 19,
    "start_time": "2022-12-13T20:09:20.703Z"
   },
   {
    "duration": 1099,
    "start_time": "2022-12-13T20:13:46.564Z"
   },
   {
    "duration": 1127,
    "start_time": "2022-12-13T20:14:16.555Z"
   },
   {
    "duration": 9,
    "start_time": "2022-12-13T20:14:37.987Z"
   },
   {
    "duration": 9,
    "start_time": "2022-12-13T20:14:49.220Z"
   },
   {
    "duration": 127,
    "start_time": "2022-12-13T20:15:24.314Z"
   },
   {
    "duration": 11,
    "start_time": "2022-12-13T20:15:56.737Z"
   },
   {
    "duration": 8,
    "start_time": "2022-12-13T20:16:02.874Z"
   },
   {
    "duration": 10,
    "start_time": "2022-12-13T20:18:11.072Z"
   },
   {
    "duration": 107,
    "start_time": "2022-12-13T20:21:51.013Z"
   },
   {
    "duration": 90,
    "start_time": "2022-12-13T20:21:57.597Z"
   },
   {
    "duration": 112,
    "start_time": "2022-12-13T20:23:30.284Z"
   },
   {
    "duration": 108,
    "start_time": "2022-12-13T20:23:34.823Z"
   },
   {
    "duration": 163,
    "start_time": "2022-12-13T20:23:38.916Z"
   },
   {
    "duration": 8,
    "start_time": "2022-12-13T20:24:28.388Z"
   },
   {
    "duration": 5,
    "start_time": "2022-12-13T20:24:38.075Z"
   },
   {
    "duration": 7,
    "start_time": "2022-12-13T20:24:41.580Z"
   },
   {
    "duration": 140,
    "start_time": "2022-12-13T20:27:46.089Z"
   },
   {
    "duration": 114,
    "start_time": "2022-12-13T20:27:54.105Z"
   },
   {
    "duration": 102,
    "start_time": "2022-12-13T20:27:59.434Z"
   },
   {
    "duration": 89,
    "start_time": "2022-12-13T20:28:07.593Z"
   },
   {
    "duration": 99,
    "start_time": "2022-12-13T20:28:15.217Z"
   },
   {
    "duration": 117,
    "start_time": "2022-12-13T20:30:20.529Z"
   },
   {
    "duration": 116,
    "start_time": "2022-12-13T20:30:34.800Z"
   },
   {
    "duration": 47,
    "start_time": "2022-12-13T20:37:22.987Z"
   },
   {
    "duration": 19,
    "start_time": "2022-12-13T20:37:42.764Z"
   },
   {
    "duration": 15,
    "start_time": "2022-12-13T20:38:22.620Z"
   },
   {
    "duration": 322,
    "start_time": "2022-12-13T20:39:24.990Z"
   },
   {
    "duration": 351,
    "start_time": "2022-12-13T20:40:56.779Z"
   },
   {
    "duration": 457,
    "start_time": "2022-12-13T20:41:03.451Z"
   },
   {
    "duration": 393,
    "start_time": "2022-12-13T20:41:09.779Z"
   },
   {
    "duration": 48,
    "start_time": "2022-12-14T16:28:13.725Z"
   },
   {
    "duration": 764,
    "start_time": "2022-12-14T16:28:19.822Z"
   },
   {
    "duration": 210,
    "start_time": "2022-12-14T16:28:20.588Z"
   },
   {
    "duration": 16,
    "start_time": "2022-12-14T16:28:20.800Z"
   },
   {
    "duration": 5,
    "start_time": "2022-12-14T16:28:20.818Z"
   },
   {
    "duration": 13,
    "start_time": "2022-12-14T16:28:20.824Z"
   },
   {
    "duration": 13,
    "start_time": "2022-12-14T16:28:20.838Z"
   },
   {
    "duration": 812,
    "start_time": "2022-12-14T16:28:20.853Z"
   },
   {
    "duration": 4,
    "start_time": "2022-12-14T16:28:21.667Z"
   },
   {
    "duration": 13,
    "start_time": "2022-12-14T16:28:21.673Z"
   },
   {
    "duration": 26724,
    "start_time": "2022-12-14T16:28:21.688Z"
   },
   {
    "duration": 11,
    "start_time": "2022-12-14T16:28:48.414Z"
   },
   {
    "duration": 17,
    "start_time": "2022-12-14T16:28:48.427Z"
   },
   {
    "duration": 8,
    "start_time": "2022-12-14T16:28:48.446Z"
   },
   {
    "duration": 11,
    "start_time": "2022-12-14T16:28:48.455Z"
   },
   {
    "duration": 149,
    "start_time": "2022-12-14T16:28:48.468Z"
   },
   {
    "duration": 16,
    "start_time": "2022-12-14T16:28:48.618Z"
   },
   {
    "duration": 336,
    "start_time": "2022-12-14T16:28:48.636Z"
   },
   {
    "duration": 78,
    "start_time": "2022-12-14T16:28:48.974Z"
   },
   {
    "duration": 119,
    "start_time": "2022-12-14T16:28:58.232Z"
   },
   {
    "duration": 18,
    "start_time": "2022-12-14T16:30:08.295Z"
   },
   {
    "duration": 14,
    "start_time": "2022-12-14T16:30:37.071Z"
   },
   {
    "duration": 11,
    "start_time": "2022-12-14T16:31:48.147Z"
   },
   {
    "duration": 9,
    "start_time": "2022-12-14T16:32:12.413Z"
   },
   {
    "duration": 8,
    "start_time": "2022-12-14T16:32:19.789Z"
   },
   {
    "duration": 15,
    "start_time": "2022-12-14T16:32:51.869Z"
   },
   {
    "duration": 16,
    "start_time": "2022-12-14T16:33:39.566Z"
   },
   {
    "duration": 4,
    "start_time": "2022-12-14T16:36:29.004Z"
   },
   {
    "duration": 663,
    "start_time": "2022-12-14T16:36:55.506Z"
   },
   {
    "duration": 69,
    "start_time": "2022-12-14T16:36:56.171Z"
   },
   {
    "duration": 16,
    "start_time": "2022-12-14T16:36:56.242Z"
   },
   {
    "duration": 5,
    "start_time": "2022-12-14T16:36:56.260Z"
   },
   {
    "duration": 10,
    "start_time": "2022-12-14T16:36:56.267Z"
   },
   {
    "duration": 28,
    "start_time": "2022-12-14T16:36:56.279Z"
   },
   {
    "duration": 800,
    "start_time": "2022-12-14T16:36:56.309Z"
   },
   {
    "duration": 5,
    "start_time": "2022-12-14T16:36:57.110Z"
   },
   {
    "duration": 17,
    "start_time": "2022-12-14T16:36:57.116Z"
   },
   {
    "duration": 27149,
    "start_time": "2022-12-14T16:36:57.136Z"
   },
   {
    "duration": 17,
    "start_time": "2022-12-14T16:37:24.287Z"
   },
   {
    "duration": 12,
    "start_time": "2022-12-14T16:37:24.306Z"
   },
   {
    "duration": 7,
    "start_time": "2022-12-14T16:37:24.320Z"
   },
   {
    "duration": 19,
    "start_time": "2022-12-14T16:37:24.328Z"
   },
   {
    "duration": 3,
    "start_time": "2022-12-14T16:37:24.348Z"
   },
   {
    "duration": 10,
    "start_time": "2022-12-14T16:37:24.353Z"
   },
   {
    "duration": 151,
    "start_time": "2022-12-14T16:37:24.365Z"
   },
   {
    "duration": 17,
    "start_time": "2022-12-14T16:37:24.517Z"
   },
   {
    "duration": 355,
    "start_time": "2022-12-14T16:37:24.535Z"
   },
   {
    "duration": 78,
    "start_time": "2022-12-14T16:37:24.892Z"
   },
   {
    "duration": 10,
    "start_time": "2022-12-14T16:38:05.259Z"
   },
   {
    "duration": 14,
    "start_time": "2022-12-14T16:38:30.491Z"
   },
   {
    "duration": 10,
    "start_time": "2022-12-14T16:38:49.995Z"
   },
   {
    "duration": 15,
    "start_time": "2022-12-14T16:39:00.779Z"
   },
   {
    "duration": 15,
    "start_time": "2022-12-14T16:40:05.866Z"
   },
   {
    "duration": 15,
    "start_time": "2022-12-14T16:40:28.515Z"
   },
   {
    "duration": 15,
    "start_time": "2022-12-14T16:40:42.852Z"
   },
   {
    "duration": 15,
    "start_time": "2022-12-14T16:41:18.915Z"
   },
   {
    "duration": 69,
    "start_time": "2022-12-14T16:52:06.942Z"
   },
   {
    "duration": 1135,
    "start_time": "2022-12-14T16:52:48.957Z"
   },
   {
    "duration": 1111,
    "start_time": "2022-12-14T16:53:00.574Z"
   },
   {
    "duration": 1144,
    "start_time": "2022-12-14T16:53:06.973Z"
   },
   {
    "duration": 6,
    "start_time": "2022-12-14T16:53:19.014Z"
   },
   {
    "duration": 5,
    "start_time": "2022-12-14T16:53:37.613Z"
   },
   {
    "duration": 6,
    "start_time": "2022-12-14T16:57:05.390Z"
   },
   {
    "duration": 9,
    "start_time": "2022-12-14T16:57:11.036Z"
   },
   {
    "duration": 23,
    "start_time": "2022-12-14T17:01:09.627Z"
   },
   {
    "duration": 143,
    "start_time": "2022-12-14T17:01:24.652Z"
   },
   {
    "duration": 20,
    "start_time": "2022-12-14T17:01:46.002Z"
   },
   {
    "duration": 187,
    "start_time": "2022-12-14T17:02:03.750Z"
   },
   {
    "duration": 26,
    "start_time": "2022-12-14T17:02:28.858Z"
   },
   {
    "duration": 22,
    "start_time": "2022-12-14T17:02:48.434Z"
   },
   {
    "duration": 19,
    "start_time": "2022-12-14T17:02:57.340Z"
   },
   {
    "duration": 158,
    "start_time": "2022-12-14T17:03:09.338Z"
   },
   {
    "duration": 331,
    "start_time": "2022-12-14T17:03:58.865Z"
   },
   {
    "duration": 676,
    "start_time": "2022-12-14T17:05:27.192Z"
   },
   {
    "duration": 137,
    "start_time": "2022-12-14T17:05:59.129Z"
   },
   {
    "duration": 161,
    "start_time": "2022-12-14T17:06:32.889Z"
   },
   {
    "duration": 153,
    "start_time": "2022-12-14T17:07:00.761Z"
   },
   {
    "duration": 219,
    "start_time": "2022-12-14T17:07:06.680Z"
   },
   {
    "duration": 161,
    "start_time": "2022-12-14T17:08:09.712Z"
   },
   {
    "duration": 15,
    "start_time": "2022-12-14T17:13:12.661Z"
   },
   {
    "duration": 16,
    "start_time": "2022-12-14T17:13:18.389Z"
   },
   {
    "duration": 344,
    "start_time": "2022-12-14T17:13:31.853Z"
   },
   {
    "duration": 128,
    "start_time": "2022-12-14T17:14:06.398Z"
   },
   {
    "duration": 382,
    "start_time": "2022-12-14T17:14:15.061Z"
   },
   {
    "duration": 351,
    "start_time": "2022-12-14T17:14:28.341Z"
   },
   {
    "duration": 47,
    "start_time": "2022-12-14T17:15:03.836Z"
   },
   {
    "duration": 337,
    "start_time": "2022-12-14T17:15:15.262Z"
   },
   {
    "duration": 450,
    "start_time": "2022-12-14T17:15:29.326Z"
   },
   {
    "duration": 354,
    "start_time": "2022-12-14T17:15:44.262Z"
   },
   {
    "duration": 342,
    "start_time": "2022-12-14T17:16:31.549Z"
   },
   {
    "duration": 380,
    "start_time": "2022-12-14T17:17:18.525Z"
   },
   {
    "duration": 244,
    "start_time": "2022-12-14T17:18:00.429Z"
   },
   {
    "duration": 235,
    "start_time": "2022-12-14T17:18:19.139Z"
   },
   {
    "duration": 215,
    "start_time": "2022-12-14T17:18:31.803Z"
   },
   {
    "duration": 211,
    "start_time": "2022-12-14T17:19:11.717Z"
   },
   {
    "duration": 206,
    "start_time": "2022-12-14T17:19:59.163Z"
   },
   {
    "duration": 199,
    "start_time": "2022-12-14T17:20:18.691Z"
   },
   {
    "duration": 3,
    "start_time": "2022-12-14T17:22:56.529Z"
   },
   {
    "duration": 25,
    "start_time": "2022-12-14T17:23:30.418Z"
   },
   {
    "duration": 3,
    "start_time": "2022-12-14T17:23:41.762Z"
   },
   {
    "duration": 23,
    "start_time": "2022-12-14T17:23:44.425Z"
   },
   {
    "duration": 3,
    "start_time": "2022-12-14T17:25:03.888Z"
   },
   {
    "duration": 4,
    "start_time": "2022-12-14T17:25:07.944Z"
   },
   {
    "duration": 3,
    "start_time": "2022-12-14T17:25:25.792Z"
   },
   {
    "duration": 341,
    "start_time": "2022-12-14T17:25:27.952Z"
   },
   {
    "duration": 2,
    "start_time": "2022-12-14T17:26:34.073Z"
   },
   {
    "duration": 4,
    "start_time": "2022-12-14T17:27:16.027Z"
   },
   {
    "duration": 4,
    "start_time": "2022-12-14T17:27:36.295Z"
   },
   {
    "duration": 209,
    "start_time": "2022-12-14T17:27:39.017Z"
   },
   {
    "duration": 3,
    "start_time": "2022-12-14T17:28:08.655Z"
   },
   {
    "duration": 228,
    "start_time": "2022-12-14T17:28:11.071Z"
   },
   {
    "duration": 4,
    "start_time": "2022-12-14T17:28:19.039Z"
   },
   {
    "duration": 205,
    "start_time": "2022-12-14T17:29:21.414Z"
   },
   {
    "duration": 217,
    "start_time": "2022-12-14T17:31:51.613Z"
   },
   {
    "duration": 211,
    "start_time": "2022-12-14T17:32:04.926Z"
   },
   {
    "duration": 208,
    "start_time": "2022-12-14T17:32:18.300Z"
   },
   {
    "duration": 1177,
    "start_time": "2022-12-14T17:32:50.685Z"
   },
   {
    "duration": 5,
    "start_time": "2022-12-14T17:33:11.461Z"
   },
   {
    "duration": 7,
    "start_time": "2022-12-14T17:33:22.060Z"
   },
   {
    "duration": 4,
    "start_time": "2022-12-14T17:34:33.628Z"
   },
   {
    "duration": 4,
    "start_time": "2022-12-14T17:34:41.765Z"
   },
   {
    "duration": 4,
    "start_time": "2022-12-14T17:34:46.348Z"
   },
   {
    "duration": 211,
    "start_time": "2022-12-14T17:34:59.421Z"
   },
   {
    "duration": 222,
    "start_time": "2022-12-14T17:35:11.510Z"
   },
   {
    "duration": 21,
    "start_time": "2022-12-14T17:35:18.916Z"
   },
   {
    "duration": 190,
    "start_time": "2022-12-14T17:35:25.164Z"
   },
   {
    "duration": 238,
    "start_time": "2022-12-14T17:35:36.851Z"
   },
   {
    "duration": 220,
    "start_time": "2022-12-14T17:35:43.180Z"
   },
   {
    "duration": 300,
    "start_time": "2022-12-14T17:35:52.659Z"
   },
   {
    "duration": 183,
    "start_time": "2022-12-14T17:36:00.643Z"
   },
   {
    "duration": 164,
    "start_time": "2022-12-14T17:36:09.996Z"
   },
   {
    "duration": 188,
    "start_time": "2022-12-14T17:36:20.059Z"
   },
   {
    "duration": 196,
    "start_time": "2022-12-14T17:36:28.923Z"
   },
   {
    "duration": 11,
    "start_time": "2022-12-14T17:42:39.597Z"
   },
   {
    "duration": 671,
    "start_time": "2022-12-14T17:42:49.884Z"
   },
   {
    "duration": 68,
    "start_time": "2022-12-14T17:42:50.557Z"
   },
   {
    "duration": 15,
    "start_time": "2022-12-14T17:42:50.627Z"
   },
   {
    "duration": 6,
    "start_time": "2022-12-14T17:42:50.643Z"
   },
   {
    "duration": 17,
    "start_time": "2022-12-14T17:42:50.650Z"
   },
   {
    "duration": 11,
    "start_time": "2022-12-14T17:42:50.668Z"
   },
   {
    "duration": 885,
    "start_time": "2022-12-14T17:42:50.681Z"
   },
   {
    "duration": 6,
    "start_time": "2022-12-14T17:42:51.567Z"
   },
   {
    "duration": 31,
    "start_time": "2022-12-14T17:42:51.575Z"
   },
   {
    "duration": 28402,
    "start_time": "2022-12-14T17:42:51.608Z"
   },
   {
    "duration": 11,
    "start_time": "2022-12-14T17:43:20.012Z"
   },
   {
    "duration": 22,
    "start_time": "2022-12-14T17:43:20.024Z"
   },
   {
    "duration": 10,
    "start_time": "2022-12-14T17:43:20.048Z"
   },
   {
    "duration": 23,
    "start_time": "2022-12-14T17:43:20.061Z"
   },
   {
    "duration": 21,
    "start_time": "2022-12-14T17:43:20.085Z"
   },
   {
    "duration": 8,
    "start_time": "2022-12-14T17:43:20.107Z"
   },
   {
    "duration": 141,
    "start_time": "2022-12-14T17:43:20.116Z"
   },
   {
    "duration": 17,
    "start_time": "2022-12-14T17:43:20.259Z"
   },
   {
    "duration": 357,
    "start_time": "2022-12-14T17:43:20.278Z"
   },
   {
    "duration": 16,
    "start_time": "2022-12-14T17:43:20.636Z"
   },
   {
    "duration": 18,
    "start_time": "2022-12-14T17:43:20.654Z"
   },
   {
    "duration": 7,
    "start_time": "2022-12-14T17:43:20.674Z"
   },
   {
    "duration": 222,
    "start_time": "2022-12-14T17:43:20.683Z"
   },
   {
    "duration": 273,
    "start_time": "2022-12-14T17:43:20.906Z"
   },
   {
    "duration": 206,
    "start_time": "2022-12-14T17:43:21.181Z"
   },
   {
    "duration": 221,
    "start_time": "2022-12-14T17:43:21.389Z"
   },
   {
    "duration": 207,
    "start_time": "2022-12-14T17:43:21.611Z"
   },
   {
    "duration": 214,
    "start_time": "2022-12-14T17:43:21.820Z"
   },
   {
    "duration": 205,
    "start_time": "2022-12-14T17:43:22.036Z"
   },
   {
    "duration": 169,
    "start_time": "2022-12-14T17:43:22.243Z"
   },
   {
    "duration": 198,
    "start_time": "2022-12-14T17:43:22.415Z"
   },
   {
    "duration": 194,
    "start_time": "2022-12-14T17:43:22.615Z"
   },
   {
    "duration": 225,
    "start_time": "2022-12-14T17:44:04.400Z"
   },
   {
    "duration": 3322,
    "start_time": "2022-12-14T17:45:14.176Z"
   },
   {
    "duration": 7,
    "start_time": "2022-12-14T18:20:23.315Z"
   },
   {
    "duration": 15,
    "start_time": "2022-12-14T18:20:28.679Z"
   },
   {
    "duration": 15,
    "start_time": "2022-12-14T18:24:51.382Z"
   },
   {
    "duration": 16,
    "start_time": "2022-12-14T18:26:19.199Z"
   },
   {
    "duration": 1920,
    "start_time": "2022-12-14T18:27:15.671Z"
   },
   {
    "duration": 3110,
    "start_time": "2022-12-14T18:28:46.957Z"
   },
   {
    "duration": 2031,
    "start_time": "2022-12-14T18:28:57.196Z"
   },
   {
    "duration": 95,
    "start_time": "2022-12-14T18:42:02.095Z"
   },
   {
    "duration": 9,
    "start_time": "2022-12-14T18:42:08.855Z"
   },
   {
    "duration": 17,
    "start_time": "2022-12-14T18:42:42.447Z"
   },
   {
    "duration": 31,
    "start_time": "2022-12-14T18:43:52.143Z"
   },
   {
    "duration": 656,
    "start_time": "2022-12-14T18:44:12.913Z"
   },
   {
    "duration": 74,
    "start_time": "2022-12-14T18:44:13.571Z"
   },
   {
    "duration": 18,
    "start_time": "2022-12-14T18:44:13.647Z"
   },
   {
    "duration": 45,
    "start_time": "2022-12-14T18:44:13.667Z"
   },
   {
    "duration": 16,
    "start_time": "2022-12-14T18:44:13.713Z"
   },
   {
    "duration": 13,
    "start_time": "2022-12-14T18:44:13.731Z"
   },
   {
    "duration": 12,
    "start_time": "2022-12-14T18:44:13.746Z"
   },
   {
    "duration": 951,
    "start_time": "2022-12-14T18:44:13.760Z"
   },
   {
    "duration": 8,
    "start_time": "2022-12-14T18:44:14.713Z"
   },
   {
    "duration": 15,
    "start_time": "2022-12-14T18:44:14.725Z"
   },
   {
    "duration": 30447,
    "start_time": "2022-12-14T18:44:14.742Z"
   },
   {
    "duration": 9,
    "start_time": "2022-12-14T18:44:45.191Z"
   },
   {
    "duration": 30,
    "start_time": "2022-12-14T18:44:45.205Z"
   },
   {
    "duration": 8,
    "start_time": "2022-12-14T18:44:45.237Z"
   },
   {
    "duration": 34,
    "start_time": "2022-12-14T18:44:45.247Z"
   },
   {
    "duration": 4,
    "start_time": "2022-12-14T18:44:45.283Z"
   },
   {
    "duration": 23,
    "start_time": "2022-12-14T18:44:45.289Z"
   },
   {
    "duration": 138,
    "start_time": "2022-12-14T18:44:45.319Z"
   },
   {
    "duration": 15,
    "start_time": "2022-12-14T18:44:45.459Z"
   },
   {
    "duration": 435,
    "start_time": "2022-12-14T18:44:45.476Z"
   },
   {
    "duration": 23,
    "start_time": "2022-12-14T18:44:45.915Z"
   },
   {
    "duration": 13,
    "start_time": "2022-12-14T18:44:45.940Z"
   },
   {
    "duration": 5,
    "start_time": "2022-12-14T18:44:45.954Z"
   },
   {
    "duration": 3688,
    "start_time": "2022-12-14T18:44:45.961Z"
   },
   {
    "duration": 7,
    "start_time": "2022-12-14T18:44:49.651Z"
   },
   {
    "duration": 19,
    "start_time": "2022-12-14T18:44:49.659Z"
   },
   {
    "duration": 1911,
    "start_time": "2022-12-14T18:44:49.680Z"
   },
   {
    "duration": 31,
    "start_time": "2022-12-14T18:44:51.594Z"
   },
   {
    "duration": 18,
    "start_time": "2022-12-14T18:57:05.502Z"
   },
   {
    "duration": 94,
    "start_time": "2022-12-14T19:00:14.096Z"
   },
   {
    "duration": 16,
    "start_time": "2022-12-14T19:00:35.465Z"
   },
   {
    "duration": 660,
    "start_time": "2022-12-14T19:00:43.281Z"
   },
   {
    "duration": 70,
    "start_time": "2022-12-14T19:00:43.942Z"
   },
   {
    "duration": 18,
    "start_time": "2022-12-14T19:00:44.013Z"
   },
   {
    "duration": 4,
    "start_time": "2022-12-14T19:00:44.033Z"
   },
   {
    "duration": 11,
    "start_time": "2022-12-14T19:00:44.039Z"
   },
   {
    "duration": 11,
    "start_time": "2022-12-14T19:00:44.052Z"
   },
   {
    "duration": 906,
    "start_time": "2022-12-14T19:00:44.065Z"
   },
   {
    "duration": 7,
    "start_time": "2022-12-14T19:00:44.973Z"
   },
   {
    "duration": 39,
    "start_time": "2022-12-14T19:00:44.982Z"
   },
   {
    "duration": 30153,
    "start_time": "2022-12-14T19:00:45.024Z"
   },
   {
    "duration": 9,
    "start_time": "2022-12-14T19:01:15.182Z"
   },
   {
    "duration": 27,
    "start_time": "2022-12-14T19:01:15.193Z"
   },
   {
    "duration": 8,
    "start_time": "2022-12-14T19:01:15.222Z"
   },
   {
    "duration": 18,
    "start_time": "2022-12-14T19:01:15.231Z"
   },
   {
    "duration": 4,
    "start_time": "2022-12-14T19:01:15.251Z"
   },
   {
    "duration": 9,
    "start_time": "2022-12-14T19:01:15.256Z"
   },
   {
    "duration": 161,
    "start_time": "2022-12-14T19:01:15.266Z"
   },
   {
    "duration": 16,
    "start_time": "2022-12-14T19:01:15.428Z"
   },
   {
    "duration": 364,
    "start_time": "2022-12-14T19:01:15.446Z"
   },
   {
    "duration": 18,
    "start_time": "2022-12-14T19:01:15.813Z"
   },
   {
    "duration": 13,
    "start_time": "2022-12-14T19:01:15.832Z"
   },
   {
    "duration": 5,
    "start_time": "2022-12-14T19:01:15.847Z"
   },
   {
    "duration": 3444,
    "start_time": "2022-12-14T19:01:15.853Z"
   },
   {
    "duration": 22,
    "start_time": "2022-12-14T19:01:19.298Z"
   },
   {
    "duration": 17,
    "start_time": "2022-12-14T19:01:19.321Z"
   },
   {
    "duration": 1915,
    "start_time": "2022-12-14T19:01:19.340Z"
   },
   {
    "duration": 95,
    "start_time": "2022-12-14T19:01:21.257Z"
   },
   {
    "duration": 16,
    "start_time": "2022-12-14T19:01:41.887Z"
   },
   {
    "duration": 17,
    "start_time": "2022-12-14T19:01:55.279Z"
   },
   {
    "duration": 20,
    "start_time": "2022-12-14T19:02:05.809Z"
   },
   {
    "duration": 4,
    "start_time": "2022-12-14T19:14:26.497Z"
   },
   {
    "duration": 74,
    "start_time": "2022-12-14T19:17:08.752Z"
   },
   {
    "duration": 11,
    "start_time": "2022-12-14T19:17:48.151Z"
   },
   {
    "duration": 10,
    "start_time": "2022-12-14T19:18:33.040Z"
   },
   {
    "duration": 24,
    "start_time": "2022-12-14T19:18:47.241Z"
   },
   {
    "duration": 25,
    "start_time": "2022-12-14T19:19:39.856Z"
   },
   {
    "duration": 3,
    "start_time": "2022-12-14T19:20:25.956Z"
   },
   {
    "duration": 19,
    "start_time": "2022-12-14T19:20:42.430Z"
   },
   {
    "duration": 11,
    "start_time": "2022-12-14T19:20:45.887Z"
   },
   {
    "duration": 9,
    "start_time": "2022-12-14T19:20:55.559Z"
   },
   {
    "duration": 11,
    "start_time": "2022-12-14T19:21:11.486Z"
   },
   {
    "duration": 10,
    "start_time": "2022-12-14T19:21:19.759Z"
   },
   {
    "duration": 80,
    "start_time": "2022-12-14T19:21:31.871Z"
   },
   {
    "duration": 123,
    "start_time": "2022-12-14T19:22:02.311Z"
   },
   {
    "duration": 350,
    "start_time": "2022-12-14T19:22:29.238Z"
   },
   {
    "duration": 376,
    "start_time": "2022-12-14T19:22:55.542Z"
   },
   {
    "duration": 5,
    "start_time": "2022-12-14T19:23:56.982Z"
   },
   {
    "duration": 122,
    "start_time": "2022-12-14T19:24:17.102Z"
   },
   {
    "duration": 121,
    "start_time": "2022-12-14T19:24:28.301Z"
   },
   {
    "duration": 97,
    "start_time": "2022-12-14T19:25:06.957Z"
   },
   {
    "duration": 114,
    "start_time": "2022-12-14T19:25:21.668Z"
   },
   {
    "duration": 186,
    "start_time": "2022-12-14T19:26:03.085Z"
   },
   {
    "duration": 114,
    "start_time": "2022-12-14T19:26:18.567Z"
   },
   {
    "duration": 100,
    "start_time": "2022-12-14T19:26:34.821Z"
   },
   {
    "duration": 117,
    "start_time": "2022-12-14T19:26:43.724Z"
   },
   {
    "duration": 115,
    "start_time": "2022-12-14T19:26:56.004Z"
   },
   {
    "duration": 106,
    "start_time": "2022-12-14T19:27:18.917Z"
   },
   {
    "duration": 91,
    "start_time": "2022-12-14T19:27:32.748Z"
   },
   {
    "duration": 134,
    "start_time": "2022-12-14T19:27:49.388Z"
   },
   {
    "duration": 105,
    "start_time": "2022-12-14T19:28:02.221Z"
   },
   {
    "duration": 125,
    "start_time": "2022-12-14T19:28:52.100Z"
   },
   {
    "duration": 119,
    "start_time": "2022-12-14T19:29:08.427Z"
   },
   {
    "duration": 184,
    "start_time": "2022-12-14T19:30:04.203Z"
   },
   {
    "duration": 106,
    "start_time": "2022-12-14T19:36:57.770Z"
   },
   {
    "duration": 104,
    "start_time": "2022-12-14T19:38:40.923Z"
   },
   {
    "duration": 105,
    "start_time": "2022-12-14T19:38:42.560Z"
   },
   {
    "duration": 99,
    "start_time": "2022-12-14T19:38:42.993Z"
   },
   {
    "duration": 105,
    "start_time": "2022-12-14T19:38:43.318Z"
   },
   {
    "duration": 107,
    "start_time": "2022-12-14T19:38:43.584Z"
   },
   {
    "duration": 103,
    "start_time": "2022-12-14T19:38:44.200Z"
   },
   {
    "duration": 86,
    "start_time": "2022-12-14T19:38:44.592Z"
   },
   {
    "duration": 123,
    "start_time": "2022-12-14T19:38:44.992Z"
   },
   {
    "duration": 102,
    "start_time": "2022-12-14T19:38:45.376Z"
   },
   {
    "duration": 177,
    "start_time": "2022-12-14T19:38:45.776Z"
   },
   {
    "duration": 118,
    "start_time": "2022-12-14T19:38:46.190Z"
   },
   {
    "duration": 100,
    "start_time": "2022-12-14T19:38:46.928Z"
   },
   {
    "duration": 5,
    "start_time": "2022-12-14T19:39:29.728Z"
   },
   {
    "duration": 8,
    "start_time": "2022-12-14T19:40:22.641Z"
   },
   {
    "duration": 5,
    "start_time": "2022-12-14T19:40:50.456Z"
   },
   {
    "duration": 95,
    "start_time": "2022-12-14T19:42:06.447Z"
   },
   {
    "duration": 95,
    "start_time": "2022-12-14T19:42:07.888Z"
   },
   {
    "duration": 100,
    "start_time": "2022-12-14T19:42:08.440Z"
   },
   {
    "duration": 96,
    "start_time": "2022-12-14T19:42:08.766Z"
   },
   {
    "duration": 95,
    "start_time": "2022-12-14T19:42:09.158Z"
   },
   {
    "duration": 90,
    "start_time": "2022-12-14T19:42:09.527Z"
   },
   {
    "duration": 100,
    "start_time": "2022-12-14T19:42:09.952Z"
   },
   {
    "duration": 104,
    "start_time": "2022-12-14T19:42:10.578Z"
   },
   {
    "duration": 170,
    "start_time": "2022-12-14T19:42:11.102Z"
   },
   {
    "duration": 100,
    "start_time": "2022-12-14T19:42:11.717Z"
   },
   {
    "duration": 108,
    "start_time": "2022-12-14T19:42:12.390Z"
   },
   {
    "duration": 110,
    "start_time": "2022-12-14T19:42:14.446Z"
   },
   {
    "duration": 124,
    "start_time": "2022-12-14T19:46:06.926Z"
   },
   {
    "duration": 110,
    "start_time": "2022-12-14T19:46:56.341Z"
   },
   {
    "duration": 94,
    "start_time": "2022-12-14T19:47:04.669Z"
   },
   {
    "duration": 108,
    "start_time": "2022-12-14T19:47:12.333Z"
   },
   {
    "duration": 111,
    "start_time": "2022-12-14T19:47:17.221Z"
   },
   {
    "duration": 105,
    "start_time": "2022-12-14T19:47:25.189Z"
   },
   {
    "duration": 110,
    "start_time": "2022-12-14T19:47:33.476Z"
   },
   {
    "duration": 163,
    "start_time": "2022-12-14T19:47:40.398Z"
   },
   {
    "duration": 93,
    "start_time": "2022-12-14T19:47:54.397Z"
   },
   {
    "duration": 107,
    "start_time": "2022-12-14T19:48:19.421Z"
   },
   {
    "duration": 1320,
    "start_time": "2022-12-14T20:05:11.350Z"
   },
   {
    "duration": 144,
    "start_time": "2022-12-14T20:05:22.765Z"
   },
   {
    "duration": 5,
    "start_time": "2022-12-14T20:05:50.831Z"
   },
   {
    "duration": 133,
    "start_time": "2022-12-14T20:06:39.318Z"
   },
   {
    "duration": 5,
    "start_time": "2022-12-14T20:06:57.920Z"
   },
   {
    "duration": 5,
    "start_time": "2022-12-14T20:09:00.923Z"
   },
   {
    "duration": 8,
    "start_time": "2022-12-14T20:16:10.545Z"
   },
   {
    "duration": 7,
    "start_time": "2022-12-14T20:16:24.455Z"
   },
   {
    "duration": 25,
    "start_time": "2022-12-14T20:16:36.001Z"
   },
   {
    "duration": 7,
    "start_time": "2022-12-14T20:16:50.726Z"
   },
   {
    "duration": 30,
    "start_time": "2022-12-14T20:17:17.625Z"
   },
   {
    "duration": 171,
    "start_time": "2022-12-14T20:17:37.777Z"
   },
   {
    "duration": 136,
    "start_time": "2022-12-14T20:17:45.872Z"
   },
   {
    "duration": 23,
    "start_time": "2022-12-14T20:18:21.358Z"
   },
   {
    "duration": 5,
    "start_time": "2022-12-14T20:18:25.152Z"
   },
   {
    "duration": 140,
    "start_time": "2022-12-14T20:18:35.134Z"
   },
   {
    "duration": 5,
    "start_time": "2022-12-14T20:18:49.366Z"
   },
   {
    "duration": 164,
    "start_time": "2022-12-14T20:18:57.230Z"
   },
   {
    "duration": 5,
    "start_time": "2022-12-14T20:19:17.254Z"
   },
   {
    "duration": 8,
    "start_time": "2022-12-14T20:20:12.054Z"
   },
   {
    "duration": 7,
    "start_time": "2022-12-14T20:20:28.621Z"
   },
   {
    "duration": 5,
    "start_time": "2022-12-14T20:22:22.348Z"
   },
   {
    "duration": 5,
    "start_time": "2022-12-14T20:22:23.093Z"
   },
   {
    "duration": 935,
    "start_time": "2022-12-15T16:23:08.755Z"
   },
   {
    "duration": 252,
    "start_time": "2022-12-15T16:23:09.693Z"
   },
   {
    "duration": 22,
    "start_time": "2022-12-15T16:23:09.947Z"
   },
   {
    "duration": 5,
    "start_time": "2022-12-15T16:23:09.972Z"
   },
   {
    "duration": 32,
    "start_time": "2022-12-15T16:23:09.979Z"
   },
   {
    "duration": 16,
    "start_time": "2022-12-15T16:23:10.013Z"
   },
   {
    "duration": 965,
    "start_time": "2022-12-15T16:23:10.031Z"
   },
   {
    "duration": 6,
    "start_time": "2022-12-15T16:23:10.998Z"
   },
   {
    "duration": 16,
    "start_time": "2022-12-15T16:23:11.006Z"
   },
   {
    "duration": 30604,
    "start_time": "2022-12-15T16:23:11.025Z"
   },
   {
    "duration": 21,
    "start_time": "2022-12-15T16:23:41.631Z"
   },
   {
    "duration": 23,
    "start_time": "2022-12-15T16:23:41.653Z"
   },
   {
    "duration": 17,
    "start_time": "2022-12-15T16:23:41.678Z"
   },
   {
    "duration": 41,
    "start_time": "2022-12-15T16:23:41.697Z"
   },
   {
    "duration": 13,
    "start_time": "2022-12-15T16:23:41.739Z"
   },
   {
    "duration": 28,
    "start_time": "2022-12-15T16:23:41.754Z"
   },
   {
    "duration": 166,
    "start_time": "2022-12-15T16:23:41.784Z"
   },
   {
    "duration": 18,
    "start_time": "2022-12-15T16:23:41.952Z"
   },
   {
    "duration": 405,
    "start_time": "2022-12-15T16:23:41.972Z"
   },
   {
    "duration": 17,
    "start_time": "2022-12-15T16:23:42.379Z"
   },
   {
    "duration": 38,
    "start_time": "2022-12-15T16:23:42.398Z"
   },
   {
    "duration": 35,
    "start_time": "2022-12-15T16:23:42.438Z"
   },
   {
    "duration": 3331,
    "start_time": "2022-12-15T16:23:42.475Z"
   },
   {
    "duration": 6,
    "start_time": "2022-12-15T16:23:45.807Z"
   },
   {
    "duration": 19,
    "start_time": "2022-12-15T16:23:45.815Z"
   },
   {
    "duration": 1990,
    "start_time": "2022-12-15T16:23:45.836Z"
   },
   {
    "duration": 123,
    "start_time": "2022-12-15T16:23:47.827Z"
   },
   {
    "duration": 124,
    "start_time": "2022-12-15T16:23:47.955Z"
   },
   {
    "duration": 136,
    "start_time": "2022-12-15T16:23:48.081Z"
   },
   {
    "duration": 118,
    "start_time": "2022-12-15T16:23:48.219Z"
   },
   {
    "duration": 126,
    "start_time": "2022-12-15T16:23:48.339Z"
   },
   {
    "duration": 111,
    "start_time": "2022-12-15T16:23:48.467Z"
   },
   {
    "duration": 113,
    "start_time": "2022-12-15T16:23:48.579Z"
   },
   {
    "duration": 120,
    "start_time": "2022-12-15T16:23:48.694Z"
   },
   {
    "duration": 191,
    "start_time": "2022-12-15T16:23:48.816Z"
   },
   {
    "duration": 148,
    "start_time": "2022-12-15T16:23:49.009Z"
   },
   {
    "duration": 161,
    "start_time": "2022-12-15T16:23:49.159Z"
   },
   {
    "duration": 135,
    "start_time": "2022-12-15T16:23:49.322Z"
   },
   {
    "duration": 6,
    "start_time": "2022-12-15T16:23:49.459Z"
   },
   {
    "duration": 131,
    "start_time": "2022-12-15T16:23:49.467Z"
   },
   {
    "duration": 145,
    "start_time": "2022-12-15T16:23:49.599Z"
   },
   {
    "duration": 167,
    "start_time": "2022-12-15T16:23:49.747Z"
   },
   {
    "duration": 149,
    "start_time": "2022-12-15T16:23:49.916Z"
   },
   {
    "duration": 139,
    "start_time": "2022-12-15T16:23:50.067Z"
   },
   {
    "duration": 133,
    "start_time": "2022-12-15T16:23:50.207Z"
   },
   {
    "duration": 116,
    "start_time": "2022-12-15T16:23:50.341Z"
   },
   {
    "duration": 192,
    "start_time": "2022-12-15T16:23:50.459Z"
   },
   {
    "duration": 139,
    "start_time": "2022-12-15T16:23:50.654Z"
   },
   {
    "duration": 117,
    "start_time": "2022-12-15T16:23:50.794Z"
   },
   {
    "duration": 124,
    "start_time": "2022-12-15T16:23:50.913Z"
   },
   {
    "duration": 120,
    "start_time": "2022-12-15T16:23:51.039Z"
   },
   {
    "duration": 5,
    "start_time": "2022-12-15T16:23:51.161Z"
   },
   {
    "duration": 165,
    "start_time": "2022-12-15T16:23:51.169Z"
   },
   {
    "duration": 15,
    "start_time": "2022-12-15T16:23:51.336Z"
   },
   {
    "duration": 154,
    "start_time": "2022-12-15T16:23:51.354Z"
   },
   {
    "duration": 6,
    "start_time": "2022-12-15T16:23:51.510Z"
   },
   {
    "duration": 85,
    "start_time": "2022-12-15T16:23:51.518Z"
   },
   {
    "duration": 0,
    "start_time": "2022-12-15T16:23:51.604Z"
   },
   {
    "duration": 0,
    "start_time": "2022-12-15T16:23:51.606Z"
   },
   {
    "duration": 6,
    "start_time": "2022-12-15T16:24:11.408Z"
   },
   {
    "duration": 5,
    "start_time": "2022-12-15T16:24:11.872Z"
   },
   {
    "duration": 85,
    "start_time": "2022-12-15T16:25:42.736Z"
   },
   {
    "duration": 13,
    "start_time": "2022-12-15T16:26:01.080Z"
   },
   {
    "duration": 16,
    "start_time": "2022-12-15T16:27:07.492Z"
   },
   {
    "duration": 18,
    "start_time": "2022-12-15T16:27:53.198Z"
   },
   {
    "duration": 15,
    "start_time": "2022-12-15T16:28:01.136Z"
   },
   {
    "duration": 15,
    "start_time": "2022-12-15T16:57:35.601Z"
   },
   {
    "duration": 16,
    "start_time": "2022-12-15T16:57:54.313Z"
   },
   {
    "duration": 16,
    "start_time": "2022-12-15T16:58:08.897Z"
   },
   {
    "duration": 10,
    "start_time": "2022-12-15T17:00:45.533Z"
   },
   {
    "duration": 11,
    "start_time": "2022-12-15T17:00:48.385Z"
   },
   {
    "duration": 10,
    "start_time": "2022-12-15T17:01:41.353Z"
   },
   {
    "duration": 11,
    "start_time": "2022-12-15T17:01:42.958Z"
   },
   {
    "duration": 17,
    "start_time": "2022-12-15T17:03:07.327Z"
   },
   {
    "duration": 21,
    "start_time": "2022-12-15T17:03:21.990Z"
   },
   {
    "duration": 1269,
    "start_time": "2022-12-15T17:04:11.191Z"
   },
   {
    "duration": 19,
    "start_time": "2022-12-15T17:04:18.134Z"
   },
   {
    "duration": 17,
    "start_time": "2022-12-15T17:04:44.622Z"
   },
   {
    "duration": 85,
    "start_time": "2022-12-15T17:09:21.156Z"
   },
   {
    "duration": 23,
    "start_time": "2022-12-15T17:15:35.369Z"
   },
   {
    "duration": 18,
    "start_time": "2022-12-15T17:16:25.466Z"
   },
   {
    "duration": 1165,
    "start_time": "2022-12-15T17:17:10.776Z"
   },
   {
    "duration": 19,
    "start_time": "2022-12-15T17:17:18.874Z"
   },
   {
    "duration": 18,
    "start_time": "2022-12-15T17:20:07.536Z"
   },
   {
    "duration": 110,
    "start_time": "2022-12-15T17:30:23.667Z"
   },
   {
    "duration": 17,
    "start_time": "2022-12-15T17:31:32.922Z"
   },
   {
    "duration": 19,
    "start_time": "2022-12-15T17:32:48.469Z"
   },
   {
    "duration": 18,
    "start_time": "2022-12-15T17:33:01.027Z"
   },
   {
    "duration": 240,
    "start_time": "2022-12-15T17:40:00.144Z"
   },
   {
    "duration": 207,
    "start_time": "2022-12-15T17:46:29.295Z"
   },
   {
    "duration": 234,
    "start_time": "2022-12-15T17:50:40.438Z"
   },
   {
    "duration": 11,
    "start_time": "2022-12-15T17:53:01.066Z"
   },
   {
    "duration": 226,
    "start_time": "2022-12-15T17:53:11.245Z"
   },
   {
    "duration": 508,
    "start_time": "2022-12-15T17:59:01.083Z"
   },
   {
    "duration": 1255,
    "start_time": "2022-12-15T17:59:06.471Z"
   },
   {
    "duration": 88,
    "start_time": "2022-12-15T17:59:07.728Z"
   },
   {
    "duration": 17,
    "start_time": "2022-12-15T17:59:07.817Z"
   },
   {
    "duration": 5,
    "start_time": "2022-12-15T17:59:07.837Z"
   },
   {
    "duration": 35,
    "start_time": "2022-12-15T17:59:07.843Z"
   },
   {
    "duration": 17,
    "start_time": "2022-12-15T17:59:07.880Z"
   },
   {
    "duration": 1077,
    "start_time": "2022-12-15T17:59:07.899Z"
   },
   {
    "duration": 5,
    "start_time": "2022-12-15T17:59:08.978Z"
   },
   {
    "duration": 18,
    "start_time": "2022-12-15T17:59:08.984Z"
   },
   {
    "duration": 31804,
    "start_time": "2022-12-15T17:59:09.005Z"
   },
   {
    "duration": 9,
    "start_time": "2022-12-15T17:59:40.811Z"
   },
   {
    "duration": 35,
    "start_time": "2022-12-15T17:59:40.821Z"
   },
   {
    "duration": 10,
    "start_time": "2022-12-15T17:59:40.864Z"
   },
   {
    "duration": 21,
    "start_time": "2022-12-15T17:59:40.875Z"
   },
   {
    "duration": 5,
    "start_time": "2022-12-15T17:59:40.897Z"
   },
   {
    "duration": 11,
    "start_time": "2022-12-15T17:59:40.904Z"
   },
   {
    "duration": 169,
    "start_time": "2022-12-15T17:59:40.917Z"
   },
   {
    "duration": 17,
    "start_time": "2022-12-15T17:59:41.088Z"
   },
   {
    "duration": 397,
    "start_time": "2022-12-15T17:59:41.107Z"
   },
   {
    "duration": 17,
    "start_time": "2022-12-15T17:59:41.506Z"
   },
   {
    "duration": 9,
    "start_time": "2022-12-15T17:59:41.525Z"
   },
   {
    "duration": 17,
    "start_time": "2022-12-15T17:59:41.536Z"
   },
   {
    "duration": 3222,
    "start_time": "2022-12-15T17:59:41.554Z"
   },
   {
    "duration": 6,
    "start_time": "2022-12-15T17:59:44.778Z"
   },
   {
    "duration": 19,
    "start_time": "2022-12-15T17:59:44.785Z"
   },
   {
    "duration": 2012,
    "start_time": "2022-12-15T17:59:44.806Z"
   },
   {
    "duration": 130,
    "start_time": "2022-12-15T17:59:46.820Z"
   },
   {
    "duration": 122,
    "start_time": "2022-12-15T17:59:46.958Z"
   },
   {
    "duration": 205,
    "start_time": "2022-12-15T17:59:47.082Z"
   },
   {
    "duration": 118,
    "start_time": "2022-12-15T17:59:47.288Z"
   },
   {
    "duration": 121,
    "start_time": "2022-12-15T17:59:47.408Z"
   },
   {
    "duration": 107,
    "start_time": "2022-12-15T17:59:47.531Z"
   },
   {
    "duration": 123,
    "start_time": "2022-12-15T17:59:47.640Z"
   },
   {
    "duration": 119,
    "start_time": "2022-12-15T17:59:47.764Z"
   },
   {
    "duration": 112,
    "start_time": "2022-12-15T17:59:47.884Z"
   },
   {
    "duration": 124,
    "start_time": "2022-12-15T17:59:47.998Z"
   },
   {
    "duration": 141,
    "start_time": "2022-12-15T17:59:48.124Z"
   },
   {
    "duration": 125,
    "start_time": "2022-12-15T17:59:48.266Z"
   },
   {
    "duration": 6,
    "start_time": "2022-12-15T17:59:48.392Z"
   },
   {
    "duration": 126,
    "start_time": "2022-12-15T17:59:48.399Z"
   },
   {
    "duration": 122,
    "start_time": "2022-12-15T17:59:48.527Z"
   },
   {
    "duration": 210,
    "start_time": "2022-12-15T17:59:48.651Z"
   },
   {
    "duration": 119,
    "start_time": "2022-12-15T17:59:48.862Z"
   },
   {
    "duration": 160,
    "start_time": "2022-12-15T17:59:48.982Z"
   },
   {
    "duration": 147,
    "start_time": "2022-12-15T17:59:49.144Z"
   },
   {
    "duration": 130,
    "start_time": "2022-12-15T17:59:49.293Z"
   },
   {
    "duration": 114,
    "start_time": "2022-12-15T17:59:49.424Z"
   },
   {
    "duration": 161,
    "start_time": "2022-12-15T17:59:49.540Z"
   },
   {
    "duration": 135,
    "start_time": "2022-12-15T17:59:49.703Z"
   },
   {
    "duration": 178,
    "start_time": "2022-12-15T17:59:49.841Z"
   },
   {
    "duration": 138,
    "start_time": "2022-12-15T17:59:50.021Z"
   },
   {
    "duration": 11,
    "start_time": "2022-12-15T17:59:50.160Z"
   },
   {
    "duration": 195,
    "start_time": "2022-12-15T17:59:50.173Z"
   },
   {
    "duration": 5,
    "start_time": "2022-12-15T17:59:50.370Z"
   },
   {
    "duration": 184,
    "start_time": "2022-12-15T17:59:50.378Z"
   },
   {
    "duration": 8,
    "start_time": "2022-12-15T17:59:50.565Z"
   },
   {
    "duration": 19,
    "start_time": "2022-12-15T17:59:50.574Z"
   },
   {
    "duration": 20,
    "start_time": "2022-12-15T17:59:50.595Z"
   },
   {
    "duration": 37,
    "start_time": "2022-12-15T17:59:50.617Z"
   },
   {
    "duration": 36,
    "start_time": "2022-12-15T17:59:50.657Z"
   },
   {
    "duration": 31,
    "start_time": "2022-12-15T17:59:50.695Z"
   },
   {
    "duration": 51,
    "start_time": "2022-12-15T17:59:50.727Z"
   },
   {
    "duration": 118,
    "start_time": "2022-12-15T17:59:50.780Z"
   },
   {
    "duration": 17,
    "start_time": "2022-12-15T17:59:50.900Z"
   },
   {
    "duration": 44,
    "start_time": "2022-12-15T17:59:50.919Z"
   },
   {
    "duration": 37,
    "start_time": "2022-12-15T17:59:50.965Z"
   },
   {
    "duration": 230,
    "start_time": "2022-12-15T17:59:51.004Z"
   },
   {
    "duration": 82,
    "start_time": "2022-12-15T18:00:38.221Z"
   },
   {
    "duration": 7,
    "start_time": "2022-12-15T18:15:50.142Z"
   },
   {
    "duration": 32,
    "start_time": "2022-12-15T18:15:55.063Z"
   },
   {
    "duration": 120,
    "start_time": "2022-12-15T18:16:41.043Z"
   },
   {
    "duration": 1287,
    "start_time": "2022-12-15T18:17:09.435Z"
   },
   {
    "duration": 26,
    "start_time": "2022-12-15T18:17:26.663Z"
   },
   {
    "duration": 8,
    "start_time": "2022-12-15T18:17:39.107Z"
   },
   {
    "duration": 9,
    "start_time": "2022-12-15T18:17:54.124Z"
   },
   {
    "duration": 8,
    "start_time": "2022-12-15T18:23:59.307Z"
   },
   {
    "duration": 12,
    "start_time": "2022-12-15T18:24:03.402Z"
   },
   {
    "duration": 9,
    "start_time": "2022-12-15T18:24:07.125Z"
   },
   {
    "duration": 13,
    "start_time": "2022-12-15T18:25:12.206Z"
   },
   {
    "duration": 18,
    "start_time": "2022-12-15T18:27:25.564Z"
   },
   {
    "duration": 19,
    "start_time": "2022-12-15T18:27:35.708Z"
   },
   {
    "duration": 16,
    "start_time": "2022-12-15T18:27:44.371Z"
   },
   {
    "duration": 124,
    "start_time": "2022-12-15T18:30:21.518Z"
   },
   {
    "duration": 23,
    "start_time": "2022-12-15T18:30:26.329Z"
   },
   {
    "duration": 26,
    "start_time": "2022-12-15T18:30:43.405Z"
   },
   {
    "duration": 18,
    "start_time": "2022-12-15T18:33:17.624Z"
   },
   {
    "duration": 11,
    "start_time": "2022-12-15T18:34:04.423Z"
   },
   {
    "duration": 31,
    "start_time": "2022-12-15T18:36:41.506Z"
   },
   {
    "duration": 12,
    "start_time": "2022-12-15T18:36:56.102Z"
   },
   {
    "duration": 1137,
    "start_time": "2022-12-15T19:11:33.604Z"
   },
   {
    "duration": 75,
    "start_time": "2022-12-15T19:11:34.744Z"
   },
   {
    "duration": 17,
    "start_time": "2022-12-15T19:11:34.824Z"
   },
   {
    "duration": 13,
    "start_time": "2022-12-15T19:11:34.843Z"
   },
   {
    "duration": 26,
    "start_time": "2022-12-15T19:11:34.858Z"
   },
   {
    "duration": 31,
    "start_time": "2022-12-15T19:11:34.886Z"
   },
   {
    "duration": 899,
    "start_time": "2022-12-15T19:11:34.919Z"
   },
   {
    "duration": 6,
    "start_time": "2022-12-15T19:11:35.820Z"
   },
   {
    "duration": 32,
    "start_time": "2022-12-15T19:11:35.830Z"
   },
   {
    "duration": 30258,
    "start_time": "2022-12-15T19:11:35.864Z"
   },
   {
    "duration": 15,
    "start_time": "2022-12-15T19:12:06.124Z"
   },
   {
    "duration": 16,
    "start_time": "2022-12-15T19:12:06.152Z"
   },
   {
    "duration": 13,
    "start_time": "2022-12-15T19:12:06.170Z"
   },
   {
    "duration": 21,
    "start_time": "2022-12-15T19:12:06.185Z"
   },
   {
    "duration": 6,
    "start_time": "2022-12-15T19:12:06.208Z"
   },
   {
    "duration": 43,
    "start_time": "2022-12-15T19:12:06.216Z"
   },
   {
    "duration": 151,
    "start_time": "2022-12-15T19:12:06.261Z"
   },
   {
    "duration": 24,
    "start_time": "2022-12-15T19:12:06.414Z"
   },
   {
    "duration": 368,
    "start_time": "2022-12-15T19:12:06.451Z"
   },
   {
    "duration": 18,
    "start_time": "2022-12-15T19:12:06.821Z"
   },
   {
    "duration": 13,
    "start_time": "2022-12-15T19:12:06.850Z"
   },
   {
    "duration": 6,
    "start_time": "2022-12-15T19:12:06.864Z"
   },
   {
    "duration": 3261,
    "start_time": "2022-12-15T19:12:06.871Z"
   },
   {
    "duration": 18,
    "start_time": "2022-12-15T19:12:10.133Z"
   },
   {
    "duration": 17,
    "start_time": "2022-12-15T19:12:10.153Z"
   },
   {
    "duration": 2008,
    "start_time": "2022-12-15T19:12:10.172Z"
   },
   {
    "duration": 139,
    "start_time": "2022-12-15T19:12:12.184Z"
   },
   {
    "duration": 119,
    "start_time": "2022-12-15T19:12:12.325Z"
   },
   {
    "duration": 212,
    "start_time": "2022-12-15T19:12:12.446Z"
   },
   {
    "duration": 115,
    "start_time": "2022-12-15T19:12:12.660Z"
   },
   {
    "duration": 121,
    "start_time": "2022-12-15T19:12:12.777Z"
   },
   {
    "duration": 113,
    "start_time": "2022-12-15T19:12:12.900Z"
   },
   {
    "duration": 108,
    "start_time": "2022-12-15T19:12:13.015Z"
   },
   {
    "duration": 126,
    "start_time": "2022-12-15T19:12:13.124Z"
   },
   {
    "duration": 112,
    "start_time": "2022-12-15T19:12:13.253Z"
   },
   {
    "duration": 121,
    "start_time": "2022-12-15T19:12:13.367Z"
   },
   {
    "duration": 125,
    "start_time": "2022-12-15T19:12:13.490Z"
   },
   {
    "duration": 122,
    "start_time": "2022-12-15T19:12:13.617Z"
   },
   {
    "duration": 12,
    "start_time": "2022-12-15T19:12:13.741Z"
   },
   {
    "duration": 130,
    "start_time": "2022-12-15T19:12:13.755Z"
   },
   {
    "duration": 121,
    "start_time": "2022-12-15T19:12:13.886Z"
   },
   {
    "duration": 227,
    "start_time": "2022-12-15T19:12:14.009Z"
   },
   {
    "duration": 122,
    "start_time": "2022-12-15T19:12:14.238Z"
   },
   {
    "duration": 123,
    "start_time": "2022-12-15T19:12:14.362Z"
   },
   {
    "duration": 122,
    "start_time": "2022-12-15T19:12:14.487Z"
   },
   {
    "duration": 110,
    "start_time": "2022-12-15T19:12:14.611Z"
   },
   {
    "duration": 109,
    "start_time": "2022-12-15T19:12:14.723Z"
   },
   {
    "duration": 123,
    "start_time": "2022-12-15T19:12:14.834Z"
   },
   {
    "duration": 117,
    "start_time": "2022-12-15T19:12:14.959Z"
   },
   {
    "duration": 128,
    "start_time": "2022-12-15T19:12:15.077Z"
   },
   {
    "duration": 129,
    "start_time": "2022-12-15T19:12:15.206Z"
   },
   {
    "duration": 5,
    "start_time": "2022-12-15T19:12:15.337Z"
   },
   {
    "duration": 155,
    "start_time": "2022-12-15T19:12:15.351Z"
   },
   {
    "duration": 6,
    "start_time": "2022-12-15T19:12:15.508Z"
   },
   {
    "duration": 173,
    "start_time": "2022-12-15T19:12:15.517Z"
   },
   {
    "duration": 5,
    "start_time": "2022-12-15T19:12:15.692Z"
   },
   {
    "duration": 10,
    "start_time": "2022-12-15T19:12:15.699Z"
   },
   {
    "duration": 5,
    "start_time": "2022-12-15T19:12:15.711Z"
   },
   {
    "duration": 39,
    "start_time": "2022-12-15T19:12:15.718Z"
   },
   {
    "duration": 17,
    "start_time": "2022-12-15T19:12:15.759Z"
   },
   {
    "duration": 17,
    "start_time": "2022-12-15T19:12:15.778Z"
   },
   {
    "duration": 17,
    "start_time": "2022-12-15T19:12:15.797Z"
   },
   {
    "duration": 138,
    "start_time": "2022-12-15T19:12:15.816Z"
   },
   {
    "duration": 21,
    "start_time": "2022-12-15T19:12:15.956Z"
   },
   {
    "duration": 18,
    "start_time": "2022-12-15T19:12:15.979Z"
   },
   {
    "duration": 18,
    "start_time": "2022-12-15T19:12:16.000Z"
   },
   {
    "duration": 243,
    "start_time": "2022-12-15T19:12:16.020Z"
   },
   {
    "duration": 11,
    "start_time": "2022-12-15T19:12:16.265Z"
   },
   {
    "duration": 17,
    "start_time": "2022-12-15T19:12:16.278Z"
   },
   {
    "duration": 63,
    "start_time": "2022-12-15T19:12:36.784Z"
   },
   {
    "duration": 1249,
    "start_time": "2022-12-15T19:13:00.289Z"
   },
   {
    "duration": 74,
    "start_time": "2022-12-15T19:13:01.540Z"
   },
   {
    "duration": 16,
    "start_time": "2022-12-15T19:13:01.616Z"
   },
   {
    "duration": 5,
    "start_time": "2022-12-15T19:13:01.634Z"
   },
   {
    "duration": 15,
    "start_time": "2022-12-15T19:13:01.640Z"
   },
   {
    "duration": 20,
    "start_time": "2022-12-15T19:13:01.657Z"
   },
   {
    "duration": 895,
    "start_time": "2022-12-15T19:13:01.679Z"
   },
   {
    "duration": 6,
    "start_time": "2022-12-15T19:13:02.575Z"
   },
   {
    "duration": 17,
    "start_time": "2022-12-15T19:13:02.583Z"
   },
   {
    "duration": 30307,
    "start_time": "2022-12-15T19:13:02.603Z"
   },
   {
    "duration": 10,
    "start_time": "2022-12-15T19:13:32.912Z"
   },
   {
    "duration": 32,
    "start_time": "2022-12-15T19:13:32.925Z"
   },
   {
    "duration": 10,
    "start_time": "2022-12-15T19:13:32.959Z"
   },
   {
    "duration": 19,
    "start_time": "2022-12-15T19:13:32.971Z"
   },
   {
    "duration": 4,
    "start_time": "2022-12-15T19:13:32.992Z"
   },
   {
    "duration": 12,
    "start_time": "2022-12-15T19:13:32.997Z"
   },
   {
    "duration": 156,
    "start_time": "2022-12-15T19:13:33.011Z"
   },
   {
    "duration": 17,
    "start_time": "2022-12-15T19:13:33.169Z"
   },
   {
    "duration": 403,
    "start_time": "2022-12-15T19:13:33.188Z"
   },
   {
    "duration": 17,
    "start_time": "2022-12-15T19:13:33.593Z"
   },
   {
    "duration": 9,
    "start_time": "2022-12-15T19:13:33.611Z"
   },
   {
    "duration": 6,
    "start_time": "2022-12-15T19:13:33.622Z"
   },
   {
    "duration": 3166,
    "start_time": "2022-12-15T19:13:33.650Z"
   },
   {
    "duration": 6,
    "start_time": "2022-12-15T19:13:36.818Z"
   },
   {
    "duration": 27,
    "start_time": "2022-12-15T19:13:36.826Z"
   },
   {
    "duration": 1914,
    "start_time": "2022-12-15T19:13:36.855Z"
   },
   {
    "duration": 115,
    "start_time": "2022-12-15T19:13:38.771Z"
   },
   {
    "duration": 120,
    "start_time": "2022-12-15T19:13:38.890Z"
   },
   {
    "duration": 217,
    "start_time": "2022-12-15T19:13:39.012Z"
   },
   {
    "duration": 121,
    "start_time": "2022-12-15T19:13:39.231Z"
   },
   {
    "duration": 127,
    "start_time": "2022-12-15T19:13:39.355Z"
   },
   {
    "duration": 122,
    "start_time": "2022-12-15T19:13:39.484Z"
   },
   {
    "duration": 126,
    "start_time": "2022-12-15T19:13:39.609Z"
   },
   {
    "duration": 150,
    "start_time": "2022-12-15T19:13:39.737Z"
   },
   {
    "duration": 133,
    "start_time": "2022-12-15T19:13:39.889Z"
   },
   {
    "duration": 116,
    "start_time": "2022-12-15T19:13:40.024Z"
   },
   {
    "duration": 140,
    "start_time": "2022-12-15T19:13:40.142Z"
   },
   {
    "duration": 138,
    "start_time": "2022-12-15T19:13:40.284Z"
   },
   {
    "duration": 7,
    "start_time": "2022-12-15T19:13:40.424Z"
   },
   {
    "duration": 136,
    "start_time": "2022-12-15T19:13:40.433Z"
   },
   {
    "duration": 155,
    "start_time": "2022-12-15T19:13:40.572Z"
   },
   {
    "duration": 208,
    "start_time": "2022-12-15T19:13:40.729Z"
   },
   {
    "duration": 126,
    "start_time": "2022-12-15T19:13:40.939Z"
   },
   {
    "duration": 124,
    "start_time": "2022-12-15T19:13:41.067Z"
   },
   {
    "duration": 120,
    "start_time": "2022-12-15T19:13:41.193Z"
   },
   {
    "duration": 112,
    "start_time": "2022-12-15T19:13:41.315Z"
   },
   {
    "duration": 124,
    "start_time": "2022-12-15T19:13:41.428Z"
   },
   {
    "duration": 117,
    "start_time": "2022-12-15T19:13:41.554Z"
   },
   {
    "duration": 118,
    "start_time": "2022-12-15T19:13:41.673Z"
   },
   {
    "duration": 117,
    "start_time": "2022-12-15T19:13:41.792Z"
   },
   {
    "duration": 119,
    "start_time": "2022-12-15T19:13:41.910Z"
   },
   {
    "duration": 5,
    "start_time": "2022-12-15T19:13:42.031Z"
   },
   {
    "duration": 177,
    "start_time": "2022-12-15T19:13:42.038Z"
   },
   {
    "duration": 7,
    "start_time": "2022-12-15T19:13:42.216Z"
   },
   {
    "duration": 168,
    "start_time": "2022-12-15T19:13:42.225Z"
   },
   {
    "duration": 6,
    "start_time": "2022-12-15T19:13:42.395Z"
   },
   {
    "duration": 7,
    "start_time": "2022-12-15T19:13:42.403Z"
   },
   {
    "duration": 8,
    "start_time": "2022-12-15T19:13:42.412Z"
   },
   {
    "duration": 31,
    "start_time": "2022-12-15T19:13:42.421Z"
   },
   {
    "duration": 17,
    "start_time": "2022-12-15T19:13:42.454Z"
   },
   {
    "duration": 20,
    "start_time": "2022-12-15T19:13:42.472Z"
   },
   {
    "duration": 17,
    "start_time": "2022-12-15T19:13:42.493Z"
   },
   {
    "duration": 124,
    "start_time": "2022-12-15T19:13:42.511Z"
   },
   {
    "duration": 25,
    "start_time": "2022-12-15T19:13:42.636Z"
   },
   {
    "duration": 16,
    "start_time": "2022-12-15T19:13:42.663Z"
   },
   {
    "duration": 20,
    "start_time": "2022-12-15T19:13:42.681Z"
   },
   {
    "duration": 212,
    "start_time": "2022-12-15T19:13:42.702Z"
   },
   {
    "duration": 11,
    "start_time": "2022-12-15T19:13:42.917Z"
   },
   {
    "duration": 32,
    "start_time": "2022-12-15T19:13:42.930Z"
   },
   {
    "duration": 1279,
    "start_time": "2022-12-16T04:30:02.394Z"
   },
   {
    "duration": 120,
    "start_time": "2022-12-16T04:30:03.677Z"
   },
   {
    "duration": 14,
    "start_time": "2022-12-16T04:30:03.799Z"
   },
   {
    "duration": 10,
    "start_time": "2022-12-16T04:30:03.815Z"
   },
   {
    "duration": 10,
    "start_time": "2022-12-16T04:30:03.826Z"
   },
   {
    "duration": 8,
    "start_time": "2022-12-16T04:30:03.838Z"
   },
   {
    "duration": 811,
    "start_time": "2022-12-16T04:30:03.847Z"
   },
   {
    "duration": 5,
    "start_time": "2022-12-16T04:30:04.659Z"
   },
   {
    "duration": 13,
    "start_time": "2022-12-16T04:30:11.850Z"
   },
   {
    "duration": 4,
    "start_time": "2022-12-16T04:30:28.072Z"
   },
   {
    "duration": 14,
    "start_time": "2022-12-16T04:30:35.594Z"
   },
   {
    "duration": 14,
    "start_time": "2022-12-16T04:30:48.245Z"
   },
   {
    "duration": 14,
    "start_time": "2022-12-16T04:30:55.826Z"
   },
   {
    "duration": 14,
    "start_time": "2022-12-16T04:31:02.706Z"
   },
   {
    "duration": 13,
    "start_time": "2022-12-16T04:31:12.747Z"
   },
   {
    "duration": 1117,
    "start_time": "2022-12-16T04:50:48.039Z"
   },
   {
    "duration": 90,
    "start_time": "2022-12-16T04:50:49.159Z"
   },
   {
    "duration": 19,
    "start_time": "2022-12-16T04:50:49.253Z"
   },
   {
    "duration": 9,
    "start_time": "2022-12-16T04:50:49.275Z"
   },
   {
    "duration": 41,
    "start_time": "2022-12-16T04:50:49.286Z"
   },
   {
    "duration": 29,
    "start_time": "2022-12-16T04:50:49.333Z"
   },
   {
    "duration": 908,
    "start_time": "2022-12-16T04:50:49.364Z"
   },
   {
    "duration": 4,
    "start_time": "2022-12-16T04:50:50.274Z"
   },
   {
    "duration": 14,
    "start_time": "2022-12-16T04:50:50.280Z"
   },
   {
    "duration": 30703,
    "start_time": "2022-12-16T04:50:50.296Z"
   },
   {
    "duration": 21,
    "start_time": "2022-12-16T04:51:21.001Z"
   },
   {
    "duration": 51,
    "start_time": "2022-12-16T04:51:21.027Z"
   },
   {
    "duration": 20,
    "start_time": "2022-12-16T04:51:21.080Z"
   },
   {
    "duration": 59,
    "start_time": "2022-12-16T04:51:21.102Z"
   },
   {
    "duration": 5,
    "start_time": "2022-12-16T04:51:21.163Z"
   },
   {
    "duration": 20,
    "start_time": "2022-12-16T04:51:21.170Z"
   },
   {
    "duration": 156,
    "start_time": "2022-12-16T04:51:21.192Z"
   },
   {
    "duration": 16,
    "start_time": "2022-12-16T04:51:21.350Z"
   },
   {
    "duration": 396,
    "start_time": "2022-12-16T04:51:21.368Z"
   },
   {
    "duration": 18,
    "start_time": "2022-12-16T04:51:21.766Z"
   },
   {
    "duration": 39,
    "start_time": "2022-12-16T04:51:21.786Z"
   },
   {
    "duration": 32,
    "start_time": "2022-12-16T04:51:21.831Z"
   },
   {
    "duration": 3405,
    "start_time": "2022-12-16T04:51:21.864Z"
   },
   {
    "duration": 6,
    "start_time": "2022-12-16T04:51:25.271Z"
   },
   {
    "duration": 16,
    "start_time": "2022-12-16T04:51:25.279Z"
   },
   {
    "duration": 2250,
    "start_time": "2022-12-16T04:51:25.296Z"
   },
   {
    "duration": 115,
    "start_time": "2022-12-16T04:51:27.549Z"
   },
   {
    "duration": 132,
    "start_time": "2022-12-16T04:51:27.669Z"
   },
   {
    "duration": 210,
    "start_time": "2022-12-16T04:51:27.802Z"
   },
   {
    "duration": 123,
    "start_time": "2022-12-16T04:51:28.013Z"
   },
   {
    "duration": 136,
    "start_time": "2022-12-16T04:51:28.138Z"
   },
   {
    "duration": 122,
    "start_time": "2022-12-16T04:51:28.276Z"
   },
   {
    "duration": 115,
    "start_time": "2022-12-16T04:51:28.400Z"
   },
   {
    "duration": 136,
    "start_time": "2022-12-16T04:51:28.517Z"
   },
   {
    "duration": 123,
    "start_time": "2022-12-16T04:51:28.654Z"
   },
   {
    "duration": 126,
    "start_time": "2022-12-16T04:51:28.778Z"
   },
   {
    "duration": 135,
    "start_time": "2022-12-16T04:51:28.905Z"
   },
   {
    "duration": 124,
    "start_time": "2022-12-16T04:51:29.042Z"
   },
   {
    "duration": 5,
    "start_time": "2022-12-16T04:51:29.168Z"
   },
   {
    "duration": 139,
    "start_time": "2022-12-16T04:51:29.175Z"
   },
   {
    "duration": 132,
    "start_time": "2022-12-16T04:51:29.316Z"
   },
   {
    "duration": 212,
    "start_time": "2022-12-16T04:51:29.449Z"
   },
   {
    "duration": 136,
    "start_time": "2022-12-16T04:51:29.663Z"
   },
   {
    "duration": 137,
    "start_time": "2022-12-16T04:51:29.801Z"
   },
   {
    "duration": 121,
    "start_time": "2022-12-16T04:51:29.939Z"
   },
   {
    "duration": 119,
    "start_time": "2022-12-16T04:51:30.062Z"
   },
   {
    "duration": 111,
    "start_time": "2022-12-16T04:51:30.183Z"
   },
   {
    "duration": 139,
    "start_time": "2022-12-16T04:51:30.296Z"
   },
   {
    "duration": 109,
    "start_time": "2022-12-16T04:51:30.437Z"
   },
   {
    "duration": 127,
    "start_time": "2022-12-16T04:51:30.548Z"
   },
   {
    "duration": 168,
    "start_time": "2022-12-16T04:51:30.676Z"
   },
   {
    "duration": 6,
    "start_time": "2022-12-16T04:51:30.846Z"
   },
   {
    "duration": 181,
    "start_time": "2022-12-16T04:51:30.854Z"
   },
   {
    "duration": 8,
    "start_time": "2022-12-16T04:51:31.040Z"
   },
   {
    "duration": 178,
    "start_time": "2022-12-16T04:51:31.050Z"
   },
   {
    "duration": 12,
    "start_time": "2022-12-16T04:51:31.232Z"
   },
   {
    "duration": 30,
    "start_time": "2022-12-16T04:51:31.246Z"
   },
   {
    "duration": 31,
    "start_time": "2022-12-16T04:51:31.278Z"
   },
   {
    "duration": 55,
    "start_time": "2022-12-16T04:51:31.310Z"
   },
   {
    "duration": 28,
    "start_time": "2022-12-16T04:51:31.367Z"
   },
   {
    "duration": 61,
    "start_time": "2022-12-16T04:51:31.397Z"
   },
   {
    "duration": 30,
    "start_time": "2022-12-16T04:51:31.459Z"
   },
   {
    "duration": 110,
    "start_time": "2022-12-16T04:51:31.491Z"
   },
   {
    "duration": 62,
    "start_time": "2022-12-16T04:51:31.602Z"
   },
   {
    "duration": 60,
    "start_time": "2022-12-16T04:51:31.666Z"
   },
   {
    "duration": 44,
    "start_time": "2022-12-16T04:51:31.727Z"
   },
   {
    "duration": 216,
    "start_time": "2022-12-16T04:51:31.773Z"
   },
   {
    "duration": 23,
    "start_time": "2022-12-16T04:51:31.991Z"
   },
   {
    "duration": 37,
    "start_time": "2022-12-16T04:51:32.023Z"
   },
   {
    "duration": 1436,
    "start_time": "2022-12-16T12:29:18.738Z"
   },
   {
    "duration": 154,
    "start_time": "2022-12-16T12:29:20.181Z"
   },
   {
    "duration": 22,
    "start_time": "2022-12-16T12:29:20.337Z"
   },
   {
    "duration": 29,
    "start_time": "2022-12-16T12:29:20.362Z"
   },
   {
    "duration": 13,
    "start_time": "2022-12-16T12:29:20.393Z"
   },
   {
    "duration": 11,
    "start_time": "2022-12-16T12:29:20.408Z"
   },
   {
    "duration": 1078,
    "start_time": "2022-12-16T12:29:20.421Z"
   },
   {
    "duration": 6,
    "start_time": "2022-12-16T12:29:21.501Z"
   },
   {
    "duration": 18,
    "start_time": "2022-12-16T12:29:21.509Z"
   },
   {
    "duration": 37253,
    "start_time": "2022-12-16T12:29:21.530Z"
   },
   {
    "duration": 12,
    "start_time": "2022-12-16T12:29:58.786Z"
   },
   {
    "duration": 28,
    "start_time": "2022-12-16T12:29:58.799Z"
   },
   {
    "duration": 9,
    "start_time": "2022-12-16T12:29:58.829Z"
   },
   {
    "duration": 46,
    "start_time": "2022-12-16T12:29:58.840Z"
   },
   {
    "duration": 15,
    "start_time": "2022-12-16T12:29:58.888Z"
   },
   {
    "duration": 15,
    "start_time": "2022-12-16T12:29:58.905Z"
   },
   {
    "duration": 179,
    "start_time": "2022-12-16T12:29:58.922Z"
   },
   {
    "duration": 17,
    "start_time": "2022-12-16T12:29:59.102Z"
   },
   {
    "duration": 435,
    "start_time": "2022-12-16T12:29:59.121Z"
   },
   {
    "duration": 30,
    "start_time": "2022-12-16T12:29:59.559Z"
   },
   {
    "duration": 20,
    "start_time": "2022-12-16T12:29:59.591Z"
   },
   {
    "duration": 9,
    "start_time": "2022-12-16T12:29:59.613Z"
   },
   {
    "duration": 3792,
    "start_time": "2022-12-16T12:29:59.624Z"
   },
   {
    "duration": 7,
    "start_time": "2022-12-16T12:30:03.418Z"
   },
   {
    "duration": 29,
    "start_time": "2022-12-16T12:30:03.427Z"
   },
   {
    "duration": 2374,
    "start_time": "2022-12-16T12:30:03.458Z"
   },
   {
    "duration": 129,
    "start_time": "2022-12-16T12:30:05.834Z"
   },
   {
    "duration": 141,
    "start_time": "2022-12-16T12:30:05.970Z"
   },
   {
    "duration": 226,
    "start_time": "2022-12-16T12:30:06.114Z"
   },
   {
    "duration": 140,
    "start_time": "2022-12-16T12:30:06.342Z"
   },
   {
    "duration": 155,
    "start_time": "2022-12-16T12:30:06.484Z"
   },
   {
    "duration": 154,
    "start_time": "2022-12-16T12:30:06.640Z"
   },
   {
    "duration": 137,
    "start_time": "2022-12-16T12:30:06.796Z"
   },
   {
    "duration": 153,
    "start_time": "2022-12-16T12:30:06.935Z"
   },
   {
    "duration": 132,
    "start_time": "2022-12-16T12:30:07.090Z"
   },
   {
    "duration": 146,
    "start_time": "2022-12-16T12:30:07.224Z"
   },
   {
    "duration": 138,
    "start_time": "2022-12-16T12:30:07.374Z"
   },
   {
    "duration": 135,
    "start_time": "2022-12-16T12:30:07.514Z"
   },
   {
    "duration": 9,
    "start_time": "2022-12-16T12:30:07.655Z"
   },
   {
    "duration": 140,
    "start_time": "2022-12-16T12:30:07.667Z"
   },
   {
    "duration": 147,
    "start_time": "2022-12-16T12:30:07.809Z"
   },
   {
    "duration": 243,
    "start_time": "2022-12-16T12:30:07.959Z"
   },
   {
    "duration": 143,
    "start_time": "2022-12-16T12:30:08.204Z"
   },
   {
    "duration": 142,
    "start_time": "2022-12-16T12:30:08.349Z"
   },
   {
    "duration": 132,
    "start_time": "2022-12-16T12:30:08.493Z"
   },
   {
    "duration": 130,
    "start_time": "2022-12-16T12:30:08.627Z"
   },
   {
    "duration": 127,
    "start_time": "2022-12-16T12:30:08.759Z"
   },
   {
    "duration": 145,
    "start_time": "2022-12-16T12:30:08.887Z"
   },
   {
    "duration": 125,
    "start_time": "2022-12-16T12:30:09.034Z"
   },
   {
    "duration": 141,
    "start_time": "2022-12-16T12:30:09.162Z"
   },
   {
    "duration": 137,
    "start_time": "2022-12-16T12:30:09.305Z"
   },
   {
    "duration": 12,
    "start_time": "2022-12-16T12:30:09.444Z"
   },
   {
    "duration": 187,
    "start_time": "2022-12-16T12:30:09.462Z"
   },
   {
    "duration": 8,
    "start_time": "2022-12-16T12:30:09.650Z"
   },
   {
    "duration": 202,
    "start_time": "2022-12-16T12:30:09.660Z"
   },
   {
    "duration": 10,
    "start_time": "2022-12-16T12:30:09.864Z"
   },
   {
    "duration": 18,
    "start_time": "2022-12-16T12:30:09.877Z"
   },
   {
    "duration": 10,
    "start_time": "2022-12-16T12:30:09.897Z"
   },
   {
    "duration": 27,
    "start_time": "2022-12-16T12:30:09.909Z"
   },
   {
    "duration": 33,
    "start_time": "2022-12-16T12:30:09.938Z"
   },
   {
    "duration": 47,
    "start_time": "2022-12-16T12:30:09.973Z"
   },
   {
    "duration": 45,
    "start_time": "2022-12-16T12:30:10.022Z"
   },
   {
    "duration": 132,
    "start_time": "2022-12-16T12:30:10.073Z"
   },
   {
    "duration": 19,
    "start_time": "2022-12-16T12:30:10.207Z"
   },
   {
    "duration": 42,
    "start_time": "2022-12-16T12:30:10.229Z"
   },
   {
    "duration": 21,
    "start_time": "2022-12-16T12:30:10.274Z"
   },
   {
    "duration": 266,
    "start_time": "2022-12-16T12:30:10.298Z"
   },
   {
    "duration": 14,
    "start_time": "2022-12-16T12:30:10.567Z"
   },
   {
    "duration": 30,
    "start_time": "2022-12-16T12:30:10.583Z"
   },
   {
    "duration": 44,
    "start_time": "2022-12-16T12:35:42.404Z"
   },
   {
    "duration": 3,
    "start_time": "2022-12-16T12:36:08.800Z"
   },
   {
    "duration": 52,
    "start_time": "2022-12-16T12:36:09.835Z"
   },
   {
    "duration": 82,
    "start_time": "2022-12-16T12:36:17.514Z"
   },
   {
    "duration": 84,
    "start_time": "2022-12-16T12:36:47.273Z"
   },
   {
    "duration": 924,
    "start_time": "2022-12-16T12:49:58.235Z"
   },
   {
    "duration": 797,
    "start_time": "2022-12-16T12:50:21.152Z"
   },
   {
    "duration": 1195,
    "start_time": "2022-12-16T12:50:38.064Z"
   },
   {
    "duration": 77,
    "start_time": "2022-12-16T12:50:39.262Z"
   },
   {
    "duration": 17,
    "start_time": "2022-12-16T12:50:39.341Z"
   },
   {
    "duration": 16,
    "start_time": "2022-12-16T12:50:39.361Z"
   },
   {
    "duration": 17,
    "start_time": "2022-12-16T12:50:39.379Z"
   },
   {
    "duration": 21,
    "start_time": "2022-12-16T12:50:39.398Z"
   },
   {
    "duration": 995,
    "start_time": "2022-12-16T12:50:39.421Z"
   },
   {
    "duration": 5,
    "start_time": "2022-12-16T12:50:40.418Z"
   },
   {
    "duration": 32,
    "start_time": "2022-12-16T12:50:40.424Z"
   },
   {
    "duration": 31274,
    "start_time": "2022-12-16T12:50:40.460Z"
   },
   {
    "duration": 5,
    "start_time": "2022-12-16T12:51:11.736Z"
   },
   {
    "duration": 24,
    "start_time": "2022-12-16T12:51:11.743Z"
   },
   {
    "duration": 22,
    "start_time": "2022-12-16T12:51:11.769Z"
   },
   {
    "duration": 10,
    "start_time": "2022-12-16T12:51:11.793Z"
   },
   {
    "duration": 17,
    "start_time": "2022-12-16T12:51:11.805Z"
   },
   {
    "duration": 4,
    "start_time": "2022-12-16T12:51:11.823Z"
   },
   {
    "duration": 28,
    "start_time": "2022-12-16T12:51:11.829Z"
   },
   {
    "duration": 143,
    "start_time": "2022-12-16T12:51:11.859Z"
   },
   {
    "duration": 17,
    "start_time": "2022-12-16T12:51:12.004Z"
   },
   {
    "duration": 402,
    "start_time": "2022-12-16T12:51:12.022Z"
   },
   {
    "duration": 16,
    "start_time": "2022-12-16T12:51:12.426Z"
   },
   {
    "duration": 20,
    "start_time": "2022-12-16T12:51:12.444Z"
   },
   {
    "duration": 9,
    "start_time": "2022-12-16T12:51:12.466Z"
   },
   {
    "duration": 3516,
    "start_time": "2022-12-16T12:51:12.476Z"
   },
   {
    "duration": 7,
    "start_time": "2022-12-16T12:51:15.994Z"
   },
   {
    "duration": 17,
    "start_time": "2022-12-16T12:51:16.002Z"
   },
   {
    "duration": 2045,
    "start_time": "2022-12-16T12:51:16.020Z"
   },
   {
    "duration": 152,
    "start_time": "2022-12-16T12:51:18.070Z"
   },
   {
    "duration": 125,
    "start_time": "2022-12-16T12:51:18.225Z"
   },
   {
    "duration": 217,
    "start_time": "2022-12-16T12:51:18.354Z"
   },
   {
    "duration": 124,
    "start_time": "2022-12-16T12:51:18.573Z"
   },
   {
    "duration": 127,
    "start_time": "2022-12-16T12:51:18.699Z"
   },
   {
    "duration": 130,
    "start_time": "2022-12-16T12:51:18.828Z"
   },
   {
    "duration": 124,
    "start_time": "2022-12-16T12:51:18.960Z"
   },
   {
    "duration": 144,
    "start_time": "2022-12-16T12:51:19.086Z"
   },
   {
    "duration": 118,
    "start_time": "2022-12-16T12:51:19.231Z"
   },
   {
    "duration": 128,
    "start_time": "2022-12-16T12:51:19.355Z"
   },
   {
    "duration": 130,
    "start_time": "2022-12-16T12:51:19.485Z"
   },
   {
    "duration": 125,
    "start_time": "2022-12-16T12:51:19.617Z"
   },
   {
    "duration": 11,
    "start_time": "2022-12-16T12:51:19.744Z"
   },
   {
    "duration": 129,
    "start_time": "2022-12-16T12:51:19.757Z"
   },
   {
    "duration": 143,
    "start_time": "2022-12-16T12:51:19.889Z"
   },
   {
    "duration": 213,
    "start_time": "2022-12-16T12:51:20.034Z"
   },
   {
    "duration": 135,
    "start_time": "2022-12-16T12:51:20.248Z"
   },
   {
    "duration": 128,
    "start_time": "2022-12-16T12:51:20.385Z"
   },
   {
    "duration": 118,
    "start_time": "2022-12-16T12:51:20.514Z"
   },
   {
    "duration": 112,
    "start_time": "2022-12-16T12:51:20.634Z"
   },
   {
    "duration": 118,
    "start_time": "2022-12-16T12:51:20.754Z"
   },
   {
    "duration": 162,
    "start_time": "2022-12-16T12:51:20.874Z"
   },
   {
    "duration": 122,
    "start_time": "2022-12-16T12:51:21.038Z"
   },
   {
    "duration": 132,
    "start_time": "2022-12-16T12:51:21.162Z"
   },
   {
    "duration": 130,
    "start_time": "2022-12-16T12:51:21.296Z"
   },
   {
    "duration": 6,
    "start_time": "2022-12-16T12:51:21.428Z"
   },
   {
    "duration": 178,
    "start_time": "2022-12-16T12:51:21.436Z"
   },
   {
    "duration": 6,
    "start_time": "2022-12-16T12:51:21.616Z"
   },
   {
    "duration": 191,
    "start_time": "2022-12-16T12:51:21.623Z"
   },
   {
    "duration": 6,
    "start_time": "2022-12-16T12:51:21.816Z"
   },
   {
    "duration": 12,
    "start_time": "2022-12-16T12:51:21.823Z"
   },
   {
    "duration": 20,
    "start_time": "2022-12-16T12:51:21.836Z"
   },
   {
    "duration": 21,
    "start_time": "2022-12-16T12:51:21.858Z"
   },
   {
    "duration": 17,
    "start_time": "2022-12-16T12:51:21.881Z"
   },
   {
    "duration": 26,
    "start_time": "2022-12-16T12:51:21.901Z"
   },
   {
    "duration": 35,
    "start_time": "2022-12-16T12:51:21.929Z"
   },
   {
    "duration": 127,
    "start_time": "2022-12-16T12:51:21.965Z"
   },
   {
    "duration": 22,
    "start_time": "2022-12-16T12:51:22.094Z"
   },
   {
    "duration": 46,
    "start_time": "2022-12-16T12:51:22.118Z"
   },
   {
    "duration": 17,
    "start_time": "2022-12-16T12:51:22.166Z"
   },
   {
    "duration": 234,
    "start_time": "2022-12-16T12:51:22.186Z"
   },
   {
    "duration": 11,
    "start_time": "2022-12-16T12:51:22.423Z"
   },
   {
    "duration": 28,
    "start_time": "2022-12-16T12:51:22.436Z"
   },
   {
    "duration": 5,
    "start_time": "2022-12-16T12:56:54.479Z"
   },
   {
    "duration": 8,
    "start_time": "2022-12-16T12:57:44.311Z"
   },
   {
    "duration": 1233,
    "start_time": "2022-12-16T12:57:59.108Z"
   },
   {
    "duration": 88,
    "start_time": "2022-12-16T12:58:00.343Z"
   },
   {
    "duration": 17,
    "start_time": "2022-12-16T12:58:00.433Z"
   },
   {
    "duration": 5,
    "start_time": "2022-12-16T12:58:00.453Z"
   },
   {
    "duration": 22,
    "start_time": "2022-12-16T12:58:00.460Z"
   },
   {
    "duration": 27,
    "start_time": "2022-12-16T12:58:00.484Z"
   },
   {
    "duration": 959,
    "start_time": "2022-12-16T12:58:00.514Z"
   },
   {
    "duration": 11,
    "start_time": "2022-12-16T12:58:01.475Z"
   },
   {
    "duration": 31,
    "start_time": "2022-12-16T12:58:01.488Z"
   },
   {
    "duration": 31811,
    "start_time": "2022-12-16T12:58:01.522Z"
   },
   {
    "duration": 5,
    "start_time": "2022-12-16T12:58:33.335Z"
   },
   {
    "duration": 16,
    "start_time": "2022-12-16T12:58:33.342Z"
   },
   {
    "duration": 17,
    "start_time": "2022-12-16T12:58:33.359Z"
   },
   {
    "duration": 9,
    "start_time": "2022-12-16T12:58:33.380Z"
   },
   {
    "duration": 22,
    "start_time": "2022-12-16T12:58:33.391Z"
   },
   {
    "duration": 7,
    "start_time": "2022-12-16T12:58:33.415Z"
   },
   {
    "duration": 38,
    "start_time": "2022-12-16T12:58:33.424Z"
   },
   {
    "duration": 236,
    "start_time": "2022-12-16T12:58:33.464Z"
   },
   {
    "duration": 24,
    "start_time": "2022-12-16T12:58:33.703Z"
   },
   {
    "duration": 437,
    "start_time": "2022-12-16T12:58:33.729Z"
   },
   {
    "duration": 26,
    "start_time": "2022-12-16T12:58:34.168Z"
   },
   {
    "duration": 11,
    "start_time": "2022-12-16T12:58:34.197Z"
   },
   {
    "duration": 16,
    "start_time": "2022-12-16T12:58:34.210Z"
   },
   {
    "duration": 3486,
    "start_time": "2022-12-16T12:58:34.228Z"
   },
   {
    "duration": 6,
    "start_time": "2022-12-16T12:58:37.716Z"
   },
   {
    "duration": 40,
    "start_time": "2022-12-16T12:58:37.724Z"
   },
   {
    "duration": 2098,
    "start_time": "2022-12-16T12:58:37.766Z"
   },
   {
    "duration": 144,
    "start_time": "2022-12-16T12:58:39.869Z"
   },
   {
    "duration": 121,
    "start_time": "2022-12-16T12:58:40.016Z"
   },
   {
    "duration": 227,
    "start_time": "2022-12-16T12:58:40.139Z"
   },
   {
    "duration": 132,
    "start_time": "2022-12-16T12:58:40.369Z"
   },
   {
    "duration": 155,
    "start_time": "2022-12-16T12:58:40.504Z"
   },
   {
    "duration": 120,
    "start_time": "2022-12-16T12:58:40.663Z"
   },
   {
    "duration": 121,
    "start_time": "2022-12-16T12:58:40.784Z"
   },
   {
    "duration": 144,
    "start_time": "2022-12-16T12:58:40.906Z"
   },
   {
    "duration": 123,
    "start_time": "2022-12-16T12:58:41.051Z"
   },
   {
    "duration": 133,
    "start_time": "2022-12-16T12:58:41.176Z"
   },
   {
    "duration": 124,
    "start_time": "2022-12-16T12:58:41.311Z"
   },
   {
    "duration": 127,
    "start_time": "2022-12-16T12:58:41.436Z"
   },
   {
    "duration": 9,
    "start_time": "2022-12-16T12:58:41.564Z"
   },
   {
    "duration": 136,
    "start_time": "2022-12-16T12:58:41.574Z"
   },
   {
    "duration": 203,
    "start_time": "2022-12-16T12:58:41.711Z"
   },
   {
    "duration": 133,
    "start_time": "2022-12-16T12:58:41.916Z"
   },
   {
    "duration": 129,
    "start_time": "2022-12-16T12:58:42.055Z"
   },
   {
    "duration": 129,
    "start_time": "2022-12-16T12:58:42.187Z"
   },
   {
    "duration": 125,
    "start_time": "2022-12-16T12:58:42.318Z"
   },
   {
    "duration": 123,
    "start_time": "2022-12-16T12:58:42.445Z"
   },
   {
    "duration": 148,
    "start_time": "2022-12-16T12:58:42.570Z"
   },
   {
    "duration": 125,
    "start_time": "2022-12-16T12:58:42.720Z"
   },
   {
    "duration": 111,
    "start_time": "2022-12-16T12:58:42.846Z"
   },
   {
    "duration": 133,
    "start_time": "2022-12-16T12:58:42.958Z"
   },
   {
    "duration": 122,
    "start_time": "2022-12-16T12:58:43.093Z"
   },
   {
    "duration": 7,
    "start_time": "2022-12-16T12:58:43.217Z"
   },
   {
    "duration": 171,
    "start_time": "2022-12-16T12:58:43.226Z"
   },
   {
    "duration": 7,
    "start_time": "2022-12-16T12:58:43.399Z"
   },
   {
    "duration": 251,
    "start_time": "2022-12-16T12:58:43.408Z"
   },
   {
    "duration": 5,
    "start_time": "2022-12-16T12:58:43.662Z"
   },
   {
    "duration": 7,
    "start_time": "2022-12-16T12:58:43.669Z"
   },
   {
    "duration": 13,
    "start_time": "2022-12-16T12:58:43.679Z"
   },
   {
    "duration": 24,
    "start_time": "2022-12-16T12:58:43.695Z"
   },
   {
    "duration": 42,
    "start_time": "2022-12-16T12:58:43.721Z"
   },
   {
    "duration": 27,
    "start_time": "2022-12-16T12:58:43.765Z"
   },
   {
    "duration": 26,
    "start_time": "2022-12-16T12:58:43.794Z"
   },
   {
    "duration": 37,
    "start_time": "2022-12-16T12:58:43.822Z"
   },
   {
    "duration": 24,
    "start_time": "2022-12-16T12:58:43.861Z"
   },
   {
    "duration": 23,
    "start_time": "2022-12-16T12:58:43.887Z"
   },
   {
    "duration": 43,
    "start_time": "2022-12-16T12:58:43.913Z"
   },
   {
    "duration": 227,
    "start_time": "2022-12-16T12:58:43.958Z"
   },
   {
    "duration": 14,
    "start_time": "2022-12-16T12:58:44.187Z"
   },
   {
    "duration": 34,
    "start_time": "2022-12-16T12:58:44.203Z"
   },
   {
    "duration": 5,
    "start_time": "2022-12-16T13:03:51.358Z"
   },
   {
    "duration": 78,
    "start_time": "2022-12-16T13:03:51.733Z"
   },
   {
    "duration": 25,
    "start_time": "2022-12-16T13:03:52.540Z"
   },
   {
    "duration": 4,
    "start_time": "2022-12-16T13:03:53.148Z"
   },
   {
    "duration": 10,
    "start_time": "2022-12-16T13:03:53.837Z"
   },
   {
    "duration": 13,
    "start_time": "2022-12-16T13:03:54.475Z"
   },
   {
    "duration": 965,
    "start_time": "2022-12-16T13:03:55.109Z"
   },
   {
    "duration": 3,
    "start_time": "2022-12-16T13:04:04.429Z"
   },
   {
    "duration": 1151,
    "start_time": "2022-12-16T13:04:10.552Z"
   },
   {
    "duration": 69,
    "start_time": "2022-12-16T13:04:11.704Z"
   },
   {
    "duration": 17,
    "start_time": "2022-12-16T13:04:11.775Z"
   },
   {
    "duration": 5,
    "start_time": "2022-12-16T13:04:11.795Z"
   },
   {
    "duration": 19,
    "start_time": "2022-12-16T13:04:11.802Z"
   },
   {
    "duration": 17,
    "start_time": "2022-12-16T13:04:11.823Z"
   },
   {
    "duration": 832,
    "start_time": "2022-12-16T13:04:11.841Z"
   },
   {
    "duration": 5,
    "start_time": "2022-12-16T13:04:12.675Z"
   },
   {
    "duration": 17,
    "start_time": "2022-12-16T13:04:12.681Z"
   },
   {
    "duration": 30351,
    "start_time": "2022-12-16T13:04:12.701Z"
   },
   {
    "duration": 9,
    "start_time": "2022-12-16T13:04:43.055Z"
   },
   {
    "duration": 28,
    "start_time": "2022-12-16T13:04:43.067Z"
   },
   {
    "duration": 14,
    "start_time": "2022-12-16T13:04:43.097Z"
   },
   {
    "duration": 8,
    "start_time": "2022-12-16T13:04:43.113Z"
   },
   {
    "duration": 19,
    "start_time": "2022-12-16T13:04:43.122Z"
   },
   {
    "duration": 16,
    "start_time": "2022-12-16T13:04:43.143Z"
   },
   {
    "duration": 31,
    "start_time": "2022-12-16T13:04:43.162Z"
   },
   {
    "duration": 168,
    "start_time": "2022-12-16T13:04:43.195Z"
   },
   {
    "duration": 20,
    "start_time": "2022-12-16T13:04:43.367Z"
   },
   {
    "duration": 414,
    "start_time": "2022-12-16T13:04:43.388Z"
   },
   {
    "duration": 16,
    "start_time": "2022-12-16T13:04:43.803Z"
   },
   {
    "duration": 407,
    "start_time": "2022-12-16T13:04:43.821Z"
   },
   {
    "duration": 26,
    "start_time": "2022-12-16T13:04:44.230Z"
   },
   {
    "duration": 16,
    "start_time": "2022-12-16T13:04:44.258Z"
   },
   {
    "duration": 7,
    "start_time": "2022-12-16T13:04:44.276Z"
   },
   {
    "duration": 3436,
    "start_time": "2022-12-16T13:04:44.285Z"
   },
   {
    "duration": 8,
    "start_time": "2022-12-16T13:04:47.723Z"
   },
   {
    "duration": 130,
    "start_time": "2022-12-16T13:04:47.737Z"
   },
   {
    "duration": 2268,
    "start_time": "2022-12-16T13:04:47.869Z"
   },
   {
    "duration": 237,
    "start_time": "2022-12-16T13:04:50.139Z"
   },
   {
    "duration": 109,
    "start_time": "2022-12-16T13:04:50.378Z"
   },
   {
    "duration": 133,
    "start_time": "2022-12-16T13:04:50.489Z"
   },
   {
    "duration": 124,
    "start_time": "2022-12-16T13:04:50.624Z"
   },
   {
    "duration": 129,
    "start_time": "2022-12-16T13:04:50.756Z"
   },
   {
    "duration": 138,
    "start_time": "2022-12-16T13:04:50.887Z"
   },
   {
    "duration": 115,
    "start_time": "2022-12-16T13:04:51.026Z"
   },
   {
    "duration": 147,
    "start_time": "2022-12-16T13:04:51.143Z"
   },
   {
    "duration": 130,
    "start_time": "2022-12-16T13:04:51.292Z"
   },
   {
    "duration": 119,
    "start_time": "2022-12-16T13:04:51.423Z"
   },
   {
    "duration": 136,
    "start_time": "2022-12-16T13:04:51.544Z"
   },
   {
    "duration": 132,
    "start_time": "2022-12-16T13:04:51.682Z"
   },
   {
    "duration": 6,
    "start_time": "2022-12-16T13:04:51.816Z"
   },
   {
    "duration": 233,
    "start_time": "2022-12-16T13:04:51.824Z"
   },
   {
    "duration": 131,
    "start_time": "2022-12-16T13:04:52.062Z"
   },
   {
    "duration": 160,
    "start_time": "2022-12-16T13:04:52.195Z"
   },
   {
    "duration": 149,
    "start_time": "2022-12-16T13:04:52.359Z"
   },
   {
    "duration": 131,
    "start_time": "2022-12-16T13:04:52.510Z"
   },
   {
    "duration": 136,
    "start_time": "2022-12-16T13:04:52.643Z"
   },
   {
    "duration": 115,
    "start_time": "2022-12-16T13:04:52.781Z"
   },
   {
    "duration": 120,
    "start_time": "2022-12-16T13:04:52.897Z"
   },
   {
    "duration": 123,
    "start_time": "2022-12-16T13:04:53.018Z"
   },
   {
    "duration": 121,
    "start_time": "2022-12-16T13:04:53.143Z"
   },
   {
    "duration": 153,
    "start_time": "2022-12-16T13:04:53.267Z"
   },
   {
    "duration": 126,
    "start_time": "2022-12-16T13:04:53.422Z"
   },
   {
    "duration": 7,
    "start_time": "2022-12-16T13:04:53.550Z"
   },
   {
    "duration": 274,
    "start_time": "2022-12-16T13:04:53.559Z"
   },
   {
    "duration": 6,
    "start_time": "2022-12-16T13:04:53.835Z"
   },
   {
    "duration": 196,
    "start_time": "2022-12-16T13:04:53.842Z"
   },
   {
    "duration": 16,
    "start_time": "2022-12-16T13:04:54.040Z"
   },
   {
    "duration": 17,
    "start_time": "2022-12-16T13:04:54.058Z"
   },
   {
    "duration": 18,
    "start_time": "2022-12-16T13:04:54.077Z"
   },
   {
    "duration": 17,
    "start_time": "2022-12-16T13:04:54.097Z"
   },
   {
    "duration": 22,
    "start_time": "2022-12-16T13:04:54.117Z"
   },
   {
    "duration": 38,
    "start_time": "2022-12-16T13:04:54.141Z"
   },
   {
    "duration": 21,
    "start_time": "2022-12-16T13:04:54.181Z"
   },
   {
    "duration": 17,
    "start_time": "2022-12-16T13:04:54.203Z"
   },
   {
    "duration": 51,
    "start_time": "2022-12-16T13:04:54.222Z"
   },
   {
    "duration": 19,
    "start_time": "2022-12-16T13:04:54.275Z"
   },
   {
    "duration": 19,
    "start_time": "2022-12-16T13:04:54.296Z"
   },
   {
    "duration": 226,
    "start_time": "2022-12-16T13:04:54.316Z"
   },
   {
    "duration": 16,
    "start_time": "2022-12-16T13:04:54.544Z"
   },
   {
    "duration": 25,
    "start_time": "2022-12-16T13:04:54.562Z"
   },
   {
    "duration": 329,
    "start_time": "2022-12-16T13:06:20.428Z"
   },
   {
    "duration": 406,
    "start_time": "2022-12-16T13:06:33.764Z"
   },
   {
    "duration": 358,
    "start_time": "2022-12-16T13:06:47.828Z"
   },
   {
    "duration": 16,
    "start_time": "2022-12-16T13:07:11.091Z"
   },
   {
    "duration": 173,
    "start_time": "2022-12-16T13:07:37.307Z"
   },
   {
    "duration": 17,
    "start_time": "2022-12-16T13:10:11.817Z"
   },
   {
    "duration": 32,
    "start_time": "2022-12-16T13:10:34.371Z"
   },
   {
    "duration": 9,
    "start_time": "2022-12-16T13:11:25.817Z"
   },
   {
    "duration": 9,
    "start_time": "2022-12-16T13:11:31.217Z"
   },
   {
    "duration": 9,
    "start_time": "2022-12-16T13:11:46.034Z"
   },
   {
    "duration": 15,
    "start_time": "2022-12-16T13:12:10.761Z"
   },
   {
    "duration": 15,
    "start_time": "2022-12-16T13:12:21.169Z"
   },
   {
    "duration": 1300,
    "start_time": "2022-12-16T13:12:35.334Z"
   },
   {
    "duration": 79,
    "start_time": "2022-12-16T13:12:36.636Z"
   },
   {
    "duration": 16,
    "start_time": "2022-12-16T13:12:36.717Z"
   },
   {
    "duration": 10,
    "start_time": "2022-12-16T13:12:36.735Z"
   },
   {
    "duration": 18,
    "start_time": "2022-12-16T13:12:36.747Z"
   },
   {
    "duration": 21,
    "start_time": "2022-12-16T13:12:36.767Z"
   },
   {
    "duration": 1010,
    "start_time": "2022-12-16T13:12:36.790Z"
   },
   {
    "duration": 6,
    "start_time": "2022-12-16T13:12:37.802Z"
   },
   {
    "duration": 28,
    "start_time": "2022-12-16T13:12:37.810Z"
   },
   {
    "duration": 34214,
    "start_time": "2022-12-16T13:12:37.843Z"
   },
   {
    "duration": 7,
    "start_time": "2022-12-16T13:13:12.060Z"
   },
   {
    "duration": 23,
    "start_time": "2022-12-16T13:13:12.069Z"
   },
   {
    "duration": 23,
    "start_time": "2022-12-16T13:13:12.094Z"
   },
   {
    "duration": 9,
    "start_time": "2022-12-16T13:13:12.119Z"
   },
   {
    "duration": 50,
    "start_time": "2022-12-16T13:13:12.131Z"
   },
   {
    "duration": 8,
    "start_time": "2022-12-16T13:13:12.183Z"
   },
   {
    "duration": 18,
    "start_time": "2022-12-16T13:13:12.193Z"
   },
   {
    "duration": 219,
    "start_time": "2022-12-16T13:13:12.214Z"
   },
   {
    "duration": 29,
    "start_time": "2022-12-16T13:13:12.435Z"
   },
   {
    "duration": 531,
    "start_time": "2022-12-16T13:13:12.466Z"
   },
   {
    "duration": 39,
    "start_time": "2022-12-16T13:13:13.001Z"
   },
   {
    "duration": 64,
    "start_time": "2022-12-16T13:13:13.042Z"
   },
   {
    "duration": 18,
    "start_time": "2022-12-16T13:13:13.108Z"
   },
   {
    "duration": 13,
    "start_time": "2022-12-16T13:13:13.129Z"
   },
   {
    "duration": 6,
    "start_time": "2022-12-16T13:13:13.156Z"
   },
   {
    "duration": 3977,
    "start_time": "2022-12-16T13:13:13.164Z"
   },
   {
    "duration": 16,
    "start_time": "2022-12-16T13:13:17.142Z"
   },
   {
    "duration": 24,
    "start_time": "2022-12-16T13:13:17.166Z"
   },
   {
    "duration": 2247,
    "start_time": "2022-12-16T13:13:17.192Z"
   },
   {
    "duration": 145,
    "start_time": "2022-12-16T13:13:19.441Z"
   },
   {
    "duration": 122,
    "start_time": "2022-12-16T13:13:19.589Z"
   },
   {
    "duration": 232,
    "start_time": "2022-12-16T13:13:19.713Z"
   },
   {
    "duration": 148,
    "start_time": "2022-12-16T13:13:19.947Z"
   },
   {
    "duration": 143,
    "start_time": "2022-12-16T13:13:20.097Z"
   },
   {
    "duration": 158,
    "start_time": "2022-12-16T13:13:20.242Z"
   },
   {
    "duration": 136,
    "start_time": "2022-12-16T13:13:20.402Z"
   },
   {
    "duration": 154,
    "start_time": "2022-12-16T13:13:20.539Z"
   },
   {
    "duration": 133,
    "start_time": "2022-12-16T13:13:20.696Z"
   },
   {
    "duration": 164,
    "start_time": "2022-12-16T13:13:20.831Z"
   },
   {
    "duration": 151,
    "start_time": "2022-12-16T13:13:20.999Z"
   },
   {
    "duration": 206,
    "start_time": "2022-12-16T13:13:21.156Z"
   },
   {
    "duration": 14,
    "start_time": "2022-12-16T13:13:21.364Z"
   },
   {
    "duration": 160,
    "start_time": "2022-12-16T13:13:21.381Z"
   },
   {
    "duration": 280,
    "start_time": "2022-12-16T13:13:21.544Z"
   },
   {
    "duration": 146,
    "start_time": "2022-12-16T13:13:21.826Z"
   },
   {
    "duration": 138,
    "start_time": "2022-12-16T13:13:21.974Z"
   },
   {
    "duration": 169,
    "start_time": "2022-12-16T13:13:22.114Z"
   },
   {
    "duration": 161,
    "start_time": "2022-12-16T13:13:22.286Z"
   },
   {
    "duration": 165,
    "start_time": "2022-12-16T13:13:22.449Z"
   },
   {
    "duration": 147,
    "start_time": "2022-12-16T13:13:22.616Z"
   },
   {
    "duration": 153,
    "start_time": "2022-12-16T13:13:22.766Z"
   },
   {
    "duration": 174,
    "start_time": "2022-12-16T13:13:22.922Z"
   },
   {
    "duration": 141,
    "start_time": "2022-12-16T13:13:23.100Z"
   },
   {
    "duration": 184,
    "start_time": "2022-12-16T13:13:23.243Z"
   },
   {
    "duration": 7,
    "start_time": "2022-12-16T13:13:23.430Z"
   },
   {
    "duration": 229,
    "start_time": "2022-12-16T13:13:23.439Z"
   },
   {
    "duration": 8,
    "start_time": "2022-12-16T13:13:23.671Z"
   },
   {
    "duration": 306,
    "start_time": "2022-12-16T13:13:23.681Z"
   },
   {
    "duration": 8,
    "start_time": "2022-12-16T13:13:23.990Z"
   },
   {
    "duration": 14,
    "start_time": "2022-12-16T13:13:24.000Z"
   },
   {
    "duration": 7,
    "start_time": "2022-12-16T13:13:24.016Z"
   },
   {
    "duration": 48,
    "start_time": "2022-12-16T13:13:24.025Z"
   },
   {
    "duration": 34,
    "start_time": "2022-12-16T13:13:24.076Z"
   },
   {
    "duration": 22,
    "start_time": "2022-12-16T13:13:24.113Z"
   },
   {
    "duration": 44,
    "start_time": "2022-12-16T13:13:24.138Z"
   },
   {
    "duration": 24,
    "start_time": "2022-12-16T13:13:24.185Z"
   },
   {
    "duration": 44,
    "start_time": "2022-12-16T13:13:24.212Z"
   },
   {
    "duration": 24,
    "start_time": "2022-12-16T13:13:24.259Z"
   },
   {
    "duration": 38,
    "start_time": "2022-12-16T13:13:24.286Z"
   },
   {
    "duration": 253,
    "start_time": "2022-12-16T13:13:24.326Z"
   },
   {
    "duration": 21,
    "start_time": "2022-12-16T13:13:24.582Z"
   },
   {
    "duration": 14,
    "start_time": "2022-12-16T13:13:24.605Z"
   },
   {
    "duration": 2009,
    "start_time": "2022-12-16T13:14:35.680Z"
   },
   {
    "duration": 79,
    "start_time": "2022-12-16T13:14:37.691Z"
   },
   {
    "duration": 22,
    "start_time": "2022-12-16T13:14:37.773Z"
   },
   {
    "duration": 5,
    "start_time": "2022-12-16T13:14:37.798Z"
   },
   {
    "duration": 15,
    "start_time": "2022-12-16T13:14:37.805Z"
   },
   {
    "duration": 38,
    "start_time": "2022-12-16T13:14:37.822Z"
   },
   {
    "duration": 1024,
    "start_time": "2022-12-16T13:14:37.862Z"
   },
   {
    "duration": 9,
    "start_time": "2022-12-16T13:14:38.888Z"
   },
   {
    "duration": 17,
    "start_time": "2022-12-16T13:14:38.899Z"
   },
   {
    "duration": 37687,
    "start_time": "2022-12-16T13:14:38.919Z"
   },
   {
    "duration": 7,
    "start_time": "2022-12-16T13:15:16.608Z"
   },
   {
    "duration": 21,
    "start_time": "2022-12-16T13:15:16.617Z"
   },
   {
    "duration": 33,
    "start_time": "2022-12-16T13:15:16.640Z"
   },
   {
    "duration": 13,
    "start_time": "2022-12-16T13:15:16.676Z"
   },
   {
    "duration": 29,
    "start_time": "2022-12-16T13:15:16.691Z"
   },
   {
    "duration": 6,
    "start_time": "2022-12-16T13:15:16.722Z"
   },
   {
    "duration": 14,
    "start_time": "2022-12-16T13:15:16.755Z"
   },
   {
    "duration": 184,
    "start_time": "2022-12-16T13:15:16.771Z"
   },
   {
    "duration": 26,
    "start_time": "2022-12-16T13:15:16.961Z"
   },
   {
    "duration": 436,
    "start_time": "2022-12-16T13:15:16.992Z"
   },
   {
    "duration": 37,
    "start_time": "2022-12-16T13:15:17.430Z"
   },
   {
    "duration": 404,
    "start_time": "2022-12-16T13:15:17.470Z"
   },
   {
    "duration": 21,
    "start_time": "2022-12-16T13:15:17.877Z"
   },
   {
    "duration": 10,
    "start_time": "2022-12-16T13:15:17.900Z"
   },
   {
    "duration": 11,
    "start_time": "2022-12-16T13:15:17.912Z"
   },
   {
    "duration": 3784,
    "start_time": "2022-12-16T13:15:17.925Z"
   },
   {
    "duration": 7,
    "start_time": "2022-12-16T13:15:21.711Z"
   },
   {
    "duration": 144,
    "start_time": "2022-12-16T13:15:21.722Z"
   },
   {
    "duration": 2100,
    "start_time": "2022-12-16T13:15:21.869Z"
   },
   {
    "duration": 230,
    "start_time": "2022-12-16T13:15:23.971Z"
   },
   {
    "duration": 118,
    "start_time": "2022-12-16T13:15:24.203Z"
   },
   {
    "duration": 156,
    "start_time": "2022-12-16T13:15:24.323Z"
   },
   {
    "duration": 156,
    "start_time": "2022-12-16T13:15:24.482Z"
   },
   {
    "duration": 163,
    "start_time": "2022-12-16T13:15:24.641Z"
   },
   {
    "duration": 145,
    "start_time": "2022-12-16T13:15:24.806Z"
   },
   {
    "duration": 132,
    "start_time": "2022-12-16T13:15:24.955Z"
   },
   {
    "duration": 141,
    "start_time": "2022-12-16T13:15:25.089Z"
   },
   {
    "duration": 129,
    "start_time": "2022-12-16T13:15:25.232Z"
   },
   {
    "duration": 149,
    "start_time": "2022-12-16T13:15:25.364Z"
   },
   {
    "duration": 133,
    "start_time": "2022-12-16T13:15:25.516Z"
   },
   {
    "duration": 142,
    "start_time": "2022-12-16T13:15:25.651Z"
   },
   {
    "duration": 6,
    "start_time": "2022-12-16T13:15:25.796Z"
   },
   {
    "duration": 234,
    "start_time": "2022-12-16T13:15:25.803Z"
   },
   {
    "duration": 135,
    "start_time": "2022-12-16T13:15:26.039Z"
   },
   {
    "duration": 139,
    "start_time": "2022-12-16T13:15:26.177Z"
   },
   {
    "duration": 144,
    "start_time": "2022-12-16T13:15:26.317Z"
   },
   {
    "duration": 142,
    "start_time": "2022-12-16T13:15:26.463Z"
   },
   {
    "duration": 140,
    "start_time": "2022-12-16T13:15:26.607Z"
   },
   {
    "duration": 134,
    "start_time": "2022-12-16T13:15:26.749Z"
   },
   {
    "duration": 125,
    "start_time": "2022-12-16T13:15:26.885Z"
   },
   {
    "duration": 135,
    "start_time": "2022-12-16T13:15:27.012Z"
   },
   {
    "duration": 120,
    "start_time": "2022-12-16T13:15:27.154Z"
   },
   {
    "duration": 127,
    "start_time": "2022-12-16T13:15:27.276Z"
   },
   {
    "duration": 151,
    "start_time": "2022-12-16T13:15:27.406Z"
   },
   {
    "duration": 10,
    "start_time": "2022-12-16T13:15:27.559Z"
   },
   {
    "duration": 259,
    "start_time": "2022-12-16T13:15:27.572Z"
   },
   {
    "duration": 5,
    "start_time": "2022-12-16T13:15:27.833Z"
   },
   {
    "duration": 181,
    "start_time": "2022-12-16T13:15:27.840Z"
   },
   {
    "duration": 5,
    "start_time": "2022-12-16T13:15:28.023Z"
   },
   {
    "duration": 7,
    "start_time": "2022-12-16T13:15:28.030Z"
   },
   {
    "duration": 7,
    "start_time": "2022-12-16T13:15:28.055Z"
   },
   {
    "duration": 21,
    "start_time": "2022-12-16T13:15:28.064Z"
   },
   {
    "duration": 15,
    "start_time": "2022-12-16T13:15:28.087Z"
   },
   {
    "duration": 16,
    "start_time": "2022-12-16T13:15:28.103Z"
   },
   {
    "duration": 53,
    "start_time": "2022-12-16T13:15:28.120Z"
   },
   {
    "duration": 21,
    "start_time": "2022-12-16T13:15:28.175Z"
   },
   {
    "duration": 16,
    "start_time": "2022-12-16T13:15:28.198Z"
   },
   {
    "duration": 16,
    "start_time": "2022-12-16T13:15:28.215Z"
   },
   {
    "duration": 45,
    "start_time": "2022-12-16T13:15:28.232Z"
   },
   {
    "duration": 229,
    "start_time": "2022-12-16T13:15:28.280Z"
   },
   {
    "duration": 11,
    "start_time": "2022-12-16T13:15:28.511Z"
   },
   {
    "duration": 17,
    "start_time": "2022-12-16T13:15:28.524Z"
   },
   {
    "duration": 1246,
    "start_time": "2022-12-16T13:26:01.659Z"
   },
   {
    "duration": 215,
    "start_time": "2022-12-16T13:26:02.906Z"
   },
   {
    "duration": 14,
    "start_time": "2022-12-16T13:26:03.123Z"
   },
   {
    "duration": 11,
    "start_time": "2022-12-16T13:26:03.139Z"
   },
   {
    "duration": 16,
    "start_time": "2022-12-16T13:26:03.151Z"
   },
   {
    "duration": 19,
    "start_time": "2022-12-16T13:26:03.169Z"
   },
   {
    "duration": 785,
    "start_time": "2022-12-16T13:26:03.190Z"
   },
   {
    "duration": 5,
    "start_time": "2022-12-16T13:26:03.977Z"
   },
   {
    "duration": 17,
    "start_time": "2022-12-16T13:26:03.984Z"
   },
   {
    "duration": 24989,
    "start_time": "2022-12-16T13:26:04.003Z"
   },
   {
    "duration": 5,
    "start_time": "2022-12-16T13:26:28.994Z"
   },
   {
    "duration": 29,
    "start_time": "2022-12-16T13:26:29.001Z"
   },
   {
    "duration": 14,
    "start_time": "2022-12-16T13:26:29.032Z"
   },
   {
    "duration": 8,
    "start_time": "2022-12-16T13:26:29.048Z"
   },
   {
    "duration": 27,
    "start_time": "2022-12-16T13:26:29.058Z"
   },
   {
    "duration": 5,
    "start_time": "2022-12-16T13:26:29.087Z"
   },
   {
    "duration": 15,
    "start_time": "2022-12-16T13:26:29.093Z"
   },
   {
    "duration": 141,
    "start_time": "2022-12-16T13:26:29.113Z"
   },
   {
    "duration": 17,
    "start_time": "2022-12-16T13:26:29.255Z"
   },
   {
    "duration": 353,
    "start_time": "2022-12-16T13:26:29.274Z"
   },
   {
    "duration": 20,
    "start_time": "2022-12-16T13:26:29.629Z"
   },
   {
    "duration": 336,
    "start_time": "2022-12-16T13:26:29.651Z"
   },
   {
    "duration": 25,
    "start_time": "2022-12-16T13:26:29.989Z"
   },
   {
    "duration": 10,
    "start_time": "2022-12-16T13:26:30.016Z"
   },
   {
    "duration": 34,
    "start_time": "2022-12-16T13:26:30.029Z"
   },
   {
    "duration": 3176,
    "start_time": "2022-12-16T13:26:30.065Z"
   },
   {
    "duration": 15,
    "start_time": "2022-12-16T13:26:33.243Z"
   },
   {
    "duration": 6,
    "start_time": "2022-12-16T13:26:33.263Z"
   },
   {
    "duration": 17,
    "start_time": "2022-12-16T13:26:33.270Z"
   },
   {
    "duration": 1804,
    "start_time": "2022-12-16T13:26:33.289Z"
   },
   {
    "duration": 193,
    "start_time": "2022-12-16T13:26:35.096Z"
   },
   {
    "duration": 96,
    "start_time": "2022-12-16T13:26:35.290Z"
   },
   {
    "duration": 125,
    "start_time": "2022-12-16T13:26:35.387Z"
   },
   {
    "duration": 110,
    "start_time": "2022-12-16T13:26:35.514Z"
   },
   {
    "duration": 109,
    "start_time": "2022-12-16T13:26:35.626Z"
   },
   {
    "duration": 114,
    "start_time": "2022-12-16T13:26:35.736Z"
   },
   {
    "duration": 97,
    "start_time": "2022-12-16T13:26:35.851Z"
   },
   {
    "duration": 110,
    "start_time": "2022-12-16T13:26:35.950Z"
   },
   {
    "duration": 107,
    "start_time": "2022-12-16T13:26:36.061Z"
   },
   {
    "duration": 112,
    "start_time": "2022-12-16T13:26:36.169Z"
   },
   {
    "duration": 115,
    "start_time": "2022-12-16T13:26:36.283Z"
   },
   {
    "duration": 122,
    "start_time": "2022-12-16T13:26:36.400Z"
   },
   {
    "duration": 7,
    "start_time": "2022-12-16T13:26:36.523Z"
   },
   {
    "duration": 201,
    "start_time": "2022-12-16T13:26:36.532Z"
   },
   {
    "duration": 116,
    "start_time": "2022-12-16T13:26:36.735Z"
   },
   {
    "duration": 143,
    "start_time": "2022-12-16T13:26:36.853Z"
   },
   {
    "duration": 117,
    "start_time": "2022-12-16T13:26:36.998Z"
   },
   {
    "duration": 107,
    "start_time": "2022-12-16T13:26:37.116Z"
   },
   {
    "duration": 113,
    "start_time": "2022-12-16T13:26:37.224Z"
   },
   {
    "duration": 105,
    "start_time": "2022-12-16T13:26:37.339Z"
   },
   {
    "duration": 103,
    "start_time": "2022-12-16T13:26:37.446Z"
   },
   {
    "duration": 131,
    "start_time": "2022-12-16T13:26:37.552Z"
   },
   {
    "duration": 97,
    "start_time": "2022-12-16T13:26:37.685Z"
   },
   {
    "duration": 114,
    "start_time": "2022-12-16T13:26:37.784Z"
   },
   {
    "duration": 114,
    "start_time": "2022-12-16T13:26:37.900Z"
   },
   {
    "duration": 5,
    "start_time": "2022-12-16T13:26:38.016Z"
   },
   {
    "duration": 231,
    "start_time": "2022-12-16T13:26:38.023Z"
   },
   {
    "duration": 6,
    "start_time": "2022-12-16T13:26:38.257Z"
   },
   {
    "duration": 161,
    "start_time": "2022-12-16T13:26:38.265Z"
   },
   {
    "duration": 6,
    "start_time": "2022-12-16T13:26:38.427Z"
   },
   {
    "duration": 31,
    "start_time": "2022-12-16T13:26:38.435Z"
   },
   {
    "duration": 29,
    "start_time": "2022-12-16T13:26:38.468Z"
   },
   {
    "duration": 19,
    "start_time": "2022-12-16T13:26:38.499Z"
   },
   {
    "duration": 22,
    "start_time": "2022-12-16T13:26:38.520Z"
   },
   {
    "duration": 19,
    "start_time": "2022-12-16T13:26:38.544Z"
   },
   {
    "duration": 17,
    "start_time": "2022-12-16T13:26:38.564Z"
   },
   {
    "duration": 32,
    "start_time": "2022-12-16T13:26:38.583Z"
   },
   {
    "duration": 18,
    "start_time": "2022-12-16T13:26:38.617Z"
   },
   {
    "duration": 25,
    "start_time": "2022-12-16T13:26:38.636Z"
   },
   {
    "duration": 27,
    "start_time": "2022-12-16T13:26:38.663Z"
   },
   {
    "duration": 180,
    "start_time": "2022-12-16T13:26:38.692Z"
   },
   {
    "duration": 11,
    "start_time": "2022-12-16T13:26:38.874Z"
   },
   {
    "duration": 31,
    "start_time": "2022-12-16T13:26:38.886Z"
   },
   {
    "duration": 3,
    "start_time": "2022-12-16T13:29:11.539Z"
   },
   {
    "duration": 61,
    "start_time": "2022-12-16T13:29:13.507Z"
   },
   {
    "duration": 14,
    "start_time": "2022-12-16T13:29:16.460Z"
   },
   {
    "duration": 4,
    "start_time": "2022-12-16T13:29:21.170Z"
   },
   {
    "duration": 12,
    "start_time": "2022-12-16T13:29:24.677Z"
   },
   {
    "duration": 8,
    "start_time": "2022-12-16T13:29:29.347Z"
   },
   {
    "duration": 769,
    "start_time": "2022-12-16T13:29:32.756Z"
   },
   {
    "duration": 6,
    "start_time": "2022-12-16T13:29:37.564Z"
   },
   {
    "duration": 13,
    "start_time": "2022-12-16T13:29:43.244Z"
   },
   {
    "duration": 26053,
    "start_time": "2022-12-16T13:29:51.924Z"
   },
   {
    "duration": 4,
    "start_time": "2022-12-16T13:30:20.667Z"
   },
   {
    "duration": 9,
    "start_time": "2022-12-16T13:30:23.675Z"
   },
   {
    "duration": 14,
    "start_time": "2022-12-16T13:30:28.459Z"
   },
   {
    "duration": 8,
    "start_time": "2022-12-16T13:30:31.003Z"
   },
   {
    "duration": 16,
    "start_time": "2022-12-16T13:30:33.498Z"
   },
   {
    "duration": 5,
    "start_time": "2022-12-16T13:30:36.570Z"
   },
   {
    "duration": 9,
    "start_time": "2022-12-16T13:30:39.563Z"
   },
   {
    "duration": 111,
    "start_time": "2022-12-16T13:30:41.978Z"
   },
   {
    "duration": 18,
    "start_time": "2022-12-16T13:30:47.867Z"
   },
   {
    "duration": 320,
    "start_time": "2022-12-16T13:30:51.875Z"
   },
   {
    "duration": 21,
    "start_time": "2022-12-16T13:30:55.485Z"
   },
   {
    "duration": 315,
    "start_time": "2022-12-16T13:31:01.090Z"
   },
   {
    "duration": 16,
    "start_time": "2022-12-16T13:31:06.455Z"
   },
   {
    "duration": 9,
    "start_time": "2022-12-16T13:31:12.562Z"
   },
   {
    "duration": 3,
    "start_time": "2022-12-16T13:31:20.885Z"
   },
   {
    "duration": 3027,
    "start_time": "2022-12-16T13:31:29.189Z"
   },
   {
    "duration": 16,
    "start_time": "2022-12-16T13:31:45.194Z"
   },
   {
    "duration": 16,
    "start_time": "2022-12-16T13:32:47.595Z"
   },
   {
    "duration": 29,
    "start_time": "2022-12-16T13:35:13.130Z"
   },
   {
    "duration": 18,
    "start_time": "2022-12-16T13:35:24.630Z"
   },
   {
    "duration": 20,
    "start_time": "2022-12-16T13:36:35.465Z"
   },
   {
    "duration": 14,
    "start_time": "2022-12-16T13:39:14.593Z"
   },
   {
    "duration": 101,
    "start_time": "2022-12-16T13:39:29.496Z"
   },
   {
    "duration": 28,
    "start_time": "2022-12-16T13:39:39.289Z"
   },
   {
    "duration": 30,
    "start_time": "2022-12-16T13:40:44.185Z"
   },
   {
    "duration": 24,
    "start_time": "2022-12-16T16:35:15.145Z"
   },
   {
    "duration": 16,
    "start_time": "2022-12-16T16:35:44.799Z"
   },
   {
    "duration": 14,
    "start_time": "2022-12-16T16:35:52.894Z"
   },
   {
    "duration": 28,
    "start_time": "2022-12-16T16:36:01.390Z"
   },
   {
    "duration": 11,
    "start_time": "2022-12-16T16:41:30.867Z"
   },
   {
    "duration": 10,
    "start_time": "2022-12-16T16:41:40.685Z"
   },
   {
    "duration": 25,
    "start_time": "2022-12-16T16:41:51.555Z"
   },
   {
    "duration": 1088,
    "start_time": "2022-12-16T16:42:33.162Z"
   },
   {
    "duration": 20,
    "start_time": "2022-12-16T16:42:44.547Z"
   },
   {
    "duration": 1166,
    "start_time": "2022-12-16T16:43:55.690Z"
   },
   {
    "duration": 25,
    "start_time": "2022-12-16T16:44:11.618Z"
   },
   {
    "duration": 17,
    "start_time": "2022-12-16T16:45:22.297Z"
   },
   {
    "duration": 18,
    "start_time": "2022-12-16T16:45:32.049Z"
   },
   {
    "duration": 20,
    "start_time": "2022-12-16T16:46:19.569Z"
   },
   {
    "duration": 20,
    "start_time": "2022-12-16T16:49:25.160Z"
   },
   {
    "duration": 26,
    "start_time": "2022-12-16T16:49:46.249Z"
   },
   {
    "duration": 21,
    "start_time": "2022-12-16T16:50:02.089Z"
   },
   {
    "duration": 17,
    "start_time": "2022-12-16T16:50:07.687Z"
   },
   {
    "duration": 18,
    "start_time": "2022-12-16T16:52:42.664Z"
   },
   {
    "duration": 18,
    "start_time": "2022-12-16T16:52:46.645Z"
   },
   {
    "duration": 17,
    "start_time": "2022-12-16T16:53:51.975Z"
   },
   {
    "duration": 76,
    "start_time": "2022-12-16T16:54:02.086Z"
   },
   {
    "duration": 4,
    "start_time": "2022-12-16T16:54:59.366Z"
   },
   {
    "duration": 16,
    "start_time": "2022-12-16T16:55:43.782Z"
   },
   {
    "duration": 18,
    "start_time": "2022-12-16T16:56:15.381Z"
   },
   {
    "duration": 16,
    "start_time": "2022-12-16T16:56:21.060Z"
   },
   {
    "duration": 23,
    "start_time": "2022-12-16T16:56:38.949Z"
   },
   {
    "duration": 5,
    "start_time": "2022-12-16T16:59:50.564Z"
   },
   {
    "duration": 14,
    "start_time": "2022-12-16T17:00:27.573Z"
   },
   {
    "duration": 1749,
    "start_time": "2022-12-16T17:00:31.196Z"
   },
   {
    "duration": 1651,
    "start_time": "2022-12-16T17:00:36.746Z"
   },
   {
    "duration": 327,
    "start_time": "2022-12-16T17:11:18.455Z"
   },
   {
    "duration": 230,
    "start_time": "2022-12-16T17:12:26.055Z"
   },
   {
    "duration": 5,
    "start_time": "2022-12-16T17:13:44.550Z"
   },
   {
    "duration": 246,
    "start_time": "2022-12-16T17:13:51.487Z"
   },
   {
    "duration": 8,
    "start_time": "2022-12-16T17:13:58.558Z"
   },
   {
    "duration": 261,
    "start_time": "2022-12-16T17:14:09.719Z"
   },
   {
    "duration": 273,
    "start_time": "2022-12-16T17:15:04.901Z"
   },
   {
    "duration": 338,
    "start_time": "2022-12-16T17:15:28.302Z"
   },
   {
    "duration": 258,
    "start_time": "2022-12-16T17:17:59.188Z"
   },
   {
    "duration": 270,
    "start_time": "2022-12-16T17:18:04.717Z"
   },
   {
    "duration": 7,
    "start_time": "2022-12-16T17:27:55.426Z"
   },
   {
    "duration": 158,
    "start_time": "2022-12-16T17:27:56.025Z"
   },
   {
    "duration": 9,
    "start_time": "2022-12-16T17:31:26.566Z"
   },
   {
    "duration": 4,
    "start_time": "2022-12-16T17:31:35.071Z"
   },
   {
    "duration": 6,
    "start_time": "2022-12-16T17:31:45.823Z"
   },
   {
    "duration": 138,
    "start_time": "2022-12-16T17:32:03.222Z"
   },
   {
    "duration": 5,
    "start_time": "2022-12-16T17:32:06.510Z"
   },
   {
    "duration": 6,
    "start_time": "2022-12-16T17:32:20.255Z"
   },
   {
    "duration": 33,
    "start_time": "2022-12-16T17:36:33.484Z"
   },
   {
    "duration": 8,
    "start_time": "2022-12-16T17:36:39.405Z"
   },
   {
    "duration": 8,
    "start_time": "2022-12-16T17:37:04.907Z"
   },
   {
    "duration": 11,
    "start_time": "2022-12-16T17:37:24.596Z"
   },
   {
    "duration": 7,
    "start_time": "2022-12-16T17:37:29.827Z"
   },
   {
    "duration": 25,
    "start_time": "2022-12-16T17:38:38.507Z"
   },
   {
    "duration": 9,
    "start_time": "2022-12-16T17:38:44.602Z"
   },
   {
    "duration": 8,
    "start_time": "2022-12-16T17:40:20.859Z"
   },
   {
    "duration": 6,
    "start_time": "2022-12-16T17:40:34.803Z"
   },
   {
    "duration": 8,
    "start_time": "2022-12-16T17:40:48.049Z"
   },
   {
    "duration": 5,
    "start_time": "2022-12-16T17:40:55.586Z"
   },
   {
    "duration": 128,
    "start_time": "2022-12-16T17:42:07.960Z"
   },
   {
    "duration": 129,
    "start_time": "2022-12-16T17:42:29.808Z"
   },
   {
    "duration": 143,
    "start_time": "2022-12-16T17:43:01.184Z"
   },
   {
    "duration": 153,
    "start_time": "2022-12-16T17:43:11.704Z"
   },
   {
    "duration": 130,
    "start_time": "2022-12-16T17:43:23.072Z"
   },
   {
    "duration": 239,
    "start_time": "2022-12-16T17:43:39.456Z"
   },
   {
    "duration": 14,
    "start_time": "2022-12-16T17:44:07.040Z"
   },
   {
    "duration": 14,
    "start_time": "2022-12-16T17:44:12.681Z"
   },
   {
    "duration": 13,
    "start_time": "2022-12-16T18:22:56.230Z"
   },
   {
    "duration": 252,
    "start_time": "2022-12-16T18:23:27.045Z"
   },
   {
    "duration": 261,
    "start_time": "2022-12-16T18:23:45.722Z"
   },
   {
    "duration": 257,
    "start_time": "2022-12-16T18:23:52.817Z"
   },
   {
    "duration": 258,
    "start_time": "2022-12-16T18:24:04.829Z"
   },
   {
    "duration": 311,
    "start_time": "2022-12-16T18:24:10.125Z"
   },
   {
    "duration": 15,
    "start_time": "2022-12-16T18:53:17.857Z"
   },
   {
    "duration": 17,
    "start_time": "2022-12-16T18:53:23.843Z"
   },
   {
    "duration": 16,
    "start_time": "2022-12-16T18:53:26.407Z"
   },
   {
    "duration": 732,
    "start_time": "2022-12-16T19:01:33.326Z"
   },
   {
    "duration": 541,
    "start_time": "2022-12-16T19:01:50.644Z"
   },
   {
    "duration": 198,
    "start_time": "2022-12-16T19:02:13.790Z"
   },
   {
    "duration": 197,
    "start_time": "2022-12-16T19:02:33.820Z"
   },
   {
    "duration": 274,
    "start_time": "2022-12-16T19:02:47.084Z"
   },
   {
    "duration": 313,
    "start_time": "2022-12-16T19:02:52.925Z"
   },
   {
    "duration": 422,
    "start_time": "2022-12-16T19:03:18.092Z"
   },
   {
    "duration": 314,
    "start_time": "2022-12-16T19:03:29.427Z"
   },
   {
    "duration": 350,
    "start_time": "2022-12-16T19:03:34.475Z"
   },
   {
    "duration": 318,
    "start_time": "2022-12-16T19:03:46.530Z"
   },
   {
    "duration": 17,
    "start_time": "2022-12-16T19:03:57.898Z"
   },
   {
    "duration": 15,
    "start_time": "2022-12-16T19:04:03.627Z"
   },
   {
    "duration": 18,
    "start_time": "2022-12-16T19:04:05.178Z"
   },
   {
    "duration": 184,
    "start_time": "2022-12-16T19:04:30.123Z"
   },
   {
    "duration": 10,
    "start_time": "2022-12-16T19:11:59.391Z"
   },
   {
    "duration": 10,
    "start_time": "2022-12-16T19:12:02.663Z"
   },
   {
    "duration": 1145,
    "start_time": "2022-12-16T19:27:59.837Z"
   },
   {
    "duration": 67,
    "start_time": "2022-12-16T19:28:00.984Z"
   },
   {
    "duration": 13,
    "start_time": "2022-12-16T19:28:01.055Z"
   },
   {
    "duration": 10,
    "start_time": "2022-12-16T19:28:01.070Z"
   },
   {
    "duration": 27,
    "start_time": "2022-12-16T19:28:01.082Z"
   },
   {
    "duration": 16,
    "start_time": "2022-12-16T19:28:01.110Z"
   },
   {
    "duration": 781,
    "start_time": "2022-12-16T19:28:01.127Z"
   },
   {
    "duration": 5,
    "start_time": "2022-12-16T19:28:01.910Z"
   },
   {
    "duration": 34,
    "start_time": "2022-12-16T19:28:01.918Z"
   },
   {
    "duration": 25181,
    "start_time": "2022-12-16T19:28:01.953Z"
   },
   {
    "duration": 4,
    "start_time": "2022-12-16T19:28:27.136Z"
   },
   {
    "duration": 14,
    "start_time": "2022-12-16T19:28:27.141Z"
   },
   {
    "duration": 15,
    "start_time": "2022-12-16T19:28:27.156Z"
   },
   {
    "duration": 7,
    "start_time": "2022-12-16T19:28:27.173Z"
   },
   {
    "duration": 33,
    "start_time": "2022-12-16T19:28:27.181Z"
   },
   {
    "duration": 5,
    "start_time": "2022-12-16T19:28:27.215Z"
   },
   {
    "duration": 11,
    "start_time": "2022-12-16T19:28:27.221Z"
   },
   {
    "duration": 149,
    "start_time": "2022-12-16T19:28:27.233Z"
   },
   {
    "duration": 16,
    "start_time": "2022-12-16T19:28:27.383Z"
   },
   {
    "duration": 346,
    "start_time": "2022-12-16T19:28:27.401Z"
   },
   {
    "duration": 24,
    "start_time": "2022-12-16T19:28:27.748Z"
   },
   {
    "duration": 337,
    "start_time": "2022-12-16T19:28:27.773Z"
   },
   {
    "duration": 16,
    "start_time": "2022-12-16T19:28:28.113Z"
   },
   {
    "duration": 9,
    "start_time": "2022-12-16T19:28:28.130Z"
   },
   {
    "duration": 6,
    "start_time": "2022-12-16T19:28:28.141Z"
   },
   {
    "duration": 3013,
    "start_time": "2022-12-16T19:28:28.149Z"
   },
   {
    "duration": 17,
    "start_time": "2022-12-16T19:28:31.165Z"
   },
   {
    "duration": 23,
    "start_time": "2022-12-16T19:28:31.183Z"
   },
   {
    "duration": 39,
    "start_time": "2022-12-16T19:28:31.208Z"
   },
   {
    "duration": 1733,
    "start_time": "2022-12-16T19:28:31.248Z"
   },
   {
    "duration": 309,
    "start_time": "2022-12-16T19:28:32.983Z"
   },
   {
    "duration": 5,
    "start_time": "2022-12-16T19:28:33.293Z"
   },
   {
    "duration": 268,
    "start_time": "2022-12-16T19:28:33.312Z"
   },
   {
    "duration": 5,
    "start_time": "2022-12-16T19:28:33.583Z"
   },
   {
    "duration": 145,
    "start_time": "2022-12-16T19:28:33.591Z"
   },
   {
    "duration": 5,
    "start_time": "2022-12-16T19:28:33.738Z"
   },
   {
    "duration": 155,
    "start_time": "2022-12-16T19:28:33.745Z"
   },
   {
    "duration": 13,
    "start_time": "2022-12-16T19:28:33.902Z"
   },
   {
    "duration": 82,
    "start_time": "2022-12-16T19:28:33.917Z"
   },
   {
    "duration": 0,
    "start_time": "2022-12-16T19:28:34.000Z"
   },
   {
    "duration": 0,
    "start_time": "2022-12-16T19:28:34.001Z"
   },
   {
    "duration": 0,
    "start_time": "2022-12-16T19:28:34.003Z"
   },
   {
    "duration": 0,
    "start_time": "2022-12-16T19:28:34.004Z"
   },
   {
    "duration": 0,
    "start_time": "2022-12-16T19:28:34.005Z"
   },
   {
    "duration": 0,
    "start_time": "2022-12-16T19:28:34.006Z"
   },
   {
    "duration": 0,
    "start_time": "2022-12-16T19:28:34.007Z"
   },
   {
    "duration": 0,
    "start_time": "2022-12-16T19:28:34.008Z"
   },
   {
    "duration": 0,
    "start_time": "2022-12-16T19:28:34.009Z"
   },
   {
    "duration": 0,
    "start_time": "2022-12-16T19:28:34.010Z"
   },
   {
    "duration": 0,
    "start_time": "2022-12-16T19:28:34.011Z"
   },
   {
    "duration": 0,
    "start_time": "2022-12-16T19:28:34.012Z"
   },
   {
    "duration": 0,
    "start_time": "2022-12-16T19:28:34.013Z"
   },
   {
    "duration": 0,
    "start_time": "2022-12-16T19:28:34.014Z"
   },
   {
    "duration": 0,
    "start_time": "2022-12-16T19:28:34.015Z"
   },
   {
    "duration": 0,
    "start_time": "2022-12-16T19:28:34.016Z"
   },
   {
    "duration": 89,
    "start_time": "2022-12-16T19:29:23.496Z"
   },
   {
    "duration": 8,
    "start_time": "2022-12-16T19:29:48.986Z"
   },
   {
    "duration": 5,
    "start_time": "2022-12-16T19:29:51.240Z"
   },
   {
    "duration": 1056,
    "start_time": "2022-12-16T19:30:04.211Z"
   },
   {
    "duration": 64,
    "start_time": "2022-12-16T19:30:05.269Z"
   },
   {
    "duration": 12,
    "start_time": "2022-12-16T19:30:05.335Z"
   },
   {
    "duration": 12,
    "start_time": "2022-12-16T19:30:05.349Z"
   },
   {
    "duration": 11,
    "start_time": "2022-12-16T19:30:05.362Z"
   },
   {
    "duration": 16,
    "start_time": "2022-12-16T19:30:05.375Z"
   },
   {
    "duration": 741,
    "start_time": "2022-12-16T19:30:05.393Z"
   },
   {
    "duration": 5,
    "start_time": "2022-12-16T19:30:06.136Z"
   },
   {
    "duration": 13,
    "start_time": "2022-12-16T19:30:06.142Z"
   },
   {
    "duration": 24959,
    "start_time": "2022-12-16T19:30:06.158Z"
   },
   {
    "duration": 4,
    "start_time": "2022-12-16T19:30:31.119Z"
   },
   {
    "duration": 21,
    "start_time": "2022-12-16T19:30:31.125Z"
   },
   {
    "duration": 28,
    "start_time": "2022-12-16T19:30:31.147Z"
   },
   {
    "duration": 8,
    "start_time": "2022-12-16T19:30:31.177Z"
   },
   {
    "duration": 30,
    "start_time": "2022-12-16T19:30:31.187Z"
   },
   {
    "duration": 5,
    "start_time": "2022-12-16T19:30:31.219Z"
   },
   {
    "duration": 27,
    "start_time": "2022-12-16T19:30:31.226Z"
   },
   {
    "duration": 142,
    "start_time": "2022-12-16T19:30:31.254Z"
   },
   {
    "duration": 20,
    "start_time": "2022-12-16T19:30:31.397Z"
   },
   {
    "duration": 346,
    "start_time": "2022-12-16T19:30:31.419Z"
   },
   {
    "duration": 20,
    "start_time": "2022-12-16T19:30:31.767Z"
   },
   {
    "duration": 331,
    "start_time": "2022-12-16T19:30:31.788Z"
   },
   {
    "duration": 16,
    "start_time": "2022-12-16T19:30:32.121Z"
   },
   {
    "duration": 14,
    "start_time": "2022-12-16T19:30:32.138Z"
   },
   {
    "duration": 7,
    "start_time": "2022-12-16T19:30:32.153Z"
   },
   {
    "duration": 2971,
    "start_time": "2022-12-16T19:30:32.161Z"
   },
   {
    "duration": 16,
    "start_time": "2022-12-16T19:30:35.134Z"
   },
   {
    "duration": 35,
    "start_time": "2022-12-16T19:30:35.153Z"
   },
   {
    "duration": 30,
    "start_time": "2022-12-16T19:30:35.190Z"
   },
   {
    "duration": 1677,
    "start_time": "2022-12-16T19:30:35.221Z"
   },
   {
    "duration": 334,
    "start_time": "2022-12-16T19:30:36.900Z"
   },
   {
    "duration": 5,
    "start_time": "2022-12-16T19:30:37.236Z"
   },
   {
    "duration": 262,
    "start_time": "2022-12-16T19:30:37.243Z"
   },
   {
    "duration": 8,
    "start_time": "2022-12-16T19:30:37.506Z"
   },
   {
    "duration": 146,
    "start_time": "2022-12-16T19:30:37.515Z"
   },
   {
    "duration": 4,
    "start_time": "2022-12-16T19:30:37.662Z"
   },
   {
    "duration": 140,
    "start_time": "2022-12-16T19:30:37.668Z"
   },
   {
    "duration": 4,
    "start_time": "2022-12-16T19:30:37.812Z"
   },
   {
    "duration": 9,
    "start_time": "2022-12-16T19:30:37.818Z"
   },
   {
    "duration": 7,
    "start_time": "2022-12-16T19:30:37.828Z"
   },
   {
    "duration": 143,
    "start_time": "2022-12-16T19:30:37.836Z"
   },
   {
    "duration": 140,
    "start_time": "2022-12-16T19:30:37.981Z"
   },
   {
    "duration": 14,
    "start_time": "2022-12-16T19:30:38.123Z"
   },
   {
    "duration": 14,
    "start_time": "2022-12-16T19:30:38.138Z"
   },
   {
    "duration": 274,
    "start_time": "2022-12-16T19:30:38.153Z"
   },
   {
    "duration": 16,
    "start_time": "2022-12-16T19:30:38.429Z"
   },
   {
    "duration": 17,
    "start_time": "2022-12-16T19:30:38.446Z"
   },
   {
    "duration": 15,
    "start_time": "2022-12-16T19:30:38.465Z"
   },
   {
    "duration": 435,
    "start_time": "2022-12-16T19:30:38.481Z"
   },
   {
    "duration": 17,
    "start_time": "2022-12-16T19:30:38.918Z"
   },
   {
    "duration": 20,
    "start_time": "2022-12-16T19:30:38.937Z"
   },
   {
    "duration": 17,
    "start_time": "2022-12-16T19:30:38.958Z"
   },
   {
    "duration": 197,
    "start_time": "2022-12-16T19:30:38.977Z"
   },
   {
    "duration": 10,
    "start_time": "2022-12-16T19:30:39.176Z"
   },
   {
    "duration": 11,
    "start_time": "2022-12-16T19:30:39.188Z"
   },
   {
    "duration": 1085,
    "start_time": "2022-12-16T19:40:51.610Z"
   },
   {
    "duration": 67,
    "start_time": "2022-12-16T19:40:52.697Z"
   },
   {
    "duration": 13,
    "start_time": "2022-12-16T19:40:52.765Z"
   },
   {
    "duration": 4,
    "start_time": "2022-12-16T19:40:52.780Z"
   },
   {
    "duration": 11,
    "start_time": "2022-12-16T19:40:52.785Z"
   },
   {
    "duration": 16,
    "start_time": "2022-12-16T19:40:52.797Z"
   },
   {
    "duration": 779,
    "start_time": "2022-12-16T19:40:52.815Z"
   },
   {
    "duration": 5,
    "start_time": "2022-12-16T19:40:53.596Z"
   },
   {
    "duration": 22,
    "start_time": "2022-12-16T19:40:53.602Z"
   },
   {
    "duration": 24272,
    "start_time": "2022-12-16T19:40:53.627Z"
   },
   {
    "duration": 4,
    "start_time": "2022-12-16T19:41:17.900Z"
   },
   {
    "duration": 14,
    "start_time": "2022-12-16T19:41:17.906Z"
   },
   {
    "duration": 18,
    "start_time": "2022-12-16T19:41:17.922Z"
   },
   {
    "duration": 8,
    "start_time": "2022-12-16T19:41:17.941Z"
   },
   {
    "duration": 19,
    "start_time": "2022-12-16T19:41:17.952Z"
   },
   {
    "duration": 9,
    "start_time": "2022-12-16T19:41:17.973Z"
   },
   {
    "duration": 13,
    "start_time": "2022-12-16T19:41:17.984Z"
   },
   {
    "duration": 131,
    "start_time": "2022-12-16T19:41:18.014Z"
   },
   {
    "duration": 16,
    "start_time": "2022-12-16T19:41:18.146Z"
   },
   {
    "duration": 326,
    "start_time": "2022-12-16T19:41:18.163Z"
   },
   {
    "duration": 29,
    "start_time": "2022-12-16T19:41:18.491Z"
   },
   {
    "duration": 332,
    "start_time": "2022-12-16T19:41:18.522Z"
   },
   {
    "duration": 15,
    "start_time": "2022-12-16T19:41:18.856Z"
   },
   {
    "duration": 11,
    "start_time": "2022-12-16T19:41:18.872Z"
   },
   {
    "duration": 14,
    "start_time": "2022-12-16T19:41:18.885Z"
   },
   {
    "duration": 2918,
    "start_time": "2022-12-16T19:41:18.900Z"
   },
   {
    "duration": 16,
    "start_time": "2022-12-16T19:41:21.820Z"
   },
   {
    "duration": 7,
    "start_time": "2022-12-16T19:41:21.839Z"
   },
   {
    "duration": 17,
    "start_time": "2022-12-16T19:41:21.848Z"
   },
   {
    "duration": 1782,
    "start_time": "2022-12-16T19:41:21.867Z"
   },
   {
    "duration": 318,
    "start_time": "2022-12-16T19:41:23.651Z"
   },
   {
    "duration": 5,
    "start_time": "2022-12-16T19:41:23.971Z"
   },
   {
    "duration": 252,
    "start_time": "2022-12-16T19:41:23.977Z"
   },
   {
    "duration": 7,
    "start_time": "2022-12-16T19:41:24.231Z"
   },
   {
    "duration": 137,
    "start_time": "2022-12-16T19:41:24.240Z"
   },
   {
    "duration": 4,
    "start_time": "2022-12-16T19:41:24.379Z"
   },
   {
    "duration": 145,
    "start_time": "2022-12-16T19:41:24.385Z"
   },
   {
    "duration": 5,
    "start_time": "2022-12-16T19:41:24.533Z"
   },
   {
    "duration": 11,
    "start_time": "2022-12-16T19:41:24.540Z"
   },
   {
    "duration": 6,
    "start_time": "2022-12-16T19:41:24.552Z"
   },
   {
    "duration": 166,
    "start_time": "2022-12-16T19:41:24.559Z"
   },
   {
    "duration": 138,
    "start_time": "2022-12-16T19:41:24.727Z"
   },
   {
    "duration": 12,
    "start_time": "2022-12-16T19:41:24.867Z"
   },
   {
    "duration": 16,
    "start_time": "2022-12-16T19:41:24.881Z"
   },
   {
    "duration": 264,
    "start_time": "2022-12-16T19:41:24.899Z"
   },
   {
    "duration": 15,
    "start_time": "2022-12-16T19:41:25.165Z"
   },
   {
    "duration": 32,
    "start_time": "2022-12-16T19:41:25.181Z"
   },
   {
    "duration": 16,
    "start_time": "2022-12-16T19:41:25.214Z"
   },
   {
    "duration": 407,
    "start_time": "2022-12-16T19:41:25.231Z"
   },
   {
    "duration": 16,
    "start_time": "2022-12-16T19:41:25.640Z"
   },
   {
    "duration": 19,
    "start_time": "2022-12-16T19:41:25.658Z"
   },
   {
    "duration": 37,
    "start_time": "2022-12-16T19:41:25.679Z"
   },
   {
    "duration": 186,
    "start_time": "2022-12-16T19:41:25.718Z"
   },
   {
    "duration": 16,
    "start_time": "2022-12-16T19:41:25.906Z"
   },
   {
    "duration": 11,
    "start_time": "2022-12-16T19:41:25.924Z"
   }
  ],
  "kernelspec": {
   "display_name": "Python 3 (ipykernel)",
   "language": "python",
   "name": "python3"
  },
  "language_info": {
   "codemirror_mode": {
    "name": "ipython",
    "version": 3
   },
   "file_extension": ".py",
   "mimetype": "text/x-python",
   "name": "python",
   "nbconvert_exporter": "python",
   "pygments_lexer": "ipython3",
   "version": "3.9.13"
  },
  "toc": {
   "base_numbering": 1,
   "nav_menu": {},
   "number_sections": true,
   "sideBar": true,
   "skip_h1_title": true,
   "title_cell": "Table of Contents",
   "title_sidebar": "Contents",
   "toc_cell": false,
   "toc_position": {},
   "toc_section_display": true,
   "toc_window_display": false
  }
 },
 "nbformat": 4,
 "nbformat_minor": 2
}
